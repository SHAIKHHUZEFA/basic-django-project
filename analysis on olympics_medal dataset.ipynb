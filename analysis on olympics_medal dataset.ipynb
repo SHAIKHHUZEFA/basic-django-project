{
  "nbformat": 4,
  "nbformat_minor": 0,
  "metadata": {
    "colab": {
      "name": "olympics medal.ipynb",
      "provenance": [],
      "authorship_tag": "ABX9TyNWQWLxZcn5XZt9P6HA8F09",
      "include_colab_link": true
    },
    "kernelspec": {
      "name": "python3",
      "display_name": "Python 3"
    }
  },
  "cells": [
    {
      "cell_type": "markdown",
      "metadata": {
        "id": "view-in-github",
        "colab_type": "text"
      },
      "source": [
        "<a href=\"https://colab.research.google.com/github/SHAIKHHUZEFA/basic-django-project/blob/master/analysis%20on%20olympics_medal%20dataset.ipynb\" target=\"_parent\"><img src=\"https://colab.research.google.com/assets/colab-badge.svg\" alt=\"Open In Colab\"/></a>"
      ]
    },
    {
      "cell_type": "code",
      "metadata": {
        "id": "uxoATPDxOuEB",
        "colab_type": "code",
        "outputId": "f4b33ca3-e5b0-4ce1-c276-a1af10247b0f",
        "colab": {
          "base_uri": "https://localhost:8080/",
          "height": 122
        }
      },
      "source": [
        "from google.colab import drive\n",
        "drive.mount('/gdrive')"
      ],
      "execution_count": 0,
      "outputs": [
        {
          "output_type": "stream",
          "text": [
            "Go to this URL in a browser: https://accounts.google.com/o/oauth2/auth?client_id=947318989803-6bn6qk8qdgf4n4g3pfee6491hc0brc4i.apps.googleusercontent.com&redirect_uri=urn%3aietf%3awg%3aoauth%3a2.0%3aoob&response_type=code&scope=email%20https%3a%2f%2fwww.googleapis.com%2fauth%2fdocs.test%20https%3a%2f%2fwww.googleapis.com%2fauth%2fdrive%20https%3a%2f%2fwww.googleapis.com%2fauth%2fdrive.photos.readonly%20https%3a%2f%2fwww.googleapis.com%2fauth%2fpeopleapi.readonly\n",
            "\n",
            "Enter your authorization code:\n",
            "··········\n",
            "Mounted at /gdrive\n"
          ],
          "name": "stdout"
        }
      ]
    },
    {
      "cell_type": "code",
      "metadata": {
        "id": "SDLGljR6PC_b",
        "colab_type": "code",
        "colab": {}
      },
      "source": [
        "import pandas as pd\n",
        "import numpy as np"
      ],
      "execution_count": 0,
      "outputs": []
    },
    {
      "cell_type": "code",
      "metadata": {
        "id": "j9umFgnBPLN0",
        "colab_type": "code",
        "colab": {}
      },
      "source": [
        "df=pd.read_csv('/gdrive/My Drive/olympics.csv', encoding='latin-1')"
      ],
      "execution_count": 0,
      "outputs": []
    },
    {
      "cell_type": "code",
      "metadata": {
        "id": "I6MVwsWNPLJd",
        "colab_type": "code",
        "outputId": "2eb89c56-aac3-443c-d06c-fc5e04e20288",
        "colab": {
          "base_uri": "https://localhost:8080/",
          "height": 326
        }
      },
      "source": [
        "df.head()"
      ],
      "execution_count": 0,
      "outputs": [
        {
          "output_type": "execute_result",
          "data": {
            "text/html": [
              "<div>\n",
              "<style scoped>\n",
              "    .dataframe tbody tr th:only-of-type {\n",
              "        vertical-align: middle;\n",
              "    }\n",
              "\n",
              "    .dataframe tbody tr th {\n",
              "        vertical-align: top;\n",
              "    }\n",
              "\n",
              "    .dataframe thead th {\n",
              "        text-align: right;\n",
              "    }\n",
              "</style>\n",
              "<table border=\"1\" class=\"dataframe\">\n",
              "  <thead>\n",
              "    <tr style=\"text-align: right;\">\n",
              "      <th></th>\n",
              "      <th>year</th>\n",
              "      <th>songtitle</th>\n",
              "      <th>artistname</th>\n",
              "      <th>songID</th>\n",
              "      <th>artistID</th>\n",
              "      <th>timesignature</th>\n",
              "      <th>timesignature_confidence</th>\n",
              "      <th>loudness</th>\n",
              "      <th>tempo</th>\n",
              "      <th>tempo_confidence</th>\n",
              "      <th>key</th>\n",
              "      <th>key_confidence</th>\n",
              "      <th>energy</th>\n",
              "      <th>pitch</th>\n",
              "      <th>timbre_0_min</th>\n",
              "      <th>timbre_0_max</th>\n",
              "      <th>timbre_1_min</th>\n",
              "      <th>timbre_1_max</th>\n",
              "      <th>timbre_2_min</th>\n",
              "      <th>timbre_2_max</th>\n",
              "      <th>timbre_3_min</th>\n",
              "      <th>timbre_3_max</th>\n",
              "      <th>timbre_4_min</th>\n",
              "      <th>timbre_4_max</th>\n",
              "      <th>timbre_5_min</th>\n",
              "      <th>timbre_5_max</th>\n",
              "      <th>timbre_6_min</th>\n",
              "      <th>timbre_6_max</th>\n",
              "      <th>timbre_7_min</th>\n",
              "      <th>timbre_7_max</th>\n",
              "      <th>timbre_8_min</th>\n",
              "      <th>timbre_8_max</th>\n",
              "      <th>timbre_9_min</th>\n",
              "      <th>timbre_9_max</th>\n",
              "      <th>timbre_10_min</th>\n",
              "      <th>timbre_10_max</th>\n",
              "      <th>timbre_11_min</th>\n",
              "      <th>timbre_11_max</th>\n",
              "      <th>Top10</th>\n",
              "    </tr>\n",
              "  </thead>\n",
              "  <tbody>\n",
              "    <tr>\n",
              "      <th>0</th>\n",
              "      <td>2010</td>\n",
              "      <td>This Is the House That Doubt Built</td>\n",
              "      <td>A Day to Remember</td>\n",
              "      <td>SOBGGAB12C5664F054</td>\n",
              "      <td>AROBSHL1187B9AFB01</td>\n",
              "      <td>3</td>\n",
              "      <td>0.853</td>\n",
              "      <td>-4.262</td>\n",
              "      <td>91.525</td>\n",
              "      <td>0.953</td>\n",
              "      <td>11</td>\n",
              "      <td>0.453</td>\n",
              "      <td>0.966656</td>\n",
              "      <td>0.024</td>\n",
              "      <td>0.002</td>\n",
              "      <td>57.342</td>\n",
              "      <td>-6.496</td>\n",
              "      <td>171.093</td>\n",
              "      <td>-81.664</td>\n",
              "      <td>95.117</td>\n",
              "      <td>-285.049</td>\n",
              "      <td>259.426</td>\n",
              "      <td>-40.385</td>\n",
              "      <td>73.630</td>\n",
              "      <td>-104.683</td>\n",
              "      <td>183.089</td>\n",
              "      <td>-88.771</td>\n",
              "      <td>73.549</td>\n",
              "      <td>-71.127</td>\n",
              "      <td>82.475</td>\n",
              "      <td>-52.025</td>\n",
              "      <td>39.116</td>\n",
              "      <td>-35.368</td>\n",
              "      <td>71.642</td>\n",
              "      <td>-126.440</td>\n",
              "      <td>18.658</td>\n",
              "      <td>-44.770</td>\n",
              "      <td>25.989</td>\n",
              "      <td>0</td>\n",
              "    </tr>\n",
              "    <tr>\n",
              "      <th>1</th>\n",
              "      <td>2010</td>\n",
              "      <td>Sticks &amp; Bricks</td>\n",
              "      <td>A Day to Remember</td>\n",
              "      <td>SOPAQHU1315CD47F31</td>\n",
              "      <td>AROBSHL1187B9AFB01</td>\n",
              "      <td>4</td>\n",
              "      <td>1.000</td>\n",
              "      <td>-4.051</td>\n",
              "      <td>140.048</td>\n",
              "      <td>0.921</td>\n",
              "      <td>10</td>\n",
              "      <td>0.469</td>\n",
              "      <td>0.984710</td>\n",
              "      <td>0.025</td>\n",
              "      <td>0.000</td>\n",
              "      <td>57.414</td>\n",
              "      <td>-37.351</td>\n",
              "      <td>171.130</td>\n",
              "      <td>-149.589</td>\n",
              "      <td>180.334</td>\n",
              "      <td>-380.143</td>\n",
              "      <td>384.166</td>\n",
              "      <td>-48.662</td>\n",
              "      <td>100.414</td>\n",
              "      <td>-87.267</td>\n",
              "      <td>42.798</td>\n",
              "      <td>-86.895</td>\n",
              "      <td>75.455</td>\n",
              "      <td>-65.807</td>\n",
              "      <td>106.918</td>\n",
              "      <td>-61.320</td>\n",
              "      <td>35.378</td>\n",
              "      <td>-81.928</td>\n",
              "      <td>74.574</td>\n",
              "      <td>-103.808</td>\n",
              "      <td>121.935</td>\n",
              "      <td>-38.892</td>\n",
              "      <td>22.513</td>\n",
              "      <td>0</td>\n",
              "    </tr>\n",
              "    <tr>\n",
              "      <th>2</th>\n",
              "      <td>2010</td>\n",
              "      <td>All I Want</td>\n",
              "      <td>A Day to Remember</td>\n",
              "      <td>SOOIZOU1376E7C6386</td>\n",
              "      <td>AROBSHL1187B9AFB01</td>\n",
              "      <td>4</td>\n",
              "      <td>1.000</td>\n",
              "      <td>-3.571</td>\n",
              "      <td>160.512</td>\n",
              "      <td>0.489</td>\n",
              "      <td>2</td>\n",
              "      <td>0.209</td>\n",
              "      <td>0.989900</td>\n",
              "      <td>0.026</td>\n",
              "      <td>0.003</td>\n",
              "      <td>57.422</td>\n",
              "      <td>-17.222</td>\n",
              "      <td>171.060</td>\n",
              "      <td>-72.912</td>\n",
              "      <td>157.925</td>\n",
              "      <td>-203.984</td>\n",
              "      <td>251.258</td>\n",
              "      <td>-66.044</td>\n",
              "      <td>152.095</td>\n",
              "      <td>-98.673</td>\n",
              "      <td>141.365</td>\n",
              "      <td>-88.874</td>\n",
              "      <td>66.504</td>\n",
              "      <td>-67.433</td>\n",
              "      <td>80.621</td>\n",
              "      <td>-59.773</td>\n",
              "      <td>45.979</td>\n",
              "      <td>-46.293</td>\n",
              "      <td>59.904</td>\n",
              "      <td>-108.313</td>\n",
              "      <td>33.300</td>\n",
              "      <td>-43.733</td>\n",
              "      <td>25.744</td>\n",
              "      <td>0</td>\n",
              "    </tr>\n",
              "    <tr>\n",
              "      <th>3</th>\n",
              "      <td>2010</td>\n",
              "      <td>It's Complicated</td>\n",
              "      <td>A Day to Remember</td>\n",
              "      <td>SODRYWD1315CD49DBE</td>\n",
              "      <td>AROBSHL1187B9AFB01</td>\n",
              "      <td>4</td>\n",
              "      <td>1.000</td>\n",
              "      <td>-3.815</td>\n",
              "      <td>97.525</td>\n",
              "      <td>0.794</td>\n",
              "      <td>1</td>\n",
              "      <td>0.632</td>\n",
              "      <td>0.939207</td>\n",
              "      <td>0.013</td>\n",
              "      <td>0.000</td>\n",
              "      <td>57.765</td>\n",
              "      <td>-32.083</td>\n",
              "      <td>220.895</td>\n",
              "      <td>-138.596</td>\n",
              "      <td>173.365</td>\n",
              "      <td>-73.490</td>\n",
              "      <td>373.492</td>\n",
              "      <td>-55.607</td>\n",
              "      <td>119.158</td>\n",
              "      <td>-77.515</td>\n",
              "      <td>141.178</td>\n",
              "      <td>-70.790</td>\n",
              "      <td>64.540</td>\n",
              "      <td>-63.667</td>\n",
              "      <td>96.675</td>\n",
              "      <td>-78.660</td>\n",
              "      <td>41.088</td>\n",
              "      <td>-49.194</td>\n",
              "      <td>95.440</td>\n",
              "      <td>-102.676</td>\n",
              "      <td>46.422</td>\n",
              "      <td>-59.439</td>\n",
              "      <td>37.082</td>\n",
              "      <td>0</td>\n",
              "    </tr>\n",
              "    <tr>\n",
              "      <th>4</th>\n",
              "      <td>2010</td>\n",
              "      <td>2nd Sucks</td>\n",
              "      <td>A Day to Remember</td>\n",
              "      <td>SOICMQB1315CD46EE3</td>\n",
              "      <td>AROBSHL1187B9AFB01</td>\n",
              "      <td>4</td>\n",
              "      <td>0.788</td>\n",
              "      <td>-4.707</td>\n",
              "      <td>140.053</td>\n",
              "      <td>0.286</td>\n",
              "      <td>6</td>\n",
              "      <td>0.483</td>\n",
              "      <td>0.987738</td>\n",
              "      <td>0.063</td>\n",
              "      <td>0.000</td>\n",
              "      <td>56.872</td>\n",
              "      <td>-223.922</td>\n",
              "      <td>171.130</td>\n",
              "      <td>-147.153</td>\n",
              "      <td>166.008</td>\n",
              "      <td>-128.082</td>\n",
              "      <td>389.419</td>\n",
              "      <td>-43.908</td>\n",
              "      <td>99.332</td>\n",
              "      <td>-96.147</td>\n",
              "      <td>38.303</td>\n",
              "      <td>-110.757</td>\n",
              "      <td>72.391</td>\n",
              "      <td>-55.935</td>\n",
              "      <td>110.332</td>\n",
              "      <td>-56.450</td>\n",
              "      <td>37.555</td>\n",
              "      <td>-48.588</td>\n",
              "      <td>67.570</td>\n",
              "      <td>-52.796</td>\n",
              "      <td>22.888</td>\n",
              "      <td>-50.414</td>\n",
              "      <td>32.758</td>\n",
              "      <td>0</td>\n",
              "    </tr>\n",
              "  </tbody>\n",
              "</table>\n",
              "</div>"
            ],
            "text/plain": [
              "   year                           songtitle  ... timbre_11_max Top10\n",
              "0  2010  This Is the House That Doubt Built  ...        25.989     0\n",
              "1  2010                     Sticks & Bricks  ...        22.513     0\n",
              "2  2010                          All I Want  ...        25.744     0\n",
              "3  2010                    It's Complicated  ...        37.082     0\n",
              "4  2010                           2nd Sucks  ...        32.758     0\n",
              "\n",
              "[5 rows x 39 columns]"
            ]
          },
          "metadata": {
            "tags": []
          },
          "execution_count": 7
        }
      ]
    },
    {
      "cell_type": "code",
      "metadata": {
        "id": "4V5o-FW6cXPp",
        "colab_type": "code",
        "colab": {}
      },
      "source": [
        ""
      ],
      "execution_count": 0,
      "outputs": []
    },
    {
      "cell_type": "code",
      "metadata": {
        "id": "R2n4CUcDcXMG",
        "colab_type": "code",
        "colab": {}
      },
      "source": [
        ""
      ],
      "execution_count": 0,
      "outputs": []
    },
    {
      "cell_type": "code",
      "metadata": {
        "id": "L_kggbUwPLIA",
        "colab_type": "code",
        "outputId": "74120332-ac07-4c19-f129-c2f43f8dcd0c",
        "colab": {
          "base_uri": "https://localhost:8080/",
          "height": 34
        }
      },
      "source": [
        "df.size"
      ],
      "execution_count": 0,
      "outputs": [
        {
          "output_type": "execute_result",
          "data": {
            "text/plain": [
              "295386"
            ]
          },
          "metadata": {
            "tags": []
          },
          "execution_count": 8
        }
      ]
    },
    {
      "cell_type": "code",
      "metadata": {
        "id": "FgnRz_nIPLFE",
        "colab_type": "code",
        "outputId": "352f0708-eded-4789-a8b4-913794b7418f",
        "colab": {
          "base_uri": "https://localhost:8080/",
          "height": 34
        }
      },
      "source": [
        "df.shape"
      ],
      "execution_count": 0,
      "outputs": [
        {
          "output_type": "execute_result",
          "data": {
            "text/plain": [
              "(7574, 39)"
            ]
          },
          "metadata": {
            "tags": []
          },
          "execution_count": 9
        }
      ]
    },
    {
      "cell_type": "code",
      "metadata": {
        "id": "2jmjg3r_eN0H",
        "colab_type": "code",
        "outputId": "63a4e4d2-213a-4d88-ccb7-01c51fbccf1e",
        "colab": {
          "base_uri": "https://localhost:8080/",
          "height": 312
        }
      },
      "source": [
        "#which indian athlete win how much medal\n",
        "Silver=df[df.Country=='India'].head(10)\n",
        "sns.countplot(x=\"Athlete\", data=Silver)\n",
        "plt.title(\"Medals\")\n",
        "plt.show"
      ],
      "execution_count": 0,
      "outputs": [
        {
          "output_type": "execute_result",
          "data": {
            "text/plain": [
              "<function matplotlib.pyplot.show>"
            ]
          },
          "metadata": {
            "tags": []
          },
          "execution_count": 67
        },
        {
          "output_type": "display_data",
          "data": {
            "image/png": "[encoded data removed]",
            "text/plain": [
              "<Figure size 432x288 with 1 Axes>"
            ]
          },
          "metadata": {
            "tags": []
          }
        }
      ]
    },
    {
      "cell_type": "code",
      "metadata": {
        "id": "GsL_UfltepG3",
        "colab_type": "code",
        "colab": {}
      },
      "source": [
        ""
      ],
      "execution_count": 0,
      "outputs": []
    },
    {
      "cell_type": "code",
      "metadata": {
        "id": "qx1uZjplavJo",
        "colab_type": "code",
        "outputId": "da33e293-704b-4583-b672-3bf81bf12cc5",
        "colab": {
          "base_uri": "https://localhost:8080/",
          "height": 312
        }
      },
      "source": [
        "# which ccategory won the most silver mesal\n",
        "Silver=df[df.Medal=='Silver']\n",
        "sns.countplot(x=\"Gender\", data=Silver)\n",
        "plt.title(\"Medals\")\n",
        "plt.show"
      ],
      "execution_count": 0,
      "outputs": [
        {
          "output_type": "execute_result",
          "data": {
            "text/plain": [
              "<function matplotlib.pyplot.show>"
            ]
          },
          "metadata": {
            "tags": []
          },
          "execution_count": 53
        },
        {
          "output_type": "display_data",
          "data": {
            "image/png": "[encoded data removed]",
            "text/plain": [
              "<Figure size 432x288 with 1 Axes>"
            ]
          },
          "metadata": {
            "tags": []
          }
        }
      ]
    },
    {
      "cell_type": "code",
      "metadata": {
        "id": "9AQbgqcxZRXO",
        "colab_type": "code",
        "outputId": "86b2347f-bf1e-434c-9dab-f44f31511bec",
        "colab": {
          "base_uri": "https://localhost:8080/",
          "height": 312
        }
      },
      "source": [
        "sns.countplot(data=df,x='Year',hue='Gender',palette=('blue','orange'))\n",
        "plt.title('Total Medals Awarded: Men vs. Women')\n",
        "plt.show"
      ],
      "execution_count": 0,
      "outputs": [
        {
          "output_type": "execute_result",
          "data": {
            "text/plain": [
              "<function matplotlib.pyplot.show>"
            ]
          },
          "metadata": {
            "tags": []
          },
          "execution_count": 47
        },
        {
          "output_type": "display_data",
          "data": {
            "image/png": "[encoded data removed]",
            "text/plain": [
              "<Figure size 432x288 with 1 Axes>"
            ]
          },
          "metadata": {
            "tags": []
          }
        }
      ]
    },
    {
      "cell_type": "code",
      "metadata": {
        "id": "hHC66rHdX9Zf",
        "colab_type": "code",
        "outputId": "d9371601-0859-4f24-e3e3-cf278cfa22e5",
        "colab": {
          "base_uri": "https://localhost:8080/",
          "height": 312
        }
      },
      "source": [
        "# Number of Men vs Women Represented by the Year\n",
        "\n",
        "sns.countplot(data=df,x='Year',hue='Gender',palette=('blue','orange'))\n",
        "plt.title('Total Medals Awarded: Men vs. Women')\n",
        "plt.show"
      ],
      "execution_count": 0,
      "outputs": [
        {
          "output_type": "execute_result",
          "data": {
            "text/plain": [
              "<function matplotlib.pyplot.show>"
            ]
          },
          "metadata": {
            "tags": []
          },
          "execution_count": 38
        },
        {
          "output_type": "display_data",
          "data": {
            "image/png": "[encoded data removed]",
            "text/plain": [
              "<Figure size 432x288 with 1 Axes>"
            ]
          },
          "metadata": {
            "tags": []
          }
        }
      ]
    },
    {
      "cell_type": "code",
      "metadata": {
        "id": "s1C9Ndc9YQDr",
        "colab_type": "code",
        "outputId": "450967e0-b8a3-4753-f1aa-81907f03b82f",
        "colab": {
          "base_uri": "https://localhost:8080/",
          "height": 295
        }
      },
      "source": [
        "sns.countplot(data=df,x='Year',hue='Medal', palette=('orange','blue'))\n",
        "plt.title(\"medal winners\")\n",
        "plt.show()"
      ],
      "execution_count": 0,
      "outputs": [
        {
          "output_type": "display_data",
          "data": {
            "image/png": "[encoded data removed]",
            "text/plain": [
              "<Figure size 432x288 with 1 Axes>"
            ]
          },
          "metadata": {
            "tags": []
          }
        }
      ]
    },
    {
      "cell_type": "code",
      "metadata": {
        "id": "FMJY-fdVPLCL",
        "colab_type": "code",
        "colab": {}
      },
      "source": [
        "df2=df.loc[df['Gender']=='Men']"
      ],
      "execution_count": 0,
      "outputs": []
    },
    {
      "cell_type": "code",
      "metadata": {
        "id": "T_4pU6e9PK_e",
        "colab_type": "code",
        "outputId": "6ee72b80-846f-4af4-82ed-d0ea08da3d64",
        "colab": {
          "base_uri": "https://localhost:8080/",
          "height": 204
        }
      },
      "source": [
        "df2.head()"
      ],
      "execution_count": 0,
      "outputs": [
        {
          "output_type": "execute_result",
          "data": {
            "text/html": [
              "<div>\n",
              "<style scoped>\n",
              "    .dataframe tbody tr th:only-of-type {\n",
              "        vertical-align: middle;\n",
              "    }\n",
              "\n",
              "    .dataframe tbody tr th {\n",
              "        vertical-align: top;\n",
              "    }\n",
              "\n",
              "    .dataframe thead th {\n",
              "        text-align: right;\n",
              "    }\n",
              "</style>\n",
              "<table border=\"1\" class=\"dataframe\">\n",
              "  <thead>\n",
              "    <tr style=\"text-align: right;\">\n",
              "      <th></th>\n",
              "      <th>City</th>\n",
              "      <th>Year</th>\n",
              "      <th>Sport</th>\n",
              "      <th>Discipline</th>\n",
              "      <th>Event</th>\n",
              "      <th>Athlete</th>\n",
              "      <th>Gender</th>\n",
              "      <th>Country_Code</th>\n",
              "      <th>Country</th>\n",
              "      <th>Event_gender</th>\n",
              "      <th>Medal</th>\n",
              "    </tr>\n",
              "  </thead>\n",
              "  <tbody>\n",
              "    <tr>\n",
              "      <th>1</th>\n",
              "      <td>Montreal</td>\n",
              "      <td>1976.0</td>\n",
              "      <td>Aquatics</td>\n",
              "      <td>Diving</td>\n",
              "      <td>3m springboard</td>\n",
              "      <td>KOSENKOV, Aleksandr</td>\n",
              "      <td>Men</td>\n",
              "      <td>URS</td>\n",
              "      <td>Soviet Union</td>\n",
              "      <td>M</td>\n",
              "      <td>Bronze</td>\n",
              "    </tr>\n",
              "    <tr>\n",
              "      <th>2</th>\n",
              "      <td>Montreal</td>\n",
              "      <td>1976.0</td>\n",
              "      <td>Aquatics</td>\n",
              "      <td>Diving</td>\n",
              "      <td>3m springboard</td>\n",
              "      <td>BOGGS, Philip George</td>\n",
              "      <td>Men</td>\n",
              "      <td>USA</td>\n",
              "      <td>United States</td>\n",
              "      <td>M</td>\n",
              "      <td>Gold</td>\n",
              "    </tr>\n",
              "    <tr>\n",
              "      <th>3</th>\n",
              "      <td>Montreal</td>\n",
              "      <td>1976.0</td>\n",
              "      <td>Aquatics</td>\n",
              "      <td>Diving</td>\n",
              "      <td>3m springboard</td>\n",
              "      <td>CAGNOTTO, Giorgio Franco</td>\n",
              "      <td>Men</td>\n",
              "      <td>ITA</td>\n",
              "      <td>Italy</td>\n",
              "      <td>M</td>\n",
              "      <td>Silver</td>\n",
              "    </tr>\n",
              "    <tr>\n",
              "      <th>5</th>\n",
              "      <td>Montreal</td>\n",
              "      <td>1976.0</td>\n",
              "      <td>Aquatics</td>\n",
              "      <td>Diving</td>\n",
              "      <td>10m platform</td>\n",
              "      <td>LOUGANIS, Gregory</td>\n",
              "      <td>Men</td>\n",
              "      <td>USA</td>\n",
              "      <td>United States</td>\n",
              "      <td>M</td>\n",
              "      <td>Silver</td>\n",
              "    </tr>\n",
              "    <tr>\n",
              "      <th>8</th>\n",
              "      <td>Montreal</td>\n",
              "      <td>1976.0</td>\n",
              "      <td>Aquatics</td>\n",
              "      <td>Diving</td>\n",
              "      <td>10m platform</td>\n",
              "      <td>DIBIASI, Klaus</td>\n",
              "      <td>Men</td>\n",
              "      <td>ITA</td>\n",
              "      <td>Italy</td>\n",
              "      <td>M</td>\n",
              "      <td>Gold</td>\n",
              "    </tr>\n",
              "  </tbody>\n",
              "</table>\n",
              "</div>"
            ],
            "text/plain": [
              "       City    Year     Sport  ...        Country Event_gender   Medal\n",
              "1  Montreal  1976.0  Aquatics  ...   Soviet Union            M  Bronze\n",
              "2  Montreal  1976.0  Aquatics  ...  United States            M    Gold\n",
              "3  Montreal  1976.0  Aquatics  ...          Italy            M  Silver\n",
              "5  Montreal  1976.0  Aquatics  ...  United States            M  Silver\n",
              "8  Montreal  1976.0  Aquatics  ...          Italy            M    Gold\n",
              "\n",
              "[5 rows x 11 columns]"
            ]
          },
          "metadata": {
            "tags": []
          },
          "execution_count": 17
        }
      ]
    },
    {
      "cell_type": "code",
      "metadata": {
        "id": "kkd8aSfMPK9I",
        "colab_type": "code",
        "outputId": "26ecff33-ee8a-4646-bafb-65b7c54afbe1",
        "colab": {
          "base_uri": "https://localhost:8080/",
          "height": 221
        }
      },
      "source": [
        "df2.isna().sum()"
      ],
      "execution_count": 0,
      "outputs": [
        {
          "output_type": "execute_result",
          "data": {
            "text/plain": [
              "City            0\n",
              "Year            0\n",
              "Sport           0\n",
              "Discipline      0\n",
              "Event           0\n",
              "Athlete         0\n",
              "Gender          0\n",
              "Country_Code    0\n",
              "Country         0\n",
              "Event_gender    0\n",
              "Medal           0\n",
              "dtype: int64"
            ]
          },
          "metadata": {
            "tags": []
          },
          "execution_count": 18
        }
      ]
    },
    {
      "cell_type": "code",
      "metadata": {
        "id": "ieWi5wc3PK7w",
        "colab_type": "code",
        "colab": {}
      },
      "source": [
        "import seaborn as sns"
      ],
      "execution_count": 0,
      "outputs": []
    },
    {
      "cell_type": "code",
      "metadata": {
        "id": "bBRIeHW2TZ_M",
        "colab_type": "code",
        "colab": {}
      },
      "source": [
        "import matplotlib.pyplot as plt\n"
      ],
      "execution_count": 0,
      "outputs": []
    },
    {
      "cell_type": "code",
      "metadata": {
        "id": "ameVa3TGPK5Q",
        "colab_type": "code",
        "outputId": "ab7857b0-936c-44e6-b0ee-5796314dbb1f",
        "colab": {
          "base_uri": "https://localhost:8080/",
          "height": 638
        }
      },
      "source": [
        "plt.figure(1,figsize=(15,10))\n",
        "plt.title(\"frequency\")\n",
        "sns.countplot(x=\"Country\",order=df2['Country'].value_counts().index[0:10],data=df2,palette='Accent')"
      ],
      "execution_count": 0,
      "outputs": [
        {
          "output_type": "execute_result",
          "data": {
            "text/plain": [
              "<matplotlib.axes._subplots.AxesSubplot at 0x7f8102587978>"
            ]
          },
          "metadata": {
            "tags": []
          },
          "execution_count": 29
        },
        {
          "output_type": "display_data",
          "data": {
            "image/png": "[encoded data removed]",
            "text/plain": [
              "<Figure size 1080x720 with 1 Axes>"
            ]
          },
          "metadata": {
            "tags": []
          }
        }
      ]
    },
    {
      "cell_type": "code",
      "metadata": {
        "id": "UoFs_o-RPK3k",
        "colab_type": "code",
        "outputId": "d1ff89b4-b230-4948-ce27-4a30c7fe9945",
        "colab": {
          "base_uri": "https://localhost:8080/",
          "height": 638
        }
      },
      "source": [
        "plt.figure(1,figsize=(15,10))\n",
        "plt.title(\"frequency\")\n",
        "sns.countplot(x=\"Event\",order=df2['Event'].value_counts().index[0:10],data=df2,palette='Accent')"
      ],
      "execution_count": 0,
      "outputs": [
        {
          "output_type": "execute_result",
          "data": {
            "text/plain": [
              "<matplotlib.axes._subplots.AxesSubplot at 0x7f8102355eb8>"
            ]
          },
          "metadata": {
            "tags": []
          },
          "execution_count": 31
        },
        {
          "output_type": "display_data",
          "data": {
            "image/png": "[encoded data removed]",
            "text/plain": [
              "<Figure size 1080x720 with 1 Axes>"
            ]
          },
          "metadata": {
            "tags": []
          }
        }
      ]
    },
    {
      "cell_type": "code",
      "metadata": {
        "id": "IqGipYe4PK00",
        "colab_type": "code",
        "outputId": "27533d3d-63fd-4730-cc4c-ee8336733258",
        "colab": {
          "base_uri": "https://localhost:8080/",
          "height": 638
        }
      },
      "source": [
        "plt.figure(1,figsize=(15,10))\n",
        "plt.title(\"frequency\")\n",
        "sns.countplot(x=\"Athlete\",order=df2['Athlete'].value_counts().index[0:7],data=df2,palette='Accent')"
      ],
      "execution_count": 0,
      "outputs": [
        {
          "output_type": "execute_result",
          "data": {
            "text/plain": [
              "<matplotlib.axes._subplots.AxesSubplot at 0x7f8101f03a58>"
            ]
          },
          "metadata": {
            "tags": []
          },
          "execution_count": 33
        },
        {
          "output_type": "display_data",
          "data": {
            "image/png": "[encoded data removed]",
            "text/plain": [
              "<Figure size 1080x720 with 1 Axes>"
            ]
          },
          "metadata": {
            "tags": []
          }
        }
      ]
    },
    {
      "cell_type": "code",
      "metadata": {
        "id": "uG21RM6pPKyb",
        "colab_type": "code",
        "outputId": "4d9283b7-ee16-4d85-985b-d09e747c999f",
        "colab": {
          "base_uri": "https://localhost:8080/",
          "height": 638
        }
      },
      "source": [
        "plt.figure(1,figsize=(15,10))\n",
        "plt.title(\"frequency\")\n",
        "sns.countplot(x=\"Year\",order=df2['Year'].value_counts().index[0:7],data=df2,palette='Accent')"
      ],
      "execution_count": 0,
      "outputs": [
        {
          "output_type": "execute_result",
          "data": {
            "text/plain": [
              "<matplotlib.axes._subplots.AxesSubplot at 0x7f8101f70e80>"
            ]
          },
          "metadata": {
            "tags": []
          },
          "execution_count": 34
        },
        {
          "output_type": "display_data",
          "data": {
            "image/png": "[encoded data removed]",
            "text/plain": [
              "<Figure size 1080x720 with 1 Axes>"
            ]
          },
          "metadata": {
            "tags": []
          }
        }
      ]
    },
    {
      "cell_type": "code",
      "metadata": {
        "id": "YOvxXFoTWXbZ",
        "colab_type": "code",
        "colab": {}
      },
      "source": [
        "df3=df2.loc[df2['Year']==2000.0]"
      ],
      "execution_count": 0,
      "outputs": []
    },
    {
      "cell_type": "code",
      "metadata": {
        "id": "l-VXUaEkWlFC",
        "colab_type": "code",
        "outputId": "03722ec6-2ba9-410b-b5d1-f53fe519837a",
        "colab": {
          "base_uri": "https://localhost:8080/",
          "height": 204
        }
      },
      "source": [
        "df3.head()"
      ],
      "execution_count": 0,
      "outputs": [
        {
          "output_type": "execute_result",
          "data": {
            "text/html": [
              "<div>\n",
              "<style scoped>\n",
              "    .dataframe tbody tr th:only-of-type {\n",
              "        vertical-align: middle;\n",
              "    }\n",
              "\n",
              "    .dataframe tbody tr th {\n",
              "        vertical-align: top;\n",
              "    }\n",
              "\n",
              "    .dataframe thead th {\n",
              "        text-align: right;\n",
              "    }\n",
              "</style>\n",
              "<table border=\"1\" class=\"dataframe\">\n",
              "  <thead>\n",
              "    <tr style=\"text-align: right;\">\n",
              "      <th></th>\n",
              "      <th>City</th>\n",
              "      <th>Year</th>\n",
              "      <th>Sport</th>\n",
              "      <th>Discipline</th>\n",
              "      <th>Event</th>\n",
              "      <th>Athlete</th>\n",
              "      <th>Gender</th>\n",
              "      <th>Country_Code</th>\n",
              "      <th>Country</th>\n",
              "      <th>Event_gender</th>\n",
              "      <th>Medal</th>\n",
              "    </tr>\n",
              "  </thead>\n",
              "  <tbody>\n",
              "    <tr>\n",
              "      <th>9378</th>\n",
              "      <td>Sydney</td>\n",
              "      <td>2000.0</td>\n",
              "      <td>Aquatics</td>\n",
              "      <td>Diving</td>\n",
              "      <td>10m platform</td>\n",
              "      <td>HU, Jia</td>\n",
              "      <td>Men</td>\n",
              "      <td>CHN</td>\n",
              "      <td>China</td>\n",
              "      <td>M</td>\n",
              "      <td>Silver</td>\n",
              "    </tr>\n",
              "    <tr>\n",
              "      <th>9384</th>\n",
              "      <td>Sydney</td>\n",
              "      <td>2000.0</td>\n",
              "      <td>Aquatics</td>\n",
              "      <td>Diving</td>\n",
              "      <td>10m platform</td>\n",
              "      <td>SAUTIN, Dmitry</td>\n",
              "      <td>Men</td>\n",
              "      <td>RUS</td>\n",
              "      <td>Russia</td>\n",
              "      <td>M</td>\n",
              "      <td>Bronze</td>\n",
              "    </tr>\n",
              "    <tr>\n",
              "      <th>9385</th>\n",
              "      <td>Sydney</td>\n",
              "      <td>2000.0</td>\n",
              "      <td>Aquatics</td>\n",
              "      <td>Diving</td>\n",
              "      <td>synchronized diving 10m platform</td>\n",
              "      <td>HU, Jia</td>\n",
              "      <td>Men</td>\n",
              "      <td>CHN</td>\n",
              "      <td>China</td>\n",
              "      <td>M</td>\n",
              "      <td>Silver</td>\n",
              "    </tr>\n",
              "    <tr>\n",
              "      <th>9386</th>\n",
              "      <td>Sydney</td>\n",
              "      <td>2000.0</td>\n",
              "      <td>Aquatics</td>\n",
              "      <td>Diving</td>\n",
              "      <td>synchronized diving 3m springboard</td>\n",
              "      <td>PULLAR, Dean</td>\n",
              "      <td>Men</td>\n",
              "      <td>AUS</td>\n",
              "      <td>Australia</td>\n",
              "      <td>M</td>\n",
              "      <td>Bronze</td>\n",
              "    </tr>\n",
              "    <tr>\n",
              "      <th>9387</th>\n",
              "      <td>Sydney</td>\n",
              "      <td>2000.0</td>\n",
              "      <td>Aquatics</td>\n",
              "      <td>Diving</td>\n",
              "      <td>synchronized diving 3m springboard</td>\n",
              "      <td>XIONG, Ni</td>\n",
              "      <td>Men</td>\n",
              "      <td>CHN</td>\n",
              "      <td>China</td>\n",
              "      <td>M</td>\n",
              "      <td>Gold</td>\n",
              "    </tr>\n",
              "  </tbody>\n",
              "</table>\n",
              "</div>"
            ],
            "text/plain": [
              "        City    Year     Sport  ...    Country Event_gender   Medal\n",
              "9378  Sydney  2000.0  Aquatics  ...      China            M  Silver\n",
              "9384  Sydney  2000.0  Aquatics  ...     Russia            M  Bronze\n",
              "9385  Sydney  2000.0  Aquatics  ...      China            M  Silver\n",
              "9386  Sydney  2000.0  Aquatics  ...  Australia            M  Bronze\n",
              "9387  Sydney  2000.0  Aquatics  ...      China            M    Gold\n",
              "\n",
              "[5 rows x 11 columns]"
            ]
          },
          "metadata": {
            "tags": []
          },
          "execution_count": 36
        }
      ]
    }
  ]
}