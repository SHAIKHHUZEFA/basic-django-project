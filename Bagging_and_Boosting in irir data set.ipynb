{
  "nbformat": 4,
  "nbformat_minor": 0,
  "metadata": {
    "kernelspec": {
      "display_name": "Python 3",
      "language": "python",
      "name": "python3"
    },
    "language_info": {
      "codemirror_mode": {
        "name": "ipython",
        "version": 3
      },
      "file_extension": ".py",
      "mimetype": "text/x-python",
      "name": "python",
      "nbconvert_exporter": "python",
      "pygments_lexer": "ipython3",
      "version": "3.7.3"
    },
    "colab": {
      "name": "Bagging and Boosting Demo.ipynb",
      "provenance": [],
      "include_colab_link": true
    }
  },
  "cells": [
    {
      "cell_type": "markdown",
      "metadata": {
        "id": "view-in-github",
        "colab_type": "text"
      },
      "source": [
        "<a href=\"https://colab.research.google.com/github/SHAIKHHUZEFA/basic-django-project/blob/master/Bagging_and_Boosting%20in%20irir%20data%20set.ipynb\" target=\"_parent\"><img src=\"https://colab.research.google.com/assets/colab-badge.svg\" alt=\"Open In Colab\"/></a>"
      ]
    },
    {
      "cell_type": "code",
      "metadata": {
        "id": "3o_YWFZa9M7c",
        "colab_type": "code",
        "colab": {}
      },
      "source": [
        "import numpy as np\n",
        "import pandas as pd"
      ],
      "execution_count": 0,
      "outputs": []
    },
    {
      "cell_type": "code",
      "metadata": {
        "id": "qlH41du99M7l",
        "colab_type": "code",
        "colab": {}
      },
      "source": [
        "data = pd.read_csv('https://raw.githubusercontent.com/uiuc-cse/data-fa14/gh-pages/data/iris.csv')"
      ],
      "execution_count": 0,
      "outputs": []
    },
    {
      "cell_type": "code",
      "metadata": {
        "id": "uMKblEhL9M7p",
        "colab_type": "code",
        "outputId": "e90735d7-8c41-41d8-f5f7-6f0145293bcd",
        "colab": {}
      },
      "source": [
        "data.info()"
      ],
      "execution_count": 0,
      "outputs": [
        {
          "output_type": "stream",
          "text": [
            "<class 'pandas.core.frame.DataFrame'>\n",
            "RangeIndex: 150 entries, 0 to 149\n",
            "Data columns (total 5 columns):\n",
            "sepal_length    150 non-null float64\n",
            "sepal_width     150 non-null float64\n",
            "petal_length    150 non-null float64\n",
            "petal_width     150 non-null float64\n",
            "species         150 non-null object\n",
            "dtypes: float64(4), object(1)\n",
            "memory usage: 5.9+ KB\n"
          ],
          "name": "stdout"
        }
      ]
    },
    {
      "cell_type": "code",
      "metadata": {
        "id": "bS02gD6s9M7v",
        "colab_type": "code",
        "outputId": "3c7e0f0b-5f7a-4e52-8c2a-f887138d5e8a",
        "colab": {}
      },
      "source": [
        "data.species.value_counts()"
      ],
      "execution_count": 0,
      "outputs": [
        {
          "output_type": "execute_result",
          "data": {
            "text/plain": [
              "virginica     50\n",
              "versicolor    50\n",
              "setosa        50\n",
              "Name: species, dtype: int64"
            ]
          },
          "metadata": {
            "tags": []
          },
          "execution_count": 4
        }
      ]
    },
    {
      "cell_type": "code",
      "metadata": {
        "id": "FyS34eJl9M70",
        "colab_type": "code",
        "colab": {}
      },
      "source": [
        "features = data.iloc[:,:-1].values\n",
        "label = data.iloc[:,-1].values"
      ],
      "execution_count": 0,
      "outputs": []
    },
    {
      "cell_type": "code",
      "metadata": {
        "id": "Xmv-ZedQ9M76",
        "colab_type": "code",
        "colab": {}
      },
      "source": [
        "from sklearn.model_selection import train_test_split\n",
        "X_train,X_test,y_train,y_test = train_test_split(features,\n",
        "                                                label,\n",
        "                                                test_size=0.2,\n",
        "                                                random_state=10)"
      ],
      "execution_count": 0,
      "outputs": []
    },
    {
      "cell_type": "code",
      "metadata": {
        "id": "FB-iLsr59M7-",
        "colab_type": "code",
        "outputId": "5db855d0-5540-4acd-9e9b-99fcb43cd402",
        "colab": {}
      },
      "source": [
        "#Model -- LogisticRegression\n",
        "from sklearn.linear_model import LogisticRegression\n",
        "model = LogisticRegression()\n",
        "model.fit(X_train,y_train)"
      ],
      "execution_count": 0,
      "outputs": [
        {
          "output_type": "execute_result",
          "data": {
            "text/plain": [
              "LogisticRegression(C=1.0, class_weight=None, dual=False, fit_intercept=True,\n",
              "          intercept_scaling=1, max_iter=100, multi_class='ovr', n_jobs=1,\n",
              "          penalty='l2', random_state=None, solver='liblinear', tol=0.0001,\n",
              "          verbose=0, warm_start=False)"
            ]
          },
          "metadata": {
            "tags": []
          },
          "execution_count": 7
        }
      ]
    },
    {
      "cell_type": "code",
      "metadata": {
        "id": "Z03OmDtf9M8E",
        "colab_type": "code",
        "outputId": "01e17add-cbac-4ba7-b0a6-e896630f88cc",
        "colab": {}
      },
      "source": [
        "print(model.score(X_train,y_train))\n",
        "print(model.score(X_test,y_test))"
      ],
      "execution_count": 0,
      "outputs": [
        {
          "output_type": "stream",
          "text": [
            "0.95\n",
            "0.9\n"
          ],
          "name": "stdout"
        }
      ]
    },
    {
      "cell_type": "code",
      "metadata": {
        "id": "9F6bTr-m9M8I",
        "colab_type": "code",
        "colab": {}
      },
      "source": [
        "#Bagging \n",
        "# BaggingClassifier\n",
        "# BaggingRegressor --- Homework\n",
        "model1 = LogisticRegression()\n",
        "from sklearn.ensemble import BaggingClassifier\n",
        "bagClassifier = BaggingClassifier(base_estimator=model1, #Algo object to be performed(LogisticRegression)\n",
        "                                 n_estimators=101)"
      ],
      "execution_count": 0,
      "outputs": []
    },
    {
      "cell_type": "code",
      "metadata": {
        "id": "fXvxVTMS9M8M",
        "colab_type": "code",
        "outputId": "2ab77823-8144-44bf-e375-f0eddffcec3d",
        "colab": {}
      },
      "source": [
        "print(bagclassifier.score(X_train,Y_train))"
      ],
      "execution_count": 0,
      "outputs": [
        {
          "output_type": "execute_result",
          "data": {
            "text/plain": [
              "BaggingClassifier(base_estimator=LogisticRegression(C=1.0, class_weight=None, dual=False, fit_intercept=True,\n",
              "          intercept_scaling=1, max_iter=100, multi_class='ovr', n_jobs=1,\n",
              "          penalty='l2', random_state=None, solver='liblinear', tol=0.0001,\n",
              "          verbose=0, warm_start=False),\n",
              "         bootstrap=True, bootstrap_features=False, max_features=1.0,\n",
              "         max_samples=1.0, n_estimators=101, n_jobs=1, oob_score=False,\n",
              "         random_state=None, verbose=0, warm_start=False)"
            ]
          },
          "metadata": {
            "tags": []
          },
          "execution_count": 10
        }
      ]
    },
    {
      "cell_type": "code",
      "metadata": {
        "id": "Ot-7WxUJ9M8Q",
        "colab_type": "code",
        "outputId": "c353c1fe-ae93-4b76-969c-957a85f21450",
        "colab": {}
      },
      "source": [
        "print(bagClassifier.score(X_train,y_train))\n",
        "print(bagClassifier.score(X_test,y_test))"
      ],
      "execution_count": 0,
      "outputs": [
        {
          "output_type": "stream",
          "text": [
            "0.95\n",
            "0.9\n"
          ],
          "name": "stdout"
        }
      ]
    },
    {
      "cell_type": "code",
      "metadata": {
        "id": "syPOzcLd9M8U",
        "colab_type": "code",
        "colab": {}
      },
      "source": [
        "from mlxtend.plotting import plot_decision_regions"
      ],
      "execution_count": 0,
      "outputs": []
    },
    {
      "cell_type": "code",
      "metadata": {
        "id": "HB461dPd9M8Z",
        "colab_type": "code",
        "outputId": "055d6828-6f89-4c31-838d-74b1bd4c253d",
        "colab": {}
      },
      "source": [
        "model2 = LogisticRegression()\n",
        "model2.fit(X_train[:,0:2],finalLabels)"
      ],
      "execution_count": 0,
      "outputs": [
        {
          "output_type": "execute_result",
          "data": {
            "text/plain": [
              "LogisticRegression(C=1.0, class_weight=None, dual=False, fit_intercept=True,\n",
              "          intercept_scaling=1, max_iter=100, multi_class='ovr', n_jobs=1,\n",
              "          penalty='l2', random_state=None, solver='liblinear', tol=0.0001,\n",
              "          verbose=0, warm_start=False)"
            ]
          },
          "metadata": {
            "tags": []
          },
          "execution_count": 24
        }
      ]
    },
    {
      "cell_type": "code",
      "metadata": {
        "id": "RbliiXZ99M8d",
        "colab_type": "code",
        "colab": {}
      },
      "source": [
        "dataLabels = pd.DataFrame(y_train).replace(['setosa','versicolor','virginica'],[1,2,3])"
      ],
      "execution_count": 0,
      "outputs": []
    },
    {
      "cell_type": "code",
      "metadata": {
        "id": "F2ie1lEb9M8h",
        "colab_type": "code",
        "colab": {}
      },
      "source": [
        "finalLabels = dataLabels.values.ravel()"
      ],
      "execution_count": 0,
      "outputs": []
    },
    {
      "cell_type": "code",
      "metadata": {
        "id": "BQNVYxph9M8k",
        "colab_type": "code",
        "outputId": "30288f07-8623-4594-e8c5-1c00b33d4b6c",
        "colab": {}
      },
      "source": [
        "plot_decision_regions(X_train[:,0:2], finalLabels, clf=model2, legend=2)"
      ],
      "execution_count": 0,
      "outputs": [
        {
          "output_type": "execute_result",
          "data": {
            "text/plain": [
              "<matplotlib.axes._subplots.AxesSubplot at 0x27732654780>"
            ]
          },
          "metadata": {
            "tags": []
          },
          "execution_count": 27
        },
        {
          "output_type": "display_data",
          "data": {
            "image/png": "[encoded data removed]",
            "text/plain": [
              "<Figure size 432x288 with 1 Axes>"
            ]
          },
          "metadata": {
            "tags": []
          }
        }
      ]
    },
    {
      "cell_type": "code",
      "metadata": {
        "id": "XTT5oS_K9M8o",
        "colab_type": "code",
        "outputId": "270cc732-9572-426c-8fe3-0ca79de6139a",
        "colab": {}
      },
      "source": [
        "from sklearn.neighbors import KNeighborsClassifier\n",
        "modelKNN = KNeighborsClassifier(n_neighbors=9)\n",
        "modelKNN.fit(X_train[:,0:2],finalLabels)"
      ],
      "execution_count": 0,
      "outputs": [
        {
          "output_type": "execute_result",
          "data": {
            "text/plain": [
              "KNeighborsClassifier(algorithm='auto', leaf_size=30, metric='minkowski',\n",
              "           metric_params=None, n_jobs=1, n_neighbors=9, p=2,\n",
              "           weights='uniform')"
            ]
          },
          "metadata": {
            "tags": []
          },
          "execution_count": 34
        }
      ]
    },
    {
      "cell_type": "code",
      "metadata": {
        "id": "0rGDuhrO9M8s",
        "colab_type": "code",
        "outputId": "9d2866a3-1cdf-4588-ae54-bebf7d7c12d4",
        "colab": {}
      },
      "source": [
        "plot_decision_regions(X_train[:,0:2], finalLabels, clf=modelKNN, legend=2)"
      ],
      "execution_count": 0,
      "outputs": [
        {
          "output_type": "execute_result",
          "data": {
            "text/plain": [
              "<matplotlib.axes._subplots.AxesSubplot at 0x277334c0b00>"
            ]
          },
          "metadata": {
            "tags": []
          },
          "execution_count": 35
        },
        {
          "output_type": "display_data",
          "data": {
            "image/png": "[encoded data removed]",
            "text/plain": [
              "<Figure size 432x288 with 1 Axes>"
            ]
          },
          "metadata": {
            "tags": []
          }
        }
      ]
    },
    {
      "cell_type": "code",
      "metadata": {
        "id": "euVIK_ve9M8w",
        "colab_type": "code",
        "colab": {}
      },
      "source": [
        "dataLabels1 = pd.DataFrame(y_test).replace(['setosa','versicolor','virginica'],[1,2,3])\n",
        "finaltestLabels = dataLabels1.values.ravel()"
      ],
      "execution_count": 0,
      "outputs": []
    },
    {
      "cell_type": "code",
      "metadata": {
        "id": "IyUtiG-f9M80",
        "colab_type": "code",
        "outputId": "c20b56f4-cc9f-4a6a-9085-13a2dc2bac7c",
        "colab": {}
      },
      "source": [
        "print(modelKNN.score(X_train[:,0:2],finalLabels))\n",
        "print(modelKNN.score(X_test[:,0:2],finaltestLabels))"
      ],
      "execution_count": 0,
      "outputs": [
        {
          "output_type": "stream",
          "text": [
            "0.7916666666666666\n",
            "0.8\n"
          ],
          "name": "stdout"
        }
      ]
    },
    {
      "cell_type": "code",
      "metadata": {
        "id": "hwTDWt8L9M86",
        "colab_type": "code",
        "colab": {}
      },
      "source": [
        "# http://rasbt.github.io/mlxtend/user_guide/plotting/plot_decision_regions/"
      ],
      "execution_count": 0,
      "outputs": []
    },
    {
      "cell_type": "markdown",
      "metadata": {
        "id": "qZOZ4RUG9M9A",
        "colab_type": "text"
      },
      "source": [
        "# Boosting Example"
      ]
    },
    {
      "cell_type": "code",
      "metadata": {
        "id": "YglMILWu9M9B",
        "colab_type": "code",
        "colab": {}
      },
      "source": [
        "\n",
        "from sklearn.ensemble import AdaBoostClassifier\n",
        "modelForBoost = LogisticRegression()\n",
        "boostAlgo = AdaBoostClassifier(base_estimator=modelForBoost,\n",
        "                              n_estimators=101)"
      ],
      "execution_count": 0,
      "outputs": []
    },
    {
      "cell_type": "code",
      "metadata": {
        "id": "mZuOoGWB9M9G",
        "colab_type": "code",
        "outputId": "c072e8a7-5cd0-441d-e7b7-5dc138781d68",
        "colab": {}
      },
      "source": [
        "boostAlgo.fit(X_train,y_train)"
      ],
      "execution_count": 0,
      "outputs": [
        {
          "output_type": "execute_result",
          "data": {
            "text/plain": [
              "AdaBoostClassifier(algorithm='SAMME.R',\n",
              "          base_estimator=LogisticRegression(C=1.0, class_weight=None, dual=False, fit_intercept=True,\n",
              "          intercept_scaling=1, max_iter=100, multi_class='ovr', n_jobs=1,\n",
              "          penalty='l2', random_state=None, solver='liblinear', tol=0.0001,\n",
              "          verbose=0, warm_start=False),\n",
              "          learning_rate=1.0, n_estimators=101, random_state=None)"
            ]
          },
          "metadata": {
            "tags": []
          },
          "execution_count": 39
        }
      ]
    },
    {
      "cell_type": "code",
      "metadata": {
        "id": "9XYDgkCb9M9K",
        "colab_type": "code",
        "outputId": "b8790a43-896a-4c58-a6bf-8a1c8e132d4b",
        "colab": {}
      },
      "source": [
        "print(boostAlgo.score(X_train,y_train))\n",
        "print(boostAlgo.score(X_test,y_test))"
      ],
      "execution_count": 0,
      "outputs": [
        {
          "output_type": "stream",
          "text": [
            "0.6416666666666667\n",
            "0.7666666666666667\n"
          ],
          "name": "stdout"
        }
      ]
    },
    {
      "cell_type": "code",
      "metadata": {
        "id": "dRiuZi1V9M9N",
        "colab_type": "code",
        "colab": {}
      },
      "source": [
        ""
      ],
      "execution_count": 0,
      "outputs": []
    }
  ]
}