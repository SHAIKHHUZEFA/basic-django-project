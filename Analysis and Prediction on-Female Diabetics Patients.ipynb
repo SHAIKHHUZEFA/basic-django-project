{
  "nbformat": 4,
  "nbformat_minor": 0,
  "metadata": {
    "colab": {
      "name": "PROJECT 1.ipynb",
      "provenance": [],
      "collapsed_sections": [],
      "include_colab_link": true
    },
    "kernelspec": {
      "name": "python3",
      "display_name": "Python 3"
    }
  },
  "cells": [
    {
      "cell_type": "markdown",
      "metadata": {
        "id": "view-in-github",
        "colab_type": "text"
      },
      "source": [
        "<a href=\"https://colab.research.google.com/github/SHAIKHHUZEFA/basic-django-project/blob/master/Analysis%20and%20Prediction%20on-Female%20Diabetics%20Patients.ipynb\" target=\"_parent\"><img src=\"https://colab.research.google.com/assets/colab-badge.svg\" alt=\"Open In Colab\"/></a>"
      ]
    },
    {
      "cell_type": "code",
      "metadata": {
        "id": "ztIBfPi_IYtt",
        "colab_type": "code",
        "colab": {}
      },
      "source": [
        "                   #Analysis and Prediction on-Female Diabetics Patients"
      ],
      "execution_count": 0,
      "outputs": []
    },
    {
      "cell_type": "code",
      "metadata": {
        "id": "UGUCKsmDtb3_",
        "colab_type": "code",
        "outputId": "35d85705-f582-4b54-912c-596da6d1d3d2",
        "colab": {
          "base_uri": "https://localhost:8080/",
          "height": 122
        }
      },
      "source": [
        "from google.colab import drive\n",
        "drive.mount('/gdrive')"
      ],
      "execution_count": 0,
      "outputs": [
        {
          "output_type": "stream",
          "text": [
            "Go to this URL in a browser: https://accounts.google.com/o/oauth2/auth?client_id=947318989803-6bn6qk8qdgf4n4g3pfee6491hc0brc4i.apps.googleusercontent.com&redirect_uri=urn%3aietf%3awg%3aoauth%3a2.0%3aoob&response_type=code&scope=email%20https%3a%2f%2fwww.googleapis.com%2fauth%2fdocs.test%20https%3a%2f%2fwww.googleapis.com%2fauth%2fdrive%20https%3a%2f%2fwww.googleapis.com%2fauth%2fdrive.photos.readonly%20https%3a%2f%2fwww.googleapis.com%2fauth%2fpeopleapi.readonly\n",
            "\n",
            "Enter your authorization code:\n",
            "··········\n",
            "Mounted at /gdrive\n"
          ],
          "name": "stdout"
        }
      ]
    },
    {
      "cell_type": "code",
      "metadata": {
        "id": "wwNwmJAhx6v5",
        "colab_type": "code",
        "colab": {}
      },
      "source": [
        "#import packages"
      ],
      "execution_count": 0,
      "outputs": []
    },
    {
      "cell_type": "code",
      "metadata": {
        "id": "nKdYYmCOx98Q",
        "colab_type": "code",
        "colab": {}
      },
      "source": [
        "import pandas as pd\n",
        "import numpy as np\n",
        "import matplotlib.pyplot as plt\n",
        "import warnings\n",
        "warnings.filterwarnings('ignore')"
      ],
      "execution_count": 0,
      "outputs": []
    },
    {
      "cell_type": "code",
      "metadata": {
        "id": "VYLh4Y1JxpDg",
        "colab_type": "code",
        "colab": {}
      },
      "source": [
        "#load the data"
      ],
      "execution_count": 0,
      "outputs": []
    },
    {
      "cell_type": "code",
      "metadata": {
        "id": "NqQQhLRAxx8d",
        "colab_type": "code",
        "colab": {}
      },
      "source": [
        "df=pd.read_csv('/gdrive/My Drive/diabetes.csv')"
      ],
      "execution_count": 0,
      "outputs": []
    },
    {
      "cell_type": "code",
      "metadata": {
        "id": "2MPMWgwV3JZf",
        "colab_type": "code",
        "outputId": "69a68edc-9aeb-41ca-a6a6-f6b52ab01594",
        "colab": {
          "base_uri": "https://localhost:8080/",
          "height": 204
        }
      },
      "source": [
        "df.head()"
      ],
      "execution_count": 0,
      "outputs": [
        {
          "output_type": "execute_result",
          "data": {
            "text/html": [
              "<div>\n",
              "<style scoped>\n",
              "    .dataframe tbody tr th:only-of-type {\n",
              "        vertical-align: middle;\n",
              "    }\n",
              "\n",
              "    .dataframe tbody tr th {\n",
              "        vertical-align: top;\n",
              "    }\n",
              "\n",
              "    .dataframe thead th {\n",
              "        text-align: right;\n",
              "    }\n",
              "</style>\n",
              "<table border=\"1\" class=\"dataframe\">\n",
              "  <thead>\n",
              "    <tr style=\"text-align: right;\">\n",
              "      <th></th>\n",
              "      <th>Pregnancies</th>\n",
              "      <th>Glucose</th>\n",
              "      <th>BloodPressure</th>\n",
              "      <th>SkinThickness</th>\n",
              "      <th>Insulin</th>\n",
              "      <th>BMI</th>\n",
              "      <th>DiabetesPedigreeFunction</th>\n",
              "      <th>Age</th>\n",
              "      <th>Outcome</th>\n",
              "    </tr>\n",
              "  </thead>\n",
              "  <tbody>\n",
              "    <tr>\n",
              "      <th>0</th>\n",
              "      <td>6</td>\n",
              "      <td>148</td>\n",
              "      <td>72</td>\n",
              "      <td>35</td>\n",
              "      <td>0</td>\n",
              "      <td>33.6</td>\n",
              "      <td>0.627</td>\n",
              "      <td>50</td>\n",
              "      <td>1</td>\n",
              "    </tr>\n",
              "    <tr>\n",
              "      <th>1</th>\n",
              "      <td>1</td>\n",
              "      <td>85</td>\n",
              "      <td>66</td>\n",
              "      <td>29</td>\n",
              "      <td>0</td>\n",
              "      <td>26.6</td>\n",
              "      <td>0.351</td>\n",
              "      <td>31</td>\n",
              "      <td>0</td>\n",
              "    </tr>\n",
              "    <tr>\n",
              "      <th>2</th>\n",
              "      <td>8</td>\n",
              "      <td>183</td>\n",
              "      <td>64</td>\n",
              "      <td>0</td>\n",
              "      <td>0</td>\n",
              "      <td>23.3</td>\n",
              "      <td>0.672</td>\n",
              "      <td>32</td>\n",
              "      <td>1</td>\n",
              "    </tr>\n",
              "    <tr>\n",
              "      <th>3</th>\n",
              "      <td>1</td>\n",
              "      <td>89</td>\n",
              "      <td>66</td>\n",
              "      <td>23</td>\n",
              "      <td>94</td>\n",
              "      <td>28.1</td>\n",
              "      <td>0.167</td>\n",
              "      <td>21</td>\n",
              "      <td>0</td>\n",
              "    </tr>\n",
              "    <tr>\n",
              "      <th>4</th>\n",
              "      <td>0</td>\n",
              "      <td>137</td>\n",
              "      <td>40</td>\n",
              "      <td>35</td>\n",
              "      <td>168</td>\n",
              "      <td>43.1</td>\n",
              "      <td>2.288</td>\n",
              "      <td>33</td>\n",
              "      <td>1</td>\n",
              "    </tr>\n",
              "  </tbody>\n",
              "</table>\n",
              "</div>"
            ],
            "text/plain": [
              "   Pregnancies  Glucose  BloodPressure  ...  DiabetesPedigreeFunction  Age  Outcome\n",
              "0            6      148             72  ...                     0.627   50        1\n",
              "1            1       85             66  ...                     0.351   31        0\n",
              "2            8      183             64  ...                     0.672   32        1\n",
              "3            1       89             66  ...                     0.167   21        0\n",
              "4            0      137             40  ...                     2.288   33        1\n",
              "\n",
              "[5 rows x 9 columns]"
            ]
          },
          "metadata": {
            "tags": []
          },
          "execution_count": 4
        }
      ]
    },
    {
      "cell_type": "code",
      "metadata": {
        "id": "ZZxaWFmJ3TKf",
        "colab_type": "code",
        "colab": {}
      },
      "source": [
        "#explanation of features and label"
      ],
      "execution_count": 0,
      "outputs": []
    },
    {
      "cell_type": "code",
      "metadata": {
        "id": "yUNhi6o53Zi_",
        "colab_type": "code",
        "colab": {}
      },
      "source": [
        "#The following features have been provided to help us predict whether a person is diabetic or not:\n",
        "  1)Pregnancies: Number of times pregnant\n",
        "\n",
        "  2)Glucose: Plasma glucose concentration over 2 hours in an oral glucose tolerance test\n",
        "\n",
        "  3)BloodPressure: Diastolic blood pressure (mm Hg)\n",
        "\n",
        "  4)SkinThickness: Triceps skin fold thickness (mm)\n",
        "\n",
        "  5)Insulin: 2-Hour serum insulin (mu U/ml)\n",
        "\n",
        "  6)BMI: Body mass index (weight in kg/(height in m)2)\n",
        "\n",
        "  7)DiabetesPedigreeFunction: Diabetes pedigree function (a function which scores likelihood of diabetes based on family history)\n",
        "\n",
        "  8)Age: Age (years)\n",
        "\n",
        "  9)Outcome: Class variable (0 if non-diabetic, 1 if diabetic)"
      ],
      "execution_count": 0,
      "outputs": []
    },
    {
      "cell_type": "code",
      "metadata": {
        "id": "drffRbpv4L5f",
        "colab_type": "code",
        "colab": {}
      },
      "source": [
        "#check the size and shape of the data"
      ],
      "execution_count": 0,
      "outputs": []
    },
    {
      "cell_type": "code",
      "metadata": {
        "id": "mwAe97lMSv2B",
        "colab_type": "code",
        "outputId": "cc6de1d8-c411-4f50-bd64-463e71ee7028",
        "colab": {
          "base_uri": "https://localhost:8080/",
          "height": 34
        }
      },
      "source": [
        "df.size"
      ],
      "execution_count": 0,
      "outputs": [
        {
          "output_type": "execute_result",
          "data": {
            "text/plain": [
              "6912"
            ]
          },
          "metadata": {
            "tags": []
          },
          "execution_count": 5
        }
      ]
    },
    {
      "cell_type": "code",
      "metadata": {
        "id": "iP6fda-lS5SP",
        "colab_type": "code",
        "outputId": "51d6d25e-e278-4bbe-fa15-930f9e7b5d7a",
        "colab": {
          "base_uri": "https://localhost:8080/",
          "height": 34
        }
      },
      "source": [
        "df.shape"
      ],
      "execution_count": 0,
      "outputs": [
        {
          "output_type": "execute_result",
          "data": {
            "text/plain": [
              "(768, 9)"
            ]
          },
          "metadata": {
            "tags": []
          },
          "execution_count": 6
        }
      ]
    },
    {
      "cell_type": "code",
      "metadata": {
        "id": "kgHS2Pq8H9s2",
        "colab_type": "code",
        "colab": {}
      },
      "source": [
        "#check weather the data has null value or not"
      ],
      "execution_count": 0,
      "outputs": []
    },
    {
      "cell_type": "code",
      "metadata": {
        "id": "2Y7MtRxj5dDZ",
        "colab_type": "code",
        "outputId": "a8c79a6a-27d7-4e93-e239-66976dac252a",
        "colab": {
          "base_uri": "https://localhost:8080/",
          "height": 187
        }
      },
      "source": [
        "df.isna().sum()"
      ],
      "execution_count": 0,
      "outputs": [
        {
          "output_type": "execute_result",
          "data": {
            "text/plain": [
              "Pregnancies                 0\n",
              "Glucose                     0\n",
              "BloodPressure               0\n",
              "SkinThickness               0\n",
              "Insulin                     0\n",
              "BMI                         0\n",
              "DiabetesPedigreeFunction    0\n",
              "Age                         0\n",
              "Outcome                     0\n",
              "dtype: int64"
            ]
          },
          "metadata": {
            "tags": []
          },
          "execution_count": 70
        }
      ]
    },
    {
      "cell_type": "code",
      "metadata": {
        "id": "KHgO9uteIJoW",
        "colab_type": "code",
        "colab": {}
      },
      "source": [
        "#there is no null value..i.e data is already clean"
      ],
      "execution_count": 0,
      "outputs": []
    },
    {
      "cell_type": "code",
      "metadata": {
        "id": "H5Pq7hfz5otX",
        "colab_type": "code",
        "colab": {}
      },
      "source": [
        "#describe the data"
      ],
      "execution_count": 0,
      "outputs": []
    },
    {
      "cell_type": "code",
      "metadata": {
        "id": "cXVuoGs25rE6",
        "colab_type": "code",
        "outputId": "f1e3394b-a186-44d1-89ad-d980b9de1586",
        "colab": {
          "base_uri": "https://localhost:8080/",
          "height": 297
        }
      },
      "source": [
        "df.describe()"
      ],
      "execution_count": 0,
      "outputs": [
        {
          "output_type": "execute_result",
          "data": {
            "text/html": [
              "<div>\n",
              "<style scoped>\n",
              "    .dataframe tbody tr th:only-of-type {\n",
              "        vertical-align: middle;\n",
              "    }\n",
              "\n",
              "    .dataframe tbody tr th {\n",
              "        vertical-align: top;\n",
              "    }\n",
              "\n",
              "    .dataframe thead th {\n",
              "        text-align: right;\n",
              "    }\n",
              "</style>\n",
              "<table border=\"1\" class=\"dataframe\">\n",
              "  <thead>\n",
              "    <tr style=\"text-align: right;\">\n",
              "      <th></th>\n",
              "      <th>Pregnancies</th>\n",
              "      <th>Glucose</th>\n",
              "      <th>BloodPressure</th>\n",
              "      <th>SkinThickness</th>\n",
              "      <th>Insulin</th>\n",
              "      <th>BMI</th>\n",
              "      <th>DiabetesPedigreeFunction</th>\n",
              "      <th>Age</th>\n",
              "      <th>Outcome</th>\n",
              "    </tr>\n",
              "  </thead>\n",
              "  <tbody>\n",
              "    <tr>\n",
              "      <th>count</th>\n",
              "      <td>768.000000</td>\n",
              "      <td>768.000000</td>\n",
              "      <td>768.000000</td>\n",
              "      <td>768.000000</td>\n",
              "      <td>768.000000</td>\n",
              "      <td>768.000000</td>\n",
              "      <td>768.000000</td>\n",
              "      <td>768.000000</td>\n",
              "      <td>768.000000</td>\n",
              "    </tr>\n",
              "    <tr>\n",
              "      <th>mean</th>\n",
              "      <td>3.845052</td>\n",
              "      <td>120.894531</td>\n",
              "      <td>69.105469</td>\n",
              "      <td>20.536458</td>\n",
              "      <td>79.799479</td>\n",
              "      <td>31.992578</td>\n",
              "      <td>0.471876</td>\n",
              "      <td>33.240885</td>\n",
              "      <td>0.348958</td>\n",
              "    </tr>\n",
              "    <tr>\n",
              "      <th>std</th>\n",
              "      <td>3.369578</td>\n",
              "      <td>31.972618</td>\n",
              "      <td>19.355807</td>\n",
              "      <td>15.952218</td>\n",
              "      <td>115.244002</td>\n",
              "      <td>7.884160</td>\n",
              "      <td>0.331329</td>\n",
              "      <td>11.760232</td>\n",
              "      <td>0.476951</td>\n",
              "    </tr>\n",
              "    <tr>\n",
              "      <th>min</th>\n",
              "      <td>0.000000</td>\n",
              "      <td>0.000000</td>\n",
              "      <td>0.000000</td>\n",
              "      <td>0.000000</td>\n",
              "      <td>0.000000</td>\n",
              "      <td>0.000000</td>\n",
              "      <td>0.078000</td>\n",
              "      <td>21.000000</td>\n",
              "      <td>0.000000</td>\n",
              "    </tr>\n",
              "    <tr>\n",
              "      <th>25%</th>\n",
              "      <td>1.000000</td>\n",
              "      <td>99.000000</td>\n",
              "      <td>62.000000</td>\n",
              "      <td>0.000000</td>\n",
              "      <td>0.000000</td>\n",
              "      <td>27.300000</td>\n",
              "      <td>0.243750</td>\n",
              "      <td>24.000000</td>\n",
              "      <td>0.000000</td>\n",
              "    </tr>\n",
              "    <tr>\n",
              "      <th>50%</th>\n",
              "      <td>3.000000</td>\n",
              "      <td>117.000000</td>\n",
              "      <td>72.000000</td>\n",
              "      <td>23.000000</td>\n",
              "      <td>30.500000</td>\n",
              "      <td>32.000000</td>\n",
              "      <td>0.372500</td>\n",
              "      <td>29.000000</td>\n",
              "      <td>0.000000</td>\n",
              "    </tr>\n",
              "    <tr>\n",
              "      <th>75%</th>\n",
              "      <td>6.000000</td>\n",
              "      <td>140.250000</td>\n",
              "      <td>80.000000</td>\n",
              "      <td>32.000000</td>\n",
              "      <td>127.250000</td>\n",
              "      <td>36.600000</td>\n",
              "      <td>0.626250</td>\n",
              "      <td>41.000000</td>\n",
              "      <td>1.000000</td>\n",
              "    </tr>\n",
              "    <tr>\n",
              "      <th>max</th>\n",
              "      <td>17.000000</td>\n",
              "      <td>199.000000</td>\n",
              "      <td>122.000000</td>\n",
              "      <td>99.000000</td>\n",
              "      <td>846.000000</td>\n",
              "      <td>67.100000</td>\n",
              "      <td>2.420000</td>\n",
              "      <td>81.000000</td>\n",
              "      <td>1.000000</td>\n",
              "    </tr>\n",
              "  </tbody>\n",
              "</table>\n",
              "</div>"
            ],
            "text/plain": [
              "       Pregnancies     Glucose  ...         Age     Outcome\n",
              "count   768.000000  768.000000  ...  768.000000  768.000000\n",
              "mean      3.845052  120.894531  ...   33.240885    0.348958\n",
              "std       3.369578   31.972618  ...   11.760232    0.476951\n",
              "min       0.000000    0.000000  ...   21.000000    0.000000\n",
              "25%       1.000000   99.000000  ...   24.000000    0.000000\n",
              "50%       3.000000  117.000000  ...   29.000000    0.000000\n",
              "75%       6.000000  140.250000  ...   41.000000    1.000000\n",
              "max      17.000000  199.000000  ...   81.000000    1.000000\n",
              "\n",
              "[8 rows x 9 columns]"
            ]
          },
          "metadata": {
            "tags": []
          },
          "execution_count": 63
        }
      ]
    },
    {
      "cell_type": "code",
      "metadata": {
        "id": "fcfxyeCUfg6J",
        "colab_type": "code",
        "outputId": "25192a16-2c5a-488b-fb7a-ebe95bb5b7c6",
        "colab": {
          "base_uri": "https://localhost:8080/",
          "height": 255
        }
      },
      "source": [
        "df.info()"
      ],
      "execution_count": 0,
      "outputs": [
        {
          "output_type": "stream",
          "text": [
            "<class 'pandas.core.frame.DataFrame'>\n",
            "RangeIndex: 768 entries, 0 to 767\n",
            "Data columns (total 9 columns):\n",
            "Pregnancies                 768 non-null int64\n",
            "Glucose                     768 non-null int64\n",
            "BloodPressure               768 non-null int64\n",
            "SkinThickness               768 non-null int64\n",
            "Insulin                     768 non-null int64\n",
            "BMI                         768 non-null float64\n",
            "DiabetesPedigreeFunction    768 non-null float64\n",
            "Age                         768 non-null int64\n",
            "Outcome                     768 non-null int64\n",
            "dtypes: float64(2), int64(7)\n",
            "memory usage: 54.1 KB\n"
          ],
          "name": "stdout"
        }
      ]
    },
    {
      "cell_type": "code",
      "metadata": {
        "id": "B4qBe6Xi8WJ6",
        "colab_type": "code",
        "colab": {}
      },
      "source": [
        "#check the data types weather it is int,float or object.if it is in object convert into int or float"
      ],
      "execution_count": 0,
      "outputs": []
    },
    {
      "cell_type": "code",
      "metadata": {
        "id": "BX3rC6V08V68",
        "colab_type": "code",
        "outputId": "ade76165-4c4d-481c-e002-9bd510a0b783",
        "colab": {
          "base_uri": "https://localhost:8080/",
          "height": 187
        }
      },
      "source": [
        "df.dtypes"
      ],
      "execution_count": 0,
      "outputs": [
        {
          "output_type": "execute_result",
          "data": {
            "text/plain": [
              "Pregnancies                   int64\n",
              "Glucose                       int64\n",
              "BloodPressure                 int64\n",
              "SkinThickness                 int64\n",
              "Insulin                       int64\n",
              "BMI                         float64\n",
              "DiabetesPedigreeFunction    float64\n",
              "Age                           int64\n",
              "Outcome                       int64\n",
              "dtype: object"
            ]
          },
          "metadata": {
            "tags": []
          },
          "execution_count": 64
        }
      ]
    },
    {
      "cell_type": "code",
      "metadata": {
        "id": "4xi-nzP29LjA",
        "colab_type": "code",
        "colab": {}
      },
      "source": [
        "# checking the balance of the data by plotting the count of outcomes by their value"
      ],
      "execution_count": 0,
      "outputs": []
    },
    {
      "cell_type": "code",
      "metadata": {
        "id": "xjZFug1Q9K6a",
        "colab_type": "code",
        "outputId": "789fb9f4-e3af-423f-f025-3e3793e6d50d",
        "colab": {
          "base_uri": "https://localhost:8080/",
          "height": 265
        }
      },
      "source": [
        "df=df.Outcome.value_counts().plot(kind=\"bar\")"
      ],
      "execution_count": 0,
      "outputs": [
        {
          "output_type": "display_data",
          "data": {
            "image/png": "[encoded data removed]",
            "text/plain": [
              "<Figure size 432x288 with 1 Axes>"
            ]
          },
          "metadata": {
            "tags": []
          }
        }
      ]
    },
    {
      "cell_type": "code",
      "metadata": {
        "id": "0AwaaB2B-89X",
        "colab_type": "code",
        "outputId": "35962ad0-1e12-4e4b-b5f0-65677bfa9e32",
        "colab": {
          "base_uri": "https://localhost:8080/",
          "height": 68
        }
      },
      "source": [
        "df.Outcome.value_counts()"
      ],
      "execution_count": 0,
      "outputs": [
        {
          "output_type": "execute_result",
          "data": {
            "text/plain": [
              "0    500\n",
              "1    268\n",
              "Name: Outcome, dtype: int64"
            ]
          },
          "metadata": {
            "tags": []
          },
          "execution_count": 74
        }
      ]
    },
    {
      "cell_type": "code",
      "metadata": {
        "id": "N7O4iTbN_Vds",
        "colab_type": "code",
        "colab": {}
      },
      "source": [
        "#data is unbalace, so at the end of the program we will check the prescion and recall"
      ],
      "execution_count": 0,
      "outputs": []
    },
    {
      "cell_type": "code",
      "metadata": {
        "id": "EEkeFWaXRPAn",
        "colab_type": "code",
        "colab": {}
      },
      "source": [
        "#check the correlation"
      ],
      "execution_count": 0,
      "outputs": []
    },
    {
      "cell_type": "code",
      "metadata": {
        "id": "7xZJHpSNRDlz",
        "colab_type": "code",
        "outputId": "6d338ce8-6e6c-468a-e776-338647acc625",
        "colab": {
          "base_uri": "https://localhost:8080/",
          "height": 328
        }
      },
      "source": [
        "corr = df.corr()\n",
        "corr"
      ],
      "execution_count": 0,
      "outputs": [
        {
          "output_type": "execute_result",
          "data": {
            "text/html": [
              "<div>\n",
              "<style scoped>\n",
              "    .dataframe tbody tr th:only-of-type {\n",
              "        vertical-align: middle;\n",
              "    }\n",
              "\n",
              "    .dataframe tbody tr th {\n",
              "        vertical-align: top;\n",
              "    }\n",
              "\n",
              "    .dataframe thead th {\n",
              "        text-align: right;\n",
              "    }\n",
              "</style>\n",
              "<table border=\"1\" class=\"dataframe\">\n",
              "  <thead>\n",
              "    <tr style=\"text-align: right;\">\n",
              "      <th></th>\n",
              "      <th>Pregnancies</th>\n",
              "      <th>Glucose</th>\n",
              "      <th>BloodPressure</th>\n",
              "      <th>SkinThickness</th>\n",
              "      <th>Insulin</th>\n",
              "      <th>BMI</th>\n",
              "      <th>DiabetesPedigreeFunction</th>\n",
              "      <th>Age</th>\n",
              "      <th>Outcome</th>\n",
              "    </tr>\n",
              "  </thead>\n",
              "  <tbody>\n",
              "    <tr>\n",
              "      <th>Pregnancies</th>\n",
              "      <td>1.000000</td>\n",
              "      <td>0.129459</td>\n",
              "      <td>0.141282</td>\n",
              "      <td>-0.081672</td>\n",
              "      <td>-0.073535</td>\n",
              "      <td>0.017683</td>\n",
              "      <td>-0.033523</td>\n",
              "      <td>0.544341</td>\n",
              "      <td>0.221898</td>\n",
              "    </tr>\n",
              "    <tr>\n",
              "      <th>Glucose</th>\n",
              "      <td>0.129459</td>\n",
              "      <td>1.000000</td>\n",
              "      <td>0.152590</td>\n",
              "      <td>0.057328</td>\n",
              "      <td>0.331357</td>\n",
              "      <td>0.221071</td>\n",
              "      <td>0.137337</td>\n",
              "      <td>0.263514</td>\n",
              "      <td>0.466581</td>\n",
              "    </tr>\n",
              "    <tr>\n",
              "      <th>BloodPressure</th>\n",
              "      <td>0.141282</td>\n",
              "      <td>0.152590</td>\n",
              "      <td>1.000000</td>\n",
              "      <td>0.207371</td>\n",
              "      <td>0.088933</td>\n",
              "      <td>0.281805</td>\n",
              "      <td>0.041265</td>\n",
              "      <td>0.239528</td>\n",
              "      <td>0.065068</td>\n",
              "    </tr>\n",
              "    <tr>\n",
              "      <th>SkinThickness</th>\n",
              "      <td>-0.081672</td>\n",
              "      <td>0.057328</td>\n",
              "      <td>0.207371</td>\n",
              "      <td>1.000000</td>\n",
              "      <td>0.436783</td>\n",
              "      <td>0.392573</td>\n",
              "      <td>0.183928</td>\n",
              "      <td>-0.113970</td>\n",
              "      <td>0.074752</td>\n",
              "    </tr>\n",
              "    <tr>\n",
              "      <th>Insulin</th>\n",
              "      <td>-0.073535</td>\n",
              "      <td>0.331357</td>\n",
              "      <td>0.088933</td>\n",
              "      <td>0.436783</td>\n",
              "      <td>1.000000</td>\n",
              "      <td>0.197859</td>\n",
              "      <td>0.185071</td>\n",
              "      <td>-0.042163</td>\n",
              "      <td>0.130548</td>\n",
              "    </tr>\n",
              "    <tr>\n",
              "      <th>BMI</th>\n",
              "      <td>0.017683</td>\n",
              "      <td>0.221071</td>\n",
              "      <td>0.281805</td>\n",
              "      <td>0.392573</td>\n",
              "      <td>0.197859</td>\n",
              "      <td>1.000000</td>\n",
              "      <td>0.140647</td>\n",
              "      <td>0.036242</td>\n",
              "      <td>0.292695</td>\n",
              "    </tr>\n",
              "    <tr>\n",
              "      <th>DiabetesPedigreeFunction</th>\n",
              "      <td>-0.033523</td>\n",
              "      <td>0.137337</td>\n",
              "      <td>0.041265</td>\n",
              "      <td>0.183928</td>\n",
              "      <td>0.185071</td>\n",
              "      <td>0.140647</td>\n",
              "      <td>1.000000</td>\n",
              "      <td>0.033561</td>\n",
              "      <td>0.173844</td>\n",
              "    </tr>\n",
              "    <tr>\n",
              "      <th>Age</th>\n",
              "      <td>0.544341</td>\n",
              "      <td>0.263514</td>\n",
              "      <td>0.239528</td>\n",
              "      <td>-0.113970</td>\n",
              "      <td>-0.042163</td>\n",
              "      <td>0.036242</td>\n",
              "      <td>0.033561</td>\n",
              "      <td>1.000000</td>\n",
              "      <td>0.238356</td>\n",
              "    </tr>\n",
              "    <tr>\n",
              "      <th>Outcome</th>\n",
              "      <td>0.221898</td>\n",
              "      <td>0.466581</td>\n",
              "      <td>0.065068</td>\n",
              "      <td>0.074752</td>\n",
              "      <td>0.130548</td>\n",
              "      <td>0.292695</td>\n",
              "      <td>0.173844</td>\n",
              "      <td>0.238356</td>\n",
              "      <td>1.000000</td>\n",
              "    </tr>\n",
              "  </tbody>\n",
              "</table>\n",
              "</div>"
            ],
            "text/plain": [
              "                          Pregnancies   Glucose  ...       Age   Outcome\n",
              "Pregnancies                  1.000000  0.129459  ...  0.544341  0.221898\n",
              "Glucose                      0.129459  1.000000  ...  0.263514  0.466581\n",
              "BloodPressure                0.141282  0.152590  ...  0.239528  0.065068\n",
              "SkinThickness               -0.081672  0.057328  ... -0.113970  0.074752\n",
              "Insulin                     -0.073535  0.331357  ... -0.042163  0.130548\n",
              "BMI                          0.017683  0.221071  ...  0.036242  0.292695\n",
              "DiabetesPedigreeFunction    -0.033523  0.137337  ...  0.033561  0.173844\n",
              "Age                          0.544341  0.263514  ...  1.000000  0.238356\n",
              "Outcome                      0.221898  0.466581  ...  0.238356  1.000000\n",
              "\n",
              "[9 rows x 9 columns]"
            ]
          },
          "metadata": {
            "tags": []
          },
          "execution_count": 114
        }
      ]
    },
    {
      "cell_type": "code",
      "metadata": {
        "id": "pa69ahX7CoMx",
        "colab_type": "code",
        "colab": {}
      },
      "source": [
        "#draw the plot to check the relation between data"
      ],
      "execution_count": 0,
      "outputs": []
    },
    {
      "cell_type": "code",
      "metadata": {
        "id": "lke5Q1ayAOgP",
        "colab_type": "code",
        "colab": {}
      },
      "source": [
        "import seaborn as sns"
      ],
      "execution_count": 0,
      "outputs": []
    },
    {
      "cell_type": "code",
      "metadata": {
        "id": "7pzYT2CaAOef",
        "colab_type": "code",
        "outputId": "07b25cb1-5ea3-4dee-857f-45871efecbe3",
        "colab": {
          "base_uri": "https://localhost:8080/",
          "height": 735
        }
      },
      "source": [
        "plt.figure(figsize=(12,10))\n",
        "df=sns.heatmap(df.corr(),annot=True,cmap ='RdYlGn') "
      ],
      "execution_count": 0,
      "outputs": [
        {
          "output_type": "display_data",
          "data": {
            "image/png": "[encoded data removed]",
            "text/plain": [
              "<Figure size 864x720 with 2 Axes>"
            ]
          },
          "metadata": {
            "tags": []
          }
        }
      ]
    },
    {
      "cell_type": "code",
      "metadata": {
        "id": "NjRmM1unAOcp",
        "colab_type": "code",
        "colab": {}
      },
      "source": [
        "#above diagram shows the relation between each other"
      ],
      "execution_count": 0,
      "outputs": []
    },
    {
      "cell_type": "code",
      "metadata": {
        "id": "dW2TZCkRIgUK",
        "colab_type": "code",
        "colab": {}
      },
      "source": [
        "#draw the histogram"
      ],
      "execution_count": 0,
      "outputs": []
    },
    {
      "cell_type": "code",
      "metadata": {
        "id": "PXkF0KgZAOVL",
        "colab_type": "code",
        "outputId": "ba5f3c35-1229-4789-b0b3-30c737eb737e",
        "colab": {
          "base_uri": "https://localhost:8080/",
          "height": 780
        }
      },
      "source": [
        "df.hist(figsize=(10, 10))"
      ],
      "execution_count": 0,
      "outputs": [
        {
          "output_type": "execute_result",
          "data": {
            "text/plain": [
              "array([[<matplotlib.axes._subplots.AxesSubplot object at 0x7f9d6792a3c8>,\n",
              "        <matplotlib.axes._subplots.AxesSubplot object at 0x7f9d67a60588>,\n",
              "        <matplotlib.axes._subplots.AxesSubplot object at 0x7f9d6799e5c0>],\n",
              "       [<matplotlib.axes._subplots.AxesSubplot object at 0x7f9d61b05f60>,\n",
              "        <matplotlib.axes._subplots.AxesSubplot object at 0x7f9d61ab9940>,\n",
              "        <matplotlib.axes._subplots.AxesSubplot object at 0x7f9d61a72320>],\n",
              "       [<matplotlib.axes._subplots.AxesSubplot object at 0x7f9d61a9ccc0>,\n",
              "        <matplotlib.axes._subplots.AxesSubplot object at 0x7f9d61a516d8>,\n",
              "        <matplotlib.axes._subplots.AxesSubplot object at 0x7f9d61a51710>]],\n",
              "      dtype=object)"
            ]
          },
          "metadata": {
            "tags": []
          },
          "execution_count": 109
        },
        {
          "output_type": "display_data",
          "data": {
            "image/png": "[encoded data removed]",
            "text/plain": [
              "<Figure size 720x720 with 9 Axes>"
            ]
          },
          "metadata": {
            "tags": []
          }
        }
      ]
    },
    {
      "cell_type": "code",
      "metadata": {
        "id": "eLbRKzIFAOSk",
        "colab_type": "code",
        "outputId": "52765384-2927-4419-805f-84453780bbe2",
        "colab": {
          "base_uri": "https://localhost:8080/",
          "height": 221
        }
      },
      "source": [
        "df.DiabetesPedigreeFunction.value_counts()"
      ],
      "execution_count": 0,
      "outputs": [
        {
          "output_type": "execute_result",
          "data": {
            "text/plain": [
              "0.254    6\n",
              "0.258    6\n",
              "0.259    5\n",
              "0.238    5\n",
              "0.207    5\n",
              "        ..\n",
              "0.886    1\n",
              "0.804    1\n",
              "1.251    1\n",
              "0.382    1\n",
              "0.375    1\n",
              "Name: DiabetesPedigreeFunction, Length: 517, dtype: int64"
            ]
          },
          "metadata": {
            "tags": []
          },
          "execution_count": 113
        }
      ]
    },
    {
      "cell_type": "code",
      "metadata": {
        "id": "v-PDNNiEs2uR",
        "colab_type": "code",
        "colab": {}
      },
      "source": [
        "Logistic Regression:\n",
        "This is a statistical technique most commonly used in scenarios where the outcome variable\n",
        "is categorical. It is used for binary as well as multinomial classifications. The purpose of\n",
        "conducting logistic regression is to create a model for getting a biomarker. If a model is in\n",
        "place, one could use the model to assess the chances of diabetes or not. Logistic regression\n",
        "model looks like below:\n"
      ],
      "execution_count": 0,
      "outputs": []
    },
    {
      "cell_type": "code",
      "metadata": {
        "id": "nDzsqs6AAOO6",
        "colab_type": "code",
        "colab": {}
      },
      "source": [
        "#split the data into train and test and predict the model using logistic regression\n",
        "#also check weather the model is genralized or not"
      ],
      "execution_count": 0,
      "outputs": []
    },
    {
      "cell_type": "code",
      "metadata": {
        "id": "rgloFv2rAOLJ",
        "colab_type": "code",
        "colab": {}
      },
      "source": [
        "from sklearn.model_selection import train_test_split\n",
        "from sklearn.linear_model import LogisticRegression"
      ],
      "execution_count": 0,
      "outputs": []
    },
    {
      "cell_type": "code",
      "metadata": {
        "id": "xG04USBVAOF8",
        "colab_type": "code",
        "colab": {}
      },
      "source": [
        "X_train,X_test,Y_train,Y_test=train_test_split(df.drop(labels=['Outcome',],axis=1),df[['Outcome']],test_size=0.2,random_state=57)"
      ],
      "execution_count": 0,
      "outputs": []
    },
    {
      "cell_type": "code",
      "metadata": {
        "id": "4udShGGuxCoh",
        "colab_type": "code",
        "outputId": "94edcc6d-747d-4e7a-e951-a97d7378bd32",
        "colab": {
          "base_uri": "https://localhost:8080/",
          "height": 34
        }
      },
      "source": [
        "X_train.size"
      ],
      "execution_count": 0,
      "outputs": [
        {
          "output_type": "execute_result",
          "data": {
            "text/plain": [
              "4912"
            ]
          },
          "metadata": {
            "tags": []
          },
          "execution_count": 53
        }
      ]
    },
    {
      "cell_type": "code",
      "metadata": {
        "id": "bnxfCaIyxGHR",
        "colab_type": "code",
        "outputId": "25dc3d20-8829-410a-c294-6757dbb74b4b",
        "colab": {
          "base_uri": "https://localhost:8080/",
          "height": 34
        }
      },
      "source": [
        "X_test.size"
      ],
      "execution_count": 0,
      "outputs": [
        {
          "output_type": "execute_result",
          "data": {
            "text/plain": [
              "1232"
            ]
          },
          "metadata": {
            "tags": []
          },
          "execution_count": 54
        }
      ]
    },
    {
      "cell_type": "code",
      "metadata": {
        "id": "WlO9TOZMAN93",
        "colab_type": "code",
        "colab": {}
      },
      "source": [
        "model1=LogisticRegression()"
      ],
      "execution_count": 0,
      "outputs": []
    },
    {
      "cell_type": "code",
      "metadata": {
        "id": "Rc-qTAjKwuIV",
        "colab_type": "code",
        "outputId": "d12d3f8d-d16c-4f8d-c666-b02b40a62ce9",
        "colab": {
          "base_uri": "https://localhost:8080/",
          "height": 102
        }
      },
      "source": [
        "model1.fit(X_train,Y_train)"
      ],
      "execution_count": 0,
      "outputs": [
        {
          "output_type": "execute_result",
          "data": {
            "text/plain": [
              "LogisticRegression(C=1.0, class_weight=None, dual=False, fit_intercept=True,\n",
              "                   intercept_scaling=1, l1_ratio=None, max_iter=100,\n",
              "                   multi_class='warn', n_jobs=None, penalty='l2',\n",
              "                   random_state=None, solver='warn', tol=0.0001, verbose=0,\n",
              "                   warm_start=False)"
            ]
          },
          "metadata": {
            "tags": []
          },
          "execution_count": 56
        }
      ]
    },
    {
      "cell_type": "code",
      "metadata": {
        "id": "2P9ULuW-w44m",
        "colab_type": "code",
        "colab": {}
      },
      "source": [
        "pred=model1.predict(X_test)"
      ],
      "execution_count": 0,
      "outputs": []
    },
    {
      "cell_type": "code",
      "metadata": {
        "id": "S6vM5Xuiw-oG",
        "colab_type": "code",
        "outputId": "048667a5-e2be-451b-fa88-6cba069cd1f9",
        "colab": {
          "base_uri": "https://localhost:8080/",
          "height": 136
        }
      },
      "source": [
        "pred"
      ],
      "execution_count": 0,
      "outputs": [
        {
          "output_type": "execute_result",
          "data": {
            "text/plain": [
              "array([0, 0, 1, 1, 0, 0, 1, 0, 0, 1, 0, 1, 0, 0, 0, 0, 0, 0, 1, 0, 0, 0,\n",
              "       1, 0, 0, 1, 1, 0, 1, 0, 1, 0, 1, 0, 1, 1, 0, 0, 0, 1, 0, 0, 0, 1,\n",
              "       1, 1, 0, 0, 0, 0, 0, 1, 0, 0, 0, 0, 0, 0, 1, 0, 1, 0, 1, 0, 0, 0,\n",
              "       0, 0, 0, 1, 0, 0, 0, 1, 0, 0, 0, 0, 0, 0, 1, 0, 0, 0, 0, 0, 1, 0,\n",
              "       0, 1, 0, 0, 0, 0, 1, 1, 0, 0, 0, 0, 0, 0, 0, 0, 0, 0, 0, 0, 0, 0,\n",
              "       0, 1, 0, 1, 0, 0, 0, 0, 0, 1, 0, 0, 0, 0, 1, 1, 1, 1, 0, 1, 0, 0,\n",
              "       1, 0, 1, 0, 0, 1, 1, 0, 0, 0, 0, 0, 0, 0, 0, 0, 0, 0, 0, 0, 1, 1])"
            ]
          },
          "metadata": {
            "tags": []
          },
          "execution_count": 58
        }
      ]
    },
    {
      "cell_type": "code",
      "metadata": {
        "id": "F3B2vU5tw-jN",
        "colab_type": "code",
        "outputId": "6a5e8dc9-7003-430c-ec3c-ad5defc810a9",
        "colab": {
          "base_uri": "https://localhost:8080/",
          "height": 34
        }
      },
      "source": [
        "print(model1.score(X_train,Y_train))"
      ],
      "execution_count": 0,
      "outputs": [
        {
          "output_type": "stream",
          "text": [
            "0.758957654723127\n"
          ],
          "name": "stdout"
        }
      ]
    },
    {
      "cell_type": "code",
      "metadata": {
        "id": "6wBIshDNx3Jc",
        "colab_type": "code",
        "outputId": "587e40ee-11e7-420f-f353-46313183c9e9",
        "colab": {
          "base_uri": "https://localhost:8080/",
          "height": 34
        }
      },
      "source": [
        "print(model1.score(X_test,Y_test))"
      ],
      "execution_count": 0,
      "outputs": [
        {
          "output_type": "stream",
          "text": [
            "0.8311688311688312\n"
          ],
          "name": "stdout"
        }
      ]
    },
    {
      "cell_type": "code",
      "metadata": {
        "id": "0mJ9lxdsKgnk",
        "colab_type": "code",
        "colab": {}
      },
      "source": [
        "#after using the brute force technique we got the best model on random_state=57,,also we are getting test_score > train_score..\n",
        "#so this model is genralized.so we will accept this model"
      ],
      "execution_count": 0,
      "outputs": []
    },
    {
      "cell_type": "code",
      "metadata": {
        "id": "AiStWOyoznFI",
        "colab_type": "code",
        "colab": {}
      },
      "source": [
        "from sklearn.metrics import confusion_matrix"
      ],
      "execution_count": 0,
      "outputs": []
    },
    {
      "cell_type": "code",
      "metadata": {
        "id": "vvV0sH8TK-fD",
        "colab_type": "code",
        "colab": {}
      },
      "source": [
        "#make the matrix to check the misclassification"
      ],
      "execution_count": 0,
      "outputs": []
    },
    {
      "cell_type": "code",
      "metadata": {
        "id": "GcKXudgLzyeu",
        "colab_type": "code",
        "colab": {}
      },
      "source": [
        "cm=confusion_matrix(Y_test,pred)"
      ],
      "execution_count": 0,
      "outputs": []
    },
    {
      "cell_type": "code",
      "metadata": {
        "id": "dfetskiD0Btk",
        "colab_type": "code",
        "outputId": "86ca4c69-06c6-4e1a-a6e5-9698224c4bc0",
        "colab": {
          "base_uri": "https://localhost:8080/",
          "height": 51
        }
      },
      "source": [
        "cm"
      ],
      "execution_count": 0,
      "outputs": [
        {
          "output_type": "execute_result",
          "data": {
            "text/plain": [
              "array([[95, 10],\n",
              "       [16, 33]])"
            ]
          },
          "metadata": {
            "tags": []
          },
          "execution_count": 63
        }
      ]
    },
    {
      "cell_type": "code",
      "metadata": {
        "id": "-ay4l-ze2_RS",
        "colab_type": "code",
        "outputId": "da702da0-c587-4dc4-95c7-df931aaab11e",
        "colab": {
          "base_uri": "https://localhost:8080/",
          "height": 312
        }
      },
      "source": [
        "pred = model1.predict(X_test)\n",
        "cm=confusion_matrix(Y_test,pred)\n",
        "p = sns.heatmap(pd.DataFrame(cm), annot=True, cmap=\"YlGnBu\" ,fmt='g')\n",
        "plt.title('Confusion matrix')\n",
        "plt.ylabel('Actual label')\n",
        "plt.xlabel('Predicted label')"
      ],
      "execution_count": 0,
      "outputs": [
        {
          "output_type": "execute_result",
          "data": {
            "text/plain": [
              "Text(0.5, 15.0, 'Predicted label')"
            ]
          },
          "metadata": {
            "tags": []
          },
          "execution_count": 33
        },
        {
          "output_type": "display_data",
          "data": {
            "image/png": "[encoded data removed]",
            "text/plain": [
              "<Figure size 432x288 with 2 Axes>"
            ]
          },
          "metadata": {
            "tags": []
          }
        }
      ]
    },
    {
      "cell_type": "code",
      "metadata": {
        "id": "SS_KU9yZLKb0",
        "colab_type": "code",
        "colab": {}
      },
      "source": [
        "#make the classification report to see the acc,presicion,recall"
      ],
      "execution_count": 0,
      "outputs": []
    },
    {
      "cell_type": "code",
      "metadata": {
        "id": "qXzdVciY0GGT",
        "colab_type": "code",
        "colab": {}
      },
      "source": [
        "from sklearn.metrics import classification_report"
      ],
      "execution_count": 0,
      "outputs": []
    },
    {
      "cell_type": "code",
      "metadata": {
        "id": "0T7qKLdP0LjP",
        "colab_type": "code",
        "outputId": "f47f4f10-26de-42f5-af73-ccf4b752e5ba",
        "colab": {
          "base_uri": "https://localhost:8080/",
          "height": 170
        }
      },
      "source": [
        "print(classification_report(Y_test,pred))"
      ],
      "execution_count": 0,
      "outputs": [
        {
          "output_type": "stream",
          "text": [
            "              precision    recall  f1-score   support\n",
            "\n",
            "           0       0.86      0.90      0.88       105\n",
            "           1       0.77      0.67      0.72        49\n",
            "\n",
            "    accuracy                           0.83       154\n",
            "   macro avg       0.81      0.79      0.80       154\n",
            "weighted avg       0.83      0.83      0.83       154\n",
            "\n"
          ],
          "name": "stdout"
        }
      ]
    },
    {
      "cell_type": "code",
      "metadata": {
        "id": "HmBcbH2F0biA",
        "colab_type": "code",
        "colab": {}
      },
      "source": [
        "acc=(cm[0,0]+cm[1,1])/Y_test.size"
      ],
      "execution_count": 0,
      "outputs": []
    },
    {
      "cell_type": "code",
      "metadata": {
        "id": "F71g-0dE06d6",
        "colab_type": "code",
        "outputId": "7a636c17-3741-4120-f9f4-ded5fb9c0ed9",
        "colab": {
          "base_uri": "https://localhost:8080/",
          "height": 34
        }
      },
      "source": [
        "acc"
      ],
      "execution_count": 0,
      "outputs": [
        {
          "output_type": "execute_result",
          "data": {
            "text/plain": [
              "0.8311688311688312"
            ]
          },
          "metadata": {
            "tags": []
          },
          "execution_count": 19
        }
      ]
    },
    {
      "cell_type": "code",
      "metadata": {
        "id": "3sRkyzyX06Xv",
        "colab_type": "code",
        "colab": {}
      },
      "source": [
        "#find precision and recall for both"
      ],
      "execution_count": 0,
      "outputs": []
    },
    {
      "cell_type": "code",
      "metadata": {
        "id": "NiH_PyW64n_g",
        "colab_type": "code",
        "colab": {}
      },
      "source": [
        "#precision=tp/tp+fp\n",
        "#recall=fn/tp+fn"
      ],
      "execution_count": 0,
      "outputs": []
    },
    {
      "cell_type": "code",
      "metadata": {
        "id": "ffJBJ6FQ46ul",
        "colab_type": "code",
        "colab": {}
      },
      "source": [
        "p0=95/111"
      ],
      "execution_count": 0,
      "outputs": []
    },
    {
      "cell_type": "code",
      "metadata": {
        "id": "gZywL4EU5MPa",
        "colab_type": "code",
        "outputId": "0b1e5421-cde5-4353-cf8c-148a0c4f3e2c",
        "colab": {
          "base_uri": "https://localhost:8080/",
          "height": 34
        }
      },
      "source": [
        "p0"
      ],
      "execution_count": 0,
      "outputs": [
        {
          "output_type": "execute_result",
          "data": {
            "text/plain": [
              "0.8558558558558559"
            ]
          },
          "metadata": {
            "tags": []
          },
          "execution_count": 57
        }
      ]
    },
    {
      "cell_type": "code",
      "metadata": {
        "id": "e0UBB8e45PCH",
        "colab_type": "code",
        "colab": {}
      },
      "source": [
        "p1=33/43"
      ],
      "execution_count": 0,
      "outputs": []
    },
    {
      "cell_type": "code",
      "metadata": {
        "id": "9zXX6E2q5X6I",
        "colab_type": "code",
        "outputId": "b923097c-09bb-4419-dbe0-c7899e5fd1cd",
        "colab": {
          "base_uri": "https://localhost:8080/",
          "height": 34
        }
      },
      "source": [
        "p1"
      ],
      "execution_count": 0,
      "outputs": [
        {
          "output_type": "execute_result",
          "data": {
            "text/plain": [
              "0.7674418604651163"
            ]
          },
          "metadata": {
            "tags": []
          },
          "execution_count": 59
        }
      ]
    },
    {
      "cell_type": "code",
      "metadata": {
        "id": "hELsRpF55jQt",
        "colab_type": "code",
        "colab": {}
      },
      "source": [
        "r0=95/105"
      ],
      "execution_count": 0,
      "outputs": []
    },
    {
      "cell_type": "code",
      "metadata": {
        "id": "B1QpCuGe5sCq",
        "colab_type": "code",
        "outputId": "5b832db9-de5f-4575-fbaf-d8e2918663ce",
        "colab": {
          "base_uri": "https://localhost:8080/",
          "height": 34
        }
      },
      "source": [
        "r0"
      ],
      "execution_count": 0,
      "outputs": [
        {
          "output_type": "execute_result",
          "data": {
            "text/plain": [
              "0.9047619047619048"
            ]
          },
          "metadata": {
            "tags": []
          },
          "execution_count": 61
        }
      ]
    },
    {
      "cell_type": "code",
      "metadata": {
        "id": "0rB4HFUQ5vU7",
        "colab_type": "code",
        "colab": {}
      },
      "source": [
        "r1=33/49"
      ],
      "execution_count": 0,
      "outputs": []
    },
    {
      "cell_type": "code",
      "metadata": {
        "id": "6gymtfZf531e",
        "colab_type": "code",
        "colab": {}
      },
      "source": [
        "r1"
      ],
      "execution_count": 0,
      "outputs": []
    },
    {
      "cell_type": "code",
      "metadata": {
        "id": "L_CR_jqOyAjS",
        "colab_type": "code",
        "outputId": "c00fc012-c9ae-4a21-fd14-9e65d22d3453",
        "colab": {
          "base_uri": "https://localhost:8080/",
          "height": 731
        }
      },
      "source": [
        "#Use brute-force Technique\n",
        "for i in range(1,101):\n",
        "    X_train,X_test,Y_train,Y_test = train_test_split(df.drop(labels=['Outcome'],axis=1),df[['Outcome']],\n",
        "                                                test_size=0.2,\n",
        "                                                random_state=i)\n",
        "    model2 = LogisticRegression()\n",
        "    model2.fit(X_train,Y_train)\n",
        "    \n",
        "    test_score = model2.score(X_test,Y_test)\n",
        "    train_score = model2.score(X_train,Y_train)\n",
        "    \n",
        "    if test_score > train_score:\n",
        "        print(\"Test Score {} Train Score {} Random {}\".format(test_score,train_score,i))"
      ],
      "execution_count": 0,
      "outputs": [
        {
          "output_type": "stream",
          "text": [
            "Test Score 0.7792207792207793 Train Score 0.7719869706840391 Random 1\n",
            "Test Score 0.8051948051948052 Train Score 0.7638436482084691 Random 4\n",
            "Test Score 0.7857142857142857 Train Score 0.7736156351791531 Random 5\n",
            "Test Score 0.8051948051948052 Train Score 0.7768729641693811 Random 6\n",
            "Test Score 0.7922077922077922 Train Score 0.7768729641693811 Random 7\n",
            "Test Score 0.7857142857142857 Train Score 0.7752442996742671 Random 8\n",
            "Test Score 0.8051948051948052 Train Score 0.762214983713355 Random 12\n",
            "Test Score 0.8246753246753247 Train Score 0.7654723127035831 Random 16\n",
            "Test Score 0.7922077922077922 Train Score 0.7671009771986971 Random 19\n",
            "Test Score 0.8116883116883117 Train Score 0.7703583061889251 Random 23\n",
            "Test Score 0.8051948051948052 Train Score 0.760586319218241 Random 26\n",
            "Test Score 0.7987012987012987 Train Score 0.7654723127035831 Random 28\n",
            "Test Score 0.7857142857142857 Train Score 0.7768729641693811 Random 29\n",
            "Test Score 0.8181818181818182 Train Score 0.7703583061889251 Random 30\n",
            "Test Score 0.7922077922077922 Train Score 0.7719869706840391 Random 32\n",
            "Test Score 0.8246753246753247 Train Score 0.7638436482084691 Random 34\n",
            "Test Score 0.7727272727272727 Train Score 0.7671009771986971 Random 38\n",
            "Test Score 0.7857142857142857 Train Score 0.7719869706840391 Random 41\n",
            "Test Score 0.8051948051948052 Train Score 0.7687296416938111 Random 44\n",
            "Test Score 0.7922077922077922 Train Score 0.7703583061889251 Random 48\n",
            "Test Score 0.7922077922077922 Train Score 0.7736156351791531 Random 49\n",
            "Test Score 0.8181818181818182 Train Score 0.752442996742671 Random 56\n",
            "Test Score 0.8311688311688312 Train Score 0.758957654723127 Random 57\n",
            "Test Score 0.7987012987012987 Train Score 0.7703583061889251 Random 62\n",
            "Test Score 0.7792207792207793 Train Score 0.7736156351791531 Random 63\n",
            "Test Score 0.7922077922077922 Train Score 0.7736156351791531 Random 64\n",
            "Test Score 0.7922077922077922 Train Score 0.7703583061889251 Random 69\n",
            "Test Score 0.7987012987012987 Train Score 0.7671009771986971 Random 72\n",
            "Test Score 0.7727272727272727 Train Score 0.7719869706840391 Random 73\n",
            "Test Score 0.8246753246753247 Train Score 0.7654723127035831 Random 74\n",
            "Test Score 0.7987012987012987 Train Score 0.7703583061889251 Random 75\n",
            "Test Score 0.7727272727272727 Train Score 0.7687296416938111 Random 76\n",
            "Test Score 0.7857142857142857 Train Score 0.7736156351791531 Random 77\n",
            "Test Score 0.7792207792207793 Train Score 0.7719869706840391 Random 79\n",
            "Test Score 0.8311688311688312 Train Score 0.7671009771986971 Random 82\n",
            "Test Score 0.8051948051948052 Train Score 0.7687296416938111 Random 83\n",
            "Test Score 0.7857142857142857 Train Score 0.7703583061889251 Random 84\n",
            "Test Score 0.7662337662337663 Train Score 0.7638436482084691 Random 93\n",
            "Test Score 0.7987012987012987 Train Score 0.7736156351791531 Random 95\n",
            "Test Score 0.7857142857142857 Train Score 0.7752442996742671 Random 97\n",
            "Test Score 0.8181818181818182 Train Score 0.762214983713355 Random 98\n",
            "Test Score 0.7987012987012987 Train Score 0.7654723127035831 Random 99\n"
          ],
          "name": "stdout"
        }
      ]
    },
    {
      "cell_type": "code",
      "metadata": {
        "id": "4c0IaOktzGzV",
        "colab_type": "code",
        "colab": {}
      },
      "source": [
        "# when i keep the random state 1 then i got a 77 accyracy on test and train score, but when i use brute forece tech then i got a 83 acc"
      ],
      "execution_count": 0,
      "outputs": []
    },
    {
      "cell_type": "code",
      "metadata": {
        "id": "wyLLNdlZtgkb",
        "colab_type": "code",
        "colab": {}
      },
      "source": [
        "Support Vector Machines (SVM):\n",
        "In machine learning, support vector machines are widely used learning models that analyse\n",
        "data and are also used for classification and outline detection. In addition to performing\n",
        "linear classification, SVMs can also perform non-linear classification. They can easily map the\n",
        "data set with multiple features into a multi-dimensional space and this data is easily\n",
        "separable. SVM use classification and regression kernel functions to achieve this explained\n",
        "technique. "
      ],
      "execution_count": 0,
      "outputs": []
    },
    {
      "cell_type": "code",
      "metadata": {
        "id": "HDk9eMnxTzFw",
        "colab_type": "code",
        "colab": {}
      },
      "source": [
        "#create model using svm also check weather the model is genralized or not"
      ],
      "execution_count": 0,
      "outputs": []
    },
    {
      "cell_type": "code",
      "metadata": {
        "id": "9xkk_pOJWy1z",
        "colab_type": "code",
        "colab": {}
      },
      "source": [
        "from sklearn.svm import SVC"
      ],
      "execution_count": 0,
      "outputs": []
    },
    {
      "cell_type": "code",
      "metadata": {
        "id": "VgNvv06qWyaA",
        "colab_type": "code",
        "colab": {}
      },
      "source": [
        "X_train,X_test,Y_train,Y_test=train_test_split(df.drop(labels=['Outcome'],axis=1),df[['Outcome']],test_size=0.2,random_state=57)"
      ],
      "execution_count": 0,
      "outputs": []
    },
    {
      "cell_type": "code",
      "metadata": {
        "id": "mV6eGkR4XLHV",
        "colab_type": "code",
        "colab": {}
      },
      "source": [
        "model3=SVC(kernel='sigmoid',gamma=0.1)"
      ],
      "execution_count": 0,
      "outputs": []
    },
    {
      "cell_type": "code",
      "metadata": {
        "id": "oEmAGTqIXK8m",
        "colab_type": "code",
        "outputId": "95c59c48-5869-4aeb-8a63-5f5c9d11a741",
        "colab": {
          "base_uri": "https://localhost:8080/",
          "height": 85
        }
      },
      "source": [
        "model3.fit(X_train,Y_train)"
      ],
      "execution_count": 0,
      "outputs": [
        {
          "output_type": "execute_result",
          "data": {
            "text/plain": [
              "SVC(C=1.0, cache_size=200, class_weight=None, coef0=0.0,\n",
              "    decision_function_shape='ovr', degree=3, gamma=0.1, kernel='sigmoid',\n",
              "    max_iter=-1, probability=False, random_state=None, shrinking=True,\n",
              "    tol=0.001, verbose=False)"
            ]
          },
          "metadata": {
            "tags": []
          },
          "execution_count": 43
        }
      ]
    },
    {
      "cell_type": "code",
      "metadata": {
        "id": "0QVgyJNtXKrU",
        "colab_type": "code",
        "colab": {}
      },
      "source": [
        "pred=model3.predict(X_test)"
      ],
      "execution_count": 0,
      "outputs": []
    },
    {
      "cell_type": "code",
      "metadata": {
        "id": "IAMbbHRDXKbw",
        "colab_type": "code",
        "outputId": "71a0b33b-1043-40a5-fa04-7055dc1e2b0c",
        "colab": {
          "base_uri": "https://localhost:8080/",
          "height": 136
        }
      },
      "source": [
        "pred"
      ],
      "execution_count": 0,
      "outputs": [
        {
          "output_type": "execute_result",
          "data": {
            "text/plain": [
              "array([0, 0, 0, 0, 0, 0, 0, 0, 0, 0, 0, 0, 0, 0, 0, 0, 0, 0, 0, 0, 0, 0,\n",
              "       0, 0, 0, 0, 0, 0, 0, 0, 0, 0, 0, 0, 0, 0, 0, 0, 0, 0, 0, 0, 0, 0,\n",
              "       0, 0, 0, 0, 0, 0, 0, 0, 0, 0, 0, 0, 0, 0, 0, 0, 0, 0, 0, 0, 0, 0,\n",
              "       0, 0, 0, 0, 0, 0, 0, 0, 0, 0, 0, 0, 0, 0, 0, 0, 0, 0, 0, 0, 0, 0,\n",
              "       0, 0, 0, 0, 0, 0, 0, 0, 0, 0, 0, 0, 0, 0, 0, 0, 0, 0, 0, 0, 0, 0,\n",
              "       0, 0, 0, 0, 0, 0, 0, 0, 0, 0, 0, 0, 0, 0, 0, 0, 0, 0, 0, 0, 0, 0,\n",
              "       0, 0, 0, 0, 0, 0, 0, 0, 0, 0, 0, 0, 0, 0, 0, 0, 0, 0, 0, 0, 0, 0])"
            ]
          },
          "metadata": {
            "tags": []
          },
          "execution_count": 45
        }
      ]
    },
    {
      "cell_type": "code",
      "metadata": {
        "id": "gkKPL_OqYN4S",
        "colab_type": "code",
        "outputId": "9dee5308-6263-4f63-e257-a2dc0a3fb5b9",
        "colab": {
          "base_uri": "https://localhost:8080/",
          "height": 359
        }
      },
      "source": [
        "X_test.head(10)"
      ],
      "execution_count": 0,
      "outputs": [
        {
          "output_type": "execute_result",
          "data": {
            "text/html": [
              "<div>\n",
              "<style scoped>\n",
              "    .dataframe tbody tr th:only-of-type {\n",
              "        vertical-align: middle;\n",
              "    }\n",
              "\n",
              "    .dataframe tbody tr th {\n",
              "        vertical-align: top;\n",
              "    }\n",
              "\n",
              "    .dataframe thead th {\n",
              "        text-align: right;\n",
              "    }\n",
              "</style>\n",
              "<table border=\"1\" class=\"dataframe\">\n",
              "  <thead>\n",
              "    <tr style=\"text-align: right;\">\n",
              "      <th></th>\n",
              "      <th>Pregnancies</th>\n",
              "      <th>Glucose</th>\n",
              "      <th>BloodPressure</th>\n",
              "      <th>SkinThickness</th>\n",
              "      <th>Insulin</th>\n",
              "      <th>BMI</th>\n",
              "      <th>DiabetesPedigreeFunction</th>\n",
              "      <th>Age</th>\n",
              "    </tr>\n",
              "  </thead>\n",
              "  <tbody>\n",
              "    <tr>\n",
              "      <th>29</th>\n",
              "      <td>5</td>\n",
              "      <td>117</td>\n",
              "      <td>92</td>\n",
              "      <td>0</td>\n",
              "      <td>0</td>\n",
              "      <td>34.1</td>\n",
              "      <td>0.337</td>\n",
              "      <td>38</td>\n",
              "    </tr>\n",
              "    <tr>\n",
              "      <th>126</th>\n",
              "      <td>3</td>\n",
              "      <td>120</td>\n",
              "      <td>70</td>\n",
              "      <td>30</td>\n",
              "      <td>135</td>\n",
              "      <td>42.9</td>\n",
              "      <td>0.452</td>\n",
              "      <td>30</td>\n",
              "    </tr>\n",
              "    <tr>\n",
              "      <th>292</th>\n",
              "      <td>2</td>\n",
              "      <td>128</td>\n",
              "      <td>78</td>\n",
              "      <td>37</td>\n",
              "      <td>182</td>\n",
              "      <td>43.3</td>\n",
              "      <td>1.224</td>\n",
              "      <td>31</td>\n",
              "    </tr>\n",
              "    <tr>\n",
              "      <th>453</th>\n",
              "      <td>2</td>\n",
              "      <td>119</td>\n",
              "      <td>0</td>\n",
              "      <td>0</td>\n",
              "      <td>0</td>\n",
              "      <td>19.6</td>\n",
              "      <td>0.832</td>\n",
              "      <td>72</td>\n",
              "    </tr>\n",
              "    <tr>\n",
              "      <th>392</th>\n",
              "      <td>1</td>\n",
              "      <td>131</td>\n",
              "      <td>64</td>\n",
              "      <td>14</td>\n",
              "      <td>415</td>\n",
              "      <td>23.7</td>\n",
              "      <td>0.389</td>\n",
              "      <td>21</td>\n",
              "    </tr>\n",
              "    <tr>\n",
              "      <th>201</th>\n",
              "      <td>1</td>\n",
              "      <td>138</td>\n",
              "      <td>82</td>\n",
              "      <td>0</td>\n",
              "      <td>0</td>\n",
              "      <td>40.1</td>\n",
              "      <td>0.236</td>\n",
              "      <td>28</td>\n",
              "    </tr>\n",
              "    <tr>\n",
              "      <th>523</th>\n",
              "      <td>9</td>\n",
              "      <td>130</td>\n",
              "      <td>70</td>\n",
              "      <td>0</td>\n",
              "      <td>0</td>\n",
              "      <td>34.2</td>\n",
              "      <td>0.652</td>\n",
              "      <td>45</td>\n",
              "    </tr>\n",
              "    <tr>\n",
              "      <th>385</th>\n",
              "      <td>1</td>\n",
              "      <td>119</td>\n",
              "      <td>54</td>\n",
              "      <td>13</td>\n",
              "      <td>50</td>\n",
              "      <td>22.3</td>\n",
              "      <td>0.205</td>\n",
              "      <td>24</td>\n",
              "    </tr>\n",
              "    <tr>\n",
              "      <th>91</th>\n",
              "      <td>4</td>\n",
              "      <td>123</td>\n",
              "      <td>80</td>\n",
              "      <td>15</td>\n",
              "      <td>176</td>\n",
              "      <td>32.0</td>\n",
              "      <td>0.443</td>\n",
              "      <td>34</td>\n",
              "    </tr>\n",
              "    <tr>\n",
              "      <th>212</th>\n",
              "      <td>7</td>\n",
              "      <td>179</td>\n",
              "      <td>95</td>\n",
              "      <td>31</td>\n",
              "      <td>0</td>\n",
              "      <td>34.2</td>\n",
              "      <td>0.164</td>\n",
              "      <td>60</td>\n",
              "    </tr>\n",
              "  </tbody>\n",
              "</table>\n",
              "</div>"
            ],
            "text/plain": [
              "     Pregnancies  Glucose  BloodPressure  ...   BMI  DiabetesPedigreeFunction  Age\n",
              "29             5      117             92  ...  34.1                     0.337   38\n",
              "126            3      120             70  ...  42.9                     0.452   30\n",
              "292            2      128             78  ...  43.3                     1.224   31\n",
              "453            2      119              0  ...  19.6                     0.832   72\n",
              "392            1      131             64  ...  23.7                     0.389   21\n",
              "201            1      138             82  ...  40.1                     0.236   28\n",
              "523            9      130             70  ...  34.2                     0.652   45\n",
              "385            1      119             54  ...  22.3                     0.205   24\n",
              "91             4      123             80  ...  32.0                     0.443   34\n",
              "212            7      179             95  ...  34.2                     0.164   60\n",
              "\n",
              "[10 rows x 8 columns]"
            ]
          },
          "metadata": {
            "tags": []
          },
          "execution_count": 46
        }
      ]
    },
    {
      "cell_type": "code",
      "metadata": {
        "id": "WMm8MM8yYbXj",
        "colab_type": "code",
        "outputId": "992b23b1-08a6-4b5a-d64e-fd6a8cdf773d",
        "colab": {
          "base_uri": "https://localhost:8080/",
          "height": 34
        }
      },
      "source": [
        "print(model3.score(X_train,Y_train))"
      ],
      "execution_count": 0,
      "outputs": [
        {
          "output_type": "stream",
          "text": [
            "0.6433224755700325\n"
          ],
          "name": "stdout"
        }
      ]
    },
    {
      "cell_type": "code",
      "metadata": {
        "id": "vhaTLkwjYnmc",
        "colab_type": "code",
        "outputId": "e633e45a-3592-4b08-e519-467b9ab023ff",
        "colab": {
          "base_uri": "https://localhost:8080/",
          "height": 34
        }
      },
      "source": [
        "print(model3.score(X_test,Y_test))"
      ],
      "execution_count": 0,
      "outputs": [
        {
          "output_type": "stream",
          "text": [
            "0.6818181818181818\n"
          ],
          "name": "stdout"
        }
      ]
    },
    {
      "cell_type": "code",
      "metadata": {
        "id": "Sb2nHMA6YngJ",
        "colab_type": "code",
        "colab": {}
      },
      "source": [
        "#when i use kernel=sigmoid then i got a accuracy less than 70 for training as well as testing so i reject this model"
      ],
      "execution_count": 0,
      "outputs": []
    },
    {
      "cell_type": "code",
      "metadata": {
        "id": "9FNPuDSaYnPF",
        "colab_type": "code",
        "colab": {}
      },
      "source": [
        "X_train,X_test,Y_train,Y_test=train_test_split(df.drop(labels=['Outcome'],axis=1),df[['Outcome']],test_size=0.2,random_state=82)"
      ],
      "execution_count": 0,
      "outputs": []
    },
    {
      "cell_type": "code",
      "metadata": {
        "id": "_OTM1zCjZfWq",
        "colab_type": "code",
        "colab": {}
      },
      "source": [
        "model4=SVC(kernel='linear',gamma=0.1)"
      ],
      "execution_count": 0,
      "outputs": []
    },
    {
      "cell_type": "code",
      "metadata": {
        "id": "zl7HFFk7ZfPQ",
        "colab_type": "code",
        "outputId": "15a2100f-9a8f-4a22-9253-6088b57b81bd",
        "colab": {
          "base_uri": "https://localhost:8080/",
          "height": 85
        }
      },
      "source": [
        "model4.fit(X_train,Y_train)"
      ],
      "execution_count": 0,
      "outputs": [
        {
          "output_type": "execute_result",
          "data": {
            "text/plain": [
              "SVC(C=1.0, cache_size=200, class_weight=None, coef0=0.0,\n",
              "    decision_function_shape='ovr', degree=3, gamma=0.1, kernel='linear',\n",
              "    max_iter=-1, probability=False, random_state=None, shrinking=True,\n",
              "    tol=0.001, verbose=False)"
            ]
          },
          "metadata": {
            "tags": []
          },
          "execution_count": 77
        }
      ]
    },
    {
      "cell_type": "code",
      "metadata": {
        "id": "kgbwrhirZfIq",
        "colab_type": "code",
        "colab": {}
      },
      "source": [
        "pred=model4.predict(X_test)"
      ],
      "execution_count": 0,
      "outputs": []
    },
    {
      "cell_type": "code",
      "metadata": {
        "id": "ak35kV6H92bS",
        "colab_type": "code",
        "outputId": "f8d2ad83-38ae-492e-d058-779e2c7e3e14",
        "colab": {
          "base_uri": "https://localhost:8080/",
          "height": 204
        }
      },
      "source": [
        "X_test.head()"
      ],
      "execution_count": 0,
      "outputs": [
        {
          "output_type": "execute_result",
          "data": {
            "text/html": [
              "<div>\n",
              "<style scoped>\n",
              "    .dataframe tbody tr th:only-of-type {\n",
              "        vertical-align: middle;\n",
              "    }\n",
              "\n",
              "    .dataframe tbody tr th {\n",
              "        vertical-align: top;\n",
              "    }\n",
              "\n",
              "    .dataframe thead th {\n",
              "        text-align: right;\n",
              "    }\n",
              "</style>\n",
              "<table border=\"1\" class=\"dataframe\">\n",
              "  <thead>\n",
              "    <tr style=\"text-align: right;\">\n",
              "      <th></th>\n",
              "      <th>Pregnancies</th>\n",
              "      <th>Glucose</th>\n",
              "      <th>BloodPressure</th>\n",
              "      <th>SkinThickness</th>\n",
              "      <th>Insulin</th>\n",
              "      <th>BMI</th>\n",
              "      <th>DiabetesPedigreeFunction</th>\n",
              "      <th>Age</th>\n",
              "    </tr>\n",
              "  </thead>\n",
              "  <tbody>\n",
              "    <tr>\n",
              "      <th>69</th>\n",
              "      <td>4</td>\n",
              "      <td>146</td>\n",
              "      <td>85</td>\n",
              "      <td>27</td>\n",
              "      <td>100</td>\n",
              "      <td>28.9</td>\n",
              "      <td>0.189</td>\n",
              "      <td>27</td>\n",
              "    </tr>\n",
              "    <tr>\n",
              "      <th>555</th>\n",
              "      <td>7</td>\n",
              "      <td>124</td>\n",
              "      <td>70</td>\n",
              "      <td>33</td>\n",
              "      <td>215</td>\n",
              "      <td>25.5</td>\n",
              "      <td>0.161</td>\n",
              "      <td>37</td>\n",
              "    </tr>\n",
              "    <tr>\n",
              "      <th>392</th>\n",
              "      <td>1</td>\n",
              "      <td>131</td>\n",
              "      <td>64</td>\n",
              "      <td>14</td>\n",
              "      <td>415</td>\n",
              "      <td>23.7</td>\n",
              "      <td>0.389</td>\n",
              "      <td>21</td>\n",
              "    </tr>\n",
              "    <tr>\n",
              "      <th>386</th>\n",
              "      <td>5</td>\n",
              "      <td>116</td>\n",
              "      <td>74</td>\n",
              "      <td>29</td>\n",
              "      <td>0</td>\n",
              "      <td>32.3</td>\n",
              "      <td>0.660</td>\n",
              "      <td>35</td>\n",
              "    </tr>\n",
              "    <tr>\n",
              "      <th>365</th>\n",
              "      <td>5</td>\n",
              "      <td>99</td>\n",
              "      <td>54</td>\n",
              "      <td>28</td>\n",
              "      <td>83</td>\n",
              "      <td>34.0</td>\n",
              "      <td>0.499</td>\n",
              "      <td>30</td>\n",
              "    </tr>\n",
              "  </tbody>\n",
              "</table>\n",
              "</div>"
            ],
            "text/plain": [
              "     Pregnancies  Glucose  BloodPressure  ...   BMI  DiabetesPedigreeFunction  Age\n",
              "69             4      146             85  ...  28.9                     0.189   27\n",
              "555            7      124             70  ...  25.5                     0.161   37\n",
              "392            1      131             64  ...  23.7                     0.389   21\n",
              "386            5      116             74  ...  32.3                     0.660   35\n",
              "365            5       99             54  ...  34.0                     0.499   30\n",
              "\n",
              "[5 rows x 8 columns]"
            ]
          },
          "metadata": {
            "tags": []
          },
          "execution_count": 89
        }
      ]
    },
    {
      "cell_type": "code",
      "metadata": {
        "id": "wkGF-pSecnSf",
        "colab_type": "code",
        "outputId": "937c85ef-55a2-44e5-9fbe-a414c91485ea",
        "colab": {
          "base_uri": "https://localhost:8080/",
          "height": 136
        }
      },
      "source": [
        "pred"
      ],
      "execution_count": 0,
      "outputs": [
        {
          "output_type": "execute_result",
          "data": {
            "text/plain": [
              "array([0, 0, 0, 0, 0, 0, 1, 0, 1, 0, 0, 0, 1, 0, 0, 0, 0, 0, 0, 1, 0, 0,\n",
              "       0, 0, 0, 0, 0, 1, 0, 0, 0, 0, 1, 0, 0, 0, 0, 1, 0, 0, 0, 0, 0, 0,\n",
              "       0, 1, 0, 0, 1, 0, 0, 1, 0, 0, 0, 0, 0, 1, 0, 0, 0, 0, 1, 1, 0, 1,\n",
              "       0, 1, 1, 0, 0, 0, 0, 0, 1, 1, 1, 0, 0, 0, 0, 0, 0, 0, 0, 0, 0, 0,\n",
              "       1, 0, 1, 0, 0, 0, 0, 0, 0, 1, 1, 1, 0, 0, 0, 0, 1, 0, 0, 0, 0, 0,\n",
              "       0, 1, 0, 0, 1, 0, 0, 0, 0, 0, 0, 0, 1, 1, 0, 0, 0, 0, 1, 0, 0, 1,\n",
              "       0, 0, 0, 0, 1, 1, 1, 1, 0, 0, 0, 0, 0, 1, 1, 1, 0, 0, 0, 0, 0, 0])"
            ]
          },
          "metadata": {
            "tags": []
          },
          "execution_count": 64
        }
      ]
    },
    {
      "cell_type": "code",
      "metadata": {
        "id": "3yyO1A589-4W",
        "colab_type": "code",
        "outputId": "636ad0c1-ceff-428e-da2b-c8dcc79321f6",
        "colab": {
          "base_uri": "https://localhost:8080/",
          "height": 34
        }
      },
      "source": [
        "model4.predict([[2,129,0,0,0,38.5,0.304,41]])"
      ],
      "execution_count": 0,
      "outputs": [
        {
          "output_type": "execute_result",
          "data": {
            "text/plain": [
              "array([1])"
            ]
          },
          "metadata": {
            "tags": []
          },
          "execution_count": 87
        }
      ]
    },
    {
      "cell_type": "code",
      "metadata": {
        "id": "0LZPK-yLZfCH",
        "colab_type": "code",
        "outputId": "0b744ce1-2b40-498c-ffd6-ca13d6f099ec",
        "colab": {
          "base_uri": "https://localhost:8080/",
          "height": 34
        }
      },
      "source": [
        "print(model4.score(X_train,Y_train))"
      ],
      "execution_count": 0,
      "outputs": [
        {
          "output_type": "stream",
          "text": [
            "0.758957654723127\n"
          ],
          "name": "stdout"
        }
      ]
    },
    {
      "cell_type": "code",
      "metadata": {
        "id": "iPuS6hwnZe2q",
        "colab_type": "code",
        "outputId": "25f1757d-fa48-423b-c65d-6ac85fd73f10",
        "colab": {
          "base_uri": "https://localhost:8080/",
          "height": 34
        }
      },
      "source": [
        "print(model4.score(X_test,Y_test))"
      ],
      "execution_count": 0,
      "outputs": [
        {
          "output_type": "stream",
          "text": [
            "0.8376623376623377\n"
          ],
          "name": "stdout"
        }
      ]
    },
    {
      "cell_type": "code",
      "metadata": {
        "id": "Qxz8DCC2aYfS",
        "colab_type": "code",
        "colab": {}
      },
      "source": [
        "#when i use kernel=linear i got a got a good accuracy, for better acc i used the brute force technique so i got the best result on random_state=82 \n",
        "#also test_score >train_score so this model is accepted"
      ],
      "execution_count": 0,
      "outputs": []
    },
    {
      "cell_type": "code",
      "metadata": {
        "id": "wcn2ga9RZem3",
        "colab_type": "code",
        "outputId": "4b3b089e-ee38-4aaf-9cab-05235c79073f",
        "colab": {
          "base_uri": "https://localhost:8080/",
          "height": 782
        }
      },
      "source": [
        "#Use brute-force Technique\n",
        "for i in range(1,101):\n",
        "    X_train,X_test,Y_train,Y_test = train_test_split(df.drop(labels=['Outcome'],axis=1),df[['Outcome']],\n",
        "                                                test_size=0.2,\n",
        "                                                random_state=i)\n",
        "    model5 = SVC(kernel='linear',gamma=0.1)\n",
        "    model5.fit(X_train,Y_train)\n",
        "    \n",
        "    test_score = model5.score(X_test,Y_test)\n",
        "    train_score = model5.score(X_train,Y_train)\n",
        "    \n",
        "    if test_score > train_score:\n",
        "        print(\"Test Score {} Train Score {} Random {}\".format(test_score,train_score,i))"
      ],
      "execution_count": 0,
      "outputs": [
        {
          "output_type": "stream",
          "text": [
            "Test Score 0.7792207792207793 Train Score 0.7703583061889251 Random 1\n",
            "Test Score 0.7987012987012987 Train Score 0.7703583061889251 Random 4\n",
            "Test Score 0.8051948051948052 Train Score 0.7703583061889251 Random 5\n",
            "Test Score 0.7987012987012987 Train Score 0.7654723127035831 Random 6\n",
            "Test Score 0.7922077922077922 Train Score 0.7785016286644951 Random 7\n",
            "Test Score 0.8116883116883117 Train Score 0.7687296416938111 Random 12\n",
            "Test Score 0.7987012987012987 Train Score 0.7703583061889251 Random 16\n",
            "Test Score 0.7792207792207793 Train Score 0.7785016286644951 Random 19\n",
            "Test Score 0.8051948051948052 Train Score 0.7719869706840391 Random 23\n",
            "Test Score 0.7792207792207793 Train Score 0.7768729641693811 Random 25\n",
            "Test Score 0.7857142857142857 Train Score 0.7638436482084691 Random 26\n",
            "Test Score 0.8051948051948052 Train Score 0.7703583061889251 Random 28\n",
            "Test Score 0.7857142857142857 Train Score 0.7687296416938111 Random 29\n",
            "Test Score 0.7857142857142857 Train Score 0.7736156351791531 Random 30\n",
            "Test Score 0.7792207792207793 Train Score 0.7719869706840391 Random 32\n",
            "Test Score 0.8116883116883117 Train Score 0.762214983713355 Random 34\n",
            "Test Score 0.7792207792207793 Train Score 0.7719869706840391 Random 38\n",
            "Test Score 0.7857142857142857 Train Score 0.7719869706840391 Random 41\n",
            "Test Score 0.7987012987012987 Train Score 0.7768729641693811 Random 44\n",
            "Test Score 0.7922077922077922 Train Score 0.7801302931596091 Random 48\n",
            "Test Score 0.7987012987012987 Train Score 0.7833876221498371 Random 49\n",
            "Test Score 0.7922077922077922 Train Score 0.7817589576547231 Random 51\n",
            "Test Score 0.7727272727272727 Train Score 0.7687296416938111 Random 52\n",
            "Test Score 0.7922077922077922 Train Score 0.7752442996742671 Random 53\n",
            "Test Score 0.8311688311688312 Train Score 0.757328990228013 Random 56\n",
            "Test Score 0.8246753246753247 Train Score 0.755700325732899 Random 57\n",
            "Test Score 0.7857142857142857 Train Score 0.7671009771986971 Random 62\n",
            "Test Score 0.7922077922077922 Train Score 0.7687296416938111 Random 64\n",
            "Test Score 0.7727272727272727 Train Score 0.7671009771986971 Random 69\n",
            "Test Score 0.7792207792207793 Train Score 0.7736156351791531 Random 72\n",
            "Test Score 0.8246753246753247 Train Score 0.760586319218241 Random 74\n",
            "Test Score 0.8051948051948052 Train Score 0.7801302931596091 Random 75\n",
            "Test Score 0.8051948051948052 Train Score 0.7752442996742671 Random 76\n",
            "Test Score 0.7727272727272727 Train Score 0.7687296416938111 Random 78\n",
            "Test Score 0.7792207792207793 Train Score 0.7736156351791531 Random 79\n",
            "Test Score 0.7857142857142857 Train Score 0.7785016286644951 Random 81\n",
            "Test Score 0.8376623376623377 Train Score 0.758957654723127 Random 82\n",
            "Test Score 0.8246753246753247 Train Score 0.7687296416938111 Random 83\n",
            "Test Score 0.7857142857142857 Train Score 0.7687296416938111 Random 84\n",
            "Test Score 0.7857142857142857 Train Score 0.7719869706840391 Random 88\n",
            "Test Score 0.7987012987012987 Train Score 0.7671009771986971 Random 93\n",
            "Test Score 0.8051948051948052 Train Score 0.7768729641693811 Random 95\n",
            "Test Score 0.7922077922077922 Train Score 0.7687296416938111 Random 97\n",
            "Test Score 0.7987012987012987 Train Score 0.7671009771986971 Random 98\n",
            "Test Score 0.7987012987012987 Train Score 0.7654723127035831 Random 99\n"
          ],
          "name": "stdout"
        }
      ]
    },
    {
      "cell_type": "code",
      "metadata": {
        "id": "AJLExQjZcvsD",
        "colab_type": "code",
        "colab": {}
      },
      "source": [
        "#after using brute force technique we got the best result on random_state 82"
      ],
      "execution_count": 0,
      "outputs": []
    },
    {
      "cell_type": "code",
      "metadata": {
        "id": "hYumtB9LWcXM",
        "colab_type": "code",
        "colab": {}
      },
      "source": [
        "#make confusion matrix to check the misclssification"
      ],
      "execution_count": 0,
      "outputs": []
    },
    {
      "cell_type": "code",
      "metadata": {
        "id": "MBbjDCrGcvhL",
        "colab_type": "code",
        "colab": {}
      },
      "source": [
        "cm1=confusion_matrix(Y_test,pred)"
      ],
      "execution_count": 0,
      "outputs": []
    },
    {
      "cell_type": "code",
      "metadata": {
        "id": "KLBDkMtTcvFq",
        "colab_type": "code",
        "outputId": "c0db7a6d-b808-41d3-adf6-881e44f7bacc",
        "colab": {
          "base_uri": "https://localhost:8080/",
          "height": 51
        }
      },
      "source": [
        "cm1"
      ],
      "execution_count": 0,
      "outputs": [
        {
          "output_type": "execute_result",
          "data": {
            "text/plain": [
              "array([[99,  8],\n",
              "       [17, 30]])"
            ]
          },
          "metadata": {
            "tags": []
          },
          "execution_count": 15
        }
      ]
    },
    {
      "cell_type": "code",
      "metadata": {
        "id": "hOg3xD0-1gqY",
        "colab_type": "code",
        "outputId": "3c9b7c03-af74-40b3-baf5-82ac6e37d459",
        "colab": {
          "base_uri": "https://localhost:8080/",
          "height": 312
        }
      },
      "source": [
        "pred = model4.predict(X_test)\n",
        "cm1=confusion_matrix(Y_test,pred)\n",
        "p = sns.heatmap(pd.DataFrame(cm1), annot=True, cmap=\"YlGnBu\" ,fmt='g')\n",
        "plt.title('Confusion matrix')\n",
        "plt.ylabel('Actual label')\n",
        "plt.xlabel('Predicted label')"
      ],
      "execution_count": 0,
      "outputs": [
        {
          "output_type": "execute_result",
          "data": {
            "text/plain": [
              "Text(0.5, 15.0, 'Predicted label')"
            ]
          },
          "metadata": {
            "tags": []
          },
          "execution_count": 18
        },
        {
          "output_type": "display_data",
          "data": {
            "image/png": "[encoded data removed]",
            "text/plain": [
              "<Figure size 432x288 with 2 Axes>"
            ]
          },
          "metadata": {
            "tags": []
          }
        }
      ]
    },
    {
      "cell_type": "code",
      "metadata": {
        "id": "dZ7FOz4aW3VL",
        "colab_type": "code",
        "colab": {}
      },
      "source": [
        "#print classification report to check the acc,prescion and recall"
      ],
      "execution_count": 0,
      "outputs": []
    },
    {
      "cell_type": "code",
      "metadata": {
        "id": "xp1OYH-z12_p",
        "colab_type": "code",
        "outputId": "3887dee0-bf47-4670-d1f2-81d8521170ca",
        "colab": {
          "base_uri": "https://localhost:8080/",
          "height": 170
        }
      },
      "source": [
        "print(classification_report(Y_test,pred))"
      ],
      "execution_count": 0,
      "outputs": [
        {
          "output_type": "stream",
          "text": [
            "              precision    recall  f1-score   support\n",
            "\n",
            "           0       0.85      0.93      0.89       107\n",
            "           1       0.79      0.64      0.71        47\n",
            "\n",
            "    accuracy                           0.84       154\n",
            "   macro avg       0.82      0.78      0.80       154\n",
            "weighted avg       0.83      0.84      0.83       154\n",
            "\n"
          ],
          "name": "stdout"
        }
      ]
    },
    {
      "cell_type": "code",
      "metadata": {
        "id": "lRwvx21G2CJk",
        "colab_type": "code",
        "colab": {}
      },
      "source": [
        "acc=(cm1[0,0]+cm[1,1])/Y_test.size"
      ],
      "execution_count": 0,
      "outputs": []
    },
    {
      "cell_type": "code",
      "metadata": {
        "id": "0PqRyDgj2MGw",
        "colab_type": "code",
        "colab": {}
      },
      "source": [
        "acc"
      ],
      "execution_count": 0,
      "outputs": []
    },
    {
      "cell_type": "code",
      "metadata": {
        "id": "WC-GRq9a2N5o",
        "colab_type": "code",
        "colab": {}
      },
      "source": [
        "#find the presicion and recall"
      ],
      "execution_count": 0,
      "outputs": []
    },
    {
      "cell_type": "code",
      "metadata": {
        "id": "WxVC7bdAjF3o",
        "colab_type": "code",
        "colab": {}
      },
      "source": [
        "p0=99/116"
      ],
      "execution_count": 0,
      "outputs": []
    },
    {
      "cell_type": "code",
      "metadata": {
        "id": "VkEVRgtpjAA2",
        "colab_type": "code",
        "outputId": "6c2785fd-215f-4731-b7bc-6fcd65a7f3f4",
        "colab": {
          "base_uri": "https://localhost:8080/",
          "height": 34
        }
      },
      "source": [
        "p0"
      ],
      "execution_count": 0,
      "outputs": [
        {
          "output_type": "execute_result",
          "data": {
            "text/plain": [
              "0.853448275862069"
            ]
          },
          "metadata": {
            "tags": []
          },
          "execution_count": 32
        }
      ]
    },
    {
      "cell_type": "code",
      "metadata": {
        "id": "wFGW2W52jsg2",
        "colab_type": "code",
        "colab": {}
      },
      "source": [
        "p1=30/38"
      ],
      "execution_count": 0,
      "outputs": []
    },
    {
      "cell_type": "code",
      "metadata": {
        "id": "B58Rfeo-kBJv",
        "colab_type": "code",
        "outputId": "e2dd13fb-0f66-494e-b9a6-6583a6f93c25",
        "colab": {
          "base_uri": "https://localhost:8080/",
          "height": 34
        }
      },
      "source": [
        "p1"
      ],
      "execution_count": 0,
      "outputs": [
        {
          "output_type": "execute_result",
          "data": {
            "text/plain": [
              "0.7894736842105263"
            ]
          },
          "metadata": {
            "tags": []
          },
          "execution_count": 36
        }
      ]
    },
    {
      "cell_type": "code",
      "metadata": {
        "id": "_hI1Ifg-kkkJ",
        "colab_type": "code",
        "colab": {}
      },
      "source": [
        "r0=99/107"
      ],
      "execution_count": 0,
      "outputs": []
    },
    {
      "cell_type": "code",
      "metadata": {
        "id": "6X14Yc5hkkQ9",
        "colab_type": "code",
        "outputId": "3e69c960-1fb6-4f30-95e3-fd7fb703cfe7",
        "colab": {
          "base_uri": "https://localhost:8080/",
          "height": 34
        }
      },
      "source": [
        "r0"
      ],
      "execution_count": 0,
      "outputs": [
        {
          "output_type": "execute_result",
          "data": {
            "text/plain": [
              "0.9252336448598131"
            ]
          },
          "metadata": {
            "tags": []
          },
          "execution_count": 38
        }
      ]
    },
    {
      "cell_type": "code",
      "metadata": {
        "id": "gSTJCMFQlGUt",
        "colab_type": "code",
        "colab": {}
      },
      "source": [
        "r1=30/47"
      ],
      "execution_count": 0,
      "outputs": []
    },
    {
      "cell_type": "code",
      "metadata": {
        "id": "TOVE0ndTlEvN",
        "colab_type": "code",
        "outputId": "120adb6c-985d-4d18-c990-c2e1c2bc22f9",
        "colab": {
          "base_uri": "https://localhost:8080/",
          "height": 34
        }
      },
      "source": [
        "r1"
      ],
      "execution_count": 0,
      "outputs": [
        {
          "output_type": "execute_result",
          "data": {
            "text/plain": [
              "0.6382978723404256"
            ]
          },
          "metadata": {
            "tags": []
          },
          "execution_count": 40
        }
      ]
    },
    {
      "cell_type": "code",
      "metadata": {
        "id": "zIPgbKwtt6Rj",
        "colab_type": "code",
        "colab": {}
      },
      "source": [
        "Random Forest and desicion tree Method:\n",
        "The random forest method for regression and classification create multitude of decision\n",
        "trees at training time and outputs the class that is the mode of the classification or regression\n",
        "of the individual trees. Decision tree is a graph that appears like a tree or decision model with\n",
        "the possible results. Random forest is like a collection of multiple decision trees. First in\n",
        "random forest random sample of data is picked up by each tree and each tree is trained\n",
        "separately independent of each other. This level is at the row level. After this the data is\n",
        "trained at the column level. Each decision tree again gets certain set of columns. To declare\n",
        "the result, results from each tree are taken and majority ones are selected. Average and\n",
        "voting are done in this process. Random forest method decreases the chance of overfitting of\n",
        "the data by decreasing the variance since so many decision trees are in work."
      ],
      "execution_count": 0,
      "outputs": []
    },
    {
      "cell_type": "code",
      "metadata": {
        "id": "SA-OeSyH2UIT",
        "colab_type": "code",
        "colab": {}
      },
      "source": [
        "#use desicion tree method\n",
        "#also check weather the model is genarlized or not\n"
      ],
      "execution_count": 0,
      "outputs": []
    },
    {
      "cell_type": "code",
      "metadata": {
        "id": "h0L-IQ4V2TTH",
        "colab_type": "code",
        "colab": {}
      },
      "source": [
        "X_train,X_test,Y_train,Y_test=train_test_split(df.drop(labels=['Outcome'],axis=1),df[['Outcome']],test_size=0.2,random_state=1)"
      ],
      "execution_count": 0,
      "outputs": []
    },
    {
      "cell_type": "code",
      "metadata": {
        "id": "m0LNLppY2SoQ",
        "colab_type": "code",
        "colab": {}
      },
      "source": [
        "from sklearn.tree import DecisionTreeRegressor, DecisionTreeClassifier, export_graphviz"
      ],
      "execution_count": 0,
      "outputs": []
    },
    {
      "cell_type": "code",
      "metadata": {
        "id": "cjenATQi25Eo",
        "colab_type": "code",
        "colab": {}
      },
      "source": [
        "model6=DecisionTreeClassifier(max_depth=100,max_leaf_nodes=100,max_features=8)"
      ],
      "execution_count": 0,
      "outputs": []
    },
    {
      "cell_type": "code",
      "metadata": {
        "id": "3Z8dwdjH3T2f",
        "colab_type": "code",
        "outputId": "0a890351-30bd-4e64-e4da-99cbec330501",
        "colab": {
          "base_uri": "https://localhost:8080/",
          "height": 119
        }
      },
      "source": [
        "model6.fit(X_train,Y_train)"
      ],
      "execution_count": 0,
      "outputs": [
        {
          "output_type": "execute_result",
          "data": {
            "text/plain": [
              "DecisionTreeClassifier(class_weight=None, criterion='gini', max_depth=100,\n",
              "                       max_features=6, max_leaf_nodes=100,\n",
              "                       min_impurity_decrease=0.0, min_impurity_split=None,\n",
              "                       min_samples_leaf=1, min_samples_split=2,\n",
              "                       min_weight_fraction_leaf=0.0, presort=False,\n",
              "                       random_state=None, splitter='best')"
            ]
          },
          "metadata": {
            "tags": []
          },
          "execution_count": 28
        }
      ]
    },
    {
      "cell_type": "code",
      "metadata": {
        "id": "FDRECZLC3gdf",
        "colab_type": "code",
        "colab": {}
      },
      "source": [
        "pred=model6.predict(X_test)"
      ],
      "execution_count": 0,
      "outputs": []
    },
    {
      "cell_type": "code",
      "metadata": {
        "id": "_nUbfBCw3yae",
        "colab_type": "code",
        "outputId": "1a2fe420-0ec3-466b-8dfe-1fcac59c3786",
        "colab": {
          "base_uri": "https://localhost:8080/",
          "height": 34
        }
      },
      "source": [
        "print(model6.score(X_train,Y_train))"
      ],
      "execution_count": 0,
      "outputs": [
        {
          "output_type": "stream",
          "text": [
            "0.9853420195439739\n"
          ],
          "name": "stdout"
        }
      ]
    },
    {
      "cell_type": "code",
      "metadata": {
        "id": "MzwjX2js39jX",
        "colab_type": "code",
        "outputId": "4b6fff76-fb1a-4e92-bf89-54c48855ff31",
        "colab": {
          "base_uri": "https://localhost:8080/",
          "height": 34
        }
      },
      "source": [
        "print(model6.score(X_test,Y_test))"
      ],
      "execution_count": 0,
      "outputs": [
        {
          "output_type": "stream",
          "text": [
            "0.6623376623376623\n"
          ],
          "name": "stdout"
        }
      ]
    },
    {
      "cell_type": "code",
      "metadata": {
        "id": "7edwFRMv5GF4",
        "colab_type": "code",
        "colab": {}
      },
      "source": [
        "# after using tree method none test score > train score,also i change the feature like 6 n 7..still didnt get the good accuracy,so i rejected this model"
      ],
      "execution_count": 0,
      "outputs": []
    },
    {
      "cell_type": "code",
      "metadata": {
        "id": "nKWcwXVY4TDf",
        "colab_type": "code",
        "colab": {}
      },
      "source": [
        "#use brute force technique"
      ],
      "execution_count": 0,
      "outputs": []
    },
    {
      "cell_type": "code",
      "metadata": {
        "id": "toZ5y-2p4YaD",
        "colab_type": "code",
        "colab": {}
      },
      "source": [
        "#Use brute-force Technique\n",
        "for i in range(1,101):\n",
        "    X_train,X_test,Y_train,Y_test = train_test_split(df.drop(labels=['Outcome'],axis=1),df[['Outcome']],\n",
        "                                                test_size=0.2,\n",
        "                                                random_state=i)\n",
        "    model7=DecisionTreeClassifier(max_depth=100,max_leaf_nodes=100,max_features=8)\n",
        "    model7.fit(X_train,Y_train)\n",
        "    \n",
        "    test_score = model7.score(X_test,Y_test)\n",
        "    train_score = model7.score(X_train,Y_train)\n",
        "    \n",
        "    if test_score > train_score:\n",
        "        print(\"Test Score {} Train Score {} Random {}\".format(test_score,train_score,i))"
      ],
      "execution_count": 0,
      "outputs": []
    },
    {
      "cell_type": "code",
      "metadata": {
        "id": "adXzbAar5lOW",
        "colab_type": "code",
        "colab": {}
      },
      "source": [
        "#use random forest\n",
        "#also chexk weather the model is genralized or not"
      ],
      "execution_count": 0,
      "outputs": []
    },
    {
      "cell_type": "code",
      "metadata": {
        "id": "XKXJ4FHP5y1Q",
        "colab_type": "code",
        "colab": {}
      },
      "source": [
        "X_train,X_test,Y_train,Y_test=train_test_split(df.drop(labels=['Outcome'],axis=1),df[['Outcome']],test_size=0.2,random_state=1)"
      ],
      "execution_count": 0,
      "outputs": []
    },
    {
      "cell_type": "code",
      "metadata": {
        "id": "oaJA5eAB5-FA",
        "colab_type": "code",
        "colab": {}
      },
      "source": [
        "from sklearn.ensemble import BaggingClassifier, RandomForestClassifier, BaggingRegressor, RandomForestRegressor, GradientBoostingRegressor"
      ],
      "execution_count": 0,
      "outputs": []
    },
    {
      "cell_type": "code",
      "metadata": {
        "id": "1_JwQGx06KlQ",
        "colab_type": "code",
        "colab": {}
      },
      "source": [
        "model8=RandomForestClassifier(max_features=8,min_samples_split=7,n_estimators=4)"
      ],
      "execution_count": 0,
      "outputs": []
    },
    {
      "cell_type": "code",
      "metadata": {
        "id": "spXBVeyR6KDa",
        "colab_type": "code",
        "outputId": "86f0c67c-c0c6-452b-c3dc-41de7c9271d7",
        "colab": {
          "base_uri": "https://localhost:8080/",
          "height": 136
        }
      },
      "source": [
        "model8.fit(X_train,Y_train)"
      ],
      "execution_count": 0,
      "outputs": [
        {
          "output_type": "execute_result",
          "data": {
            "text/plain": [
              "RandomForestClassifier(bootstrap=True, class_weight=None, criterion='gini',\n",
              "                       max_depth=None, max_features=8, max_leaf_nodes=None,\n",
              "                       min_impurity_decrease=0.0, min_impurity_split=None,\n",
              "                       min_samples_leaf=1, min_samples_split=7,\n",
              "                       min_weight_fraction_leaf=0.0, n_estimators=10,\n",
              "                       n_jobs=None, oob_score=False, random_state=None,\n",
              "                       verbose=0, warm_start=False)"
            ]
          },
          "metadata": {
            "tags": []
          },
          "execution_count": 53
        }
      ]
    },
    {
      "cell_type": "code",
      "metadata": {
        "id": "ATJTl-3j7BZY",
        "colab_type": "code",
        "colab": {}
      },
      "source": [
        "pred=model8.predict(X_test)"
      ],
      "execution_count": 0,
      "outputs": []
    },
    {
      "cell_type": "code",
      "metadata": {
        "id": "ArsRi7eA7Kxl",
        "colab_type": "code",
        "outputId": "db652739-e731-45c4-a43d-db80fc25fc46",
        "colab": {
          "base_uri": "https://localhost:8080/",
          "height": 34
        }
      },
      "source": [
        "print(model8.score(X_train,Y_train))"
      ],
      "execution_count": 0,
      "outputs": [
        {
          "output_type": "stream",
          "text": [
            "0.9413680781758957\n"
          ],
          "name": "stdout"
        }
      ]
    },
    {
      "cell_type": "code",
      "metadata": {
        "id": "JW1Hzge27ksr",
        "colab_type": "code",
        "outputId": "b7c9218f-6adc-40a0-e242-2663a143514f",
        "colab": {
          "base_uri": "https://localhost:8080/",
          "height": 34
        }
      },
      "source": [
        "print(model8.score(X_test,Y_test))"
      ],
      "execution_count": 0,
      "outputs": [
        {
          "output_type": "stream",
          "text": [
            "0.7792207792207793\n"
          ],
          "name": "stdout"
        }
      ]
    },
    {
      "cell_type": "code",
      "metadata": {
        "id": "P9Jnm46U75XW",
        "colab_type": "code",
        "colab": {}
      },
      "source": [
        "# after using random forest  none of test score> train score,also i change the feature like 6 n 7.. \n",
        "#also i changed the n--estimator still didnt get the good accuracy,so i rejected this model."
      ],
      "execution_count": 0,
      "outputs": []
    },
    {
      "cell_type": "code",
      "metadata": {
        "id": "zn-Rz4UC74cQ",
        "colab_type": "code",
        "colab": {}
      },
      "source": [
        "#use brute force technique"
      ],
      "execution_count": 0,
      "outputs": []
    },
    {
      "cell_type": "code",
      "metadata": {
        "id": "bWn2BknZ8hfS",
        "colab_type": "code",
        "colab": {}
      },
      "source": [
        "#Use brute-force Technique\n",
        "for i in range(1,101):\n",
        "    X_train,X_test,Y_train,Y_test = train_test_split(df.drop(labels=['Outcome'],axis=1),df[['Outcome']],\n",
        "                                                test_size=0.2,\n",
        "                                                random_state=i)\n",
        "    model9=RandomForestClassifier(max_features=8,min_samples_split=7,n_estimators=4)\n",
        "    model9.fit(X_train,Y_train)\n",
        "    \n",
        "    test_score = model9.score(X_test,Y_test)\n",
        "    train_score = model9.score(X_train,Y_train)\n",
        "    \n",
        "    if test_score > train_score:\n",
        "        print(\"Test Score {} Train Score {} Random {}\".format(test_score,train_score,i))"
      ],
      "execution_count": 0,
      "outputs": []
    },
    {
      "cell_type": "code",
      "metadata": {
        "id": "yyPUlo0gxqGz",
        "colab_type": "code",
        "colab": {}
      },
      "source": [
        "#after using the 4 packages i.e Logistic regressin,Svm,desicion tree,random forest,we got the genaralized model for onlt logistic regression and Svm\n",
        "#so we accept the Logistic and svm model and we reject the desicion tree and random forest"
      ],
      "execution_count": 0,
      "outputs": []
    },
    {
      "cell_type": "code",
      "metadata": {
        "id": "o48gJBlqYzzJ",
        "colab_type": "code",
        "colab": {}
      },
      "source": [
        "#after using logistic regression we got the\n",
        "test_score=0.8311\n",
        "train_score=0.7589"
      ],
      "execution_count": 0,
      "outputs": []
    },
    {
      "cell_type": "code",
      "metadata": {
        "id": "97P5_WhKYyeJ",
        "colab_type": "code",
        "colab": {}
      },
      "source": [
        "#after using SVM we got the\n",
        "test_score=0.8376\n",
        "train_score=0.7589"
      ],
      "execution_count": 0,
      "outputs": []
    },
    {
      "cell_type": "code",
      "metadata": {
        "id": "aUf5vJU4Y5lS",
        "colab_type": "code",
        "colab": {}
      },
      "source": [
        "#after comparing between svm and logistic regression , we got the good prescion and recall in SVM so at the end will select the svm model "
      ],
      "execution_count": 0,
      "outputs": []
    },
    {
      "cell_type": "code",
      "metadata": {
        "id": "LptpweVqY5U1",
        "colab_type": "code",
        "colab": {}
      },
      "source": [
        "#comparision between svm and logistic matrix\n",
        "# svm confusion matrix"
      ],
      "execution_count": 0,
      "outputs": []
    },
    {
      "cell_type": "code",
      "metadata": {
        "id": "kyOuRPJwY5F3",
        "colab_type": "code",
        "outputId": "11e53bf6-3fb7-47a8-a2d9-fd36807479e7",
        "colab": {
          "base_uri": "https://localhost:8080/",
          "height": 312
        }
      },
      "source": [
        "pred = model4.predict(X_test)\n",
        "cm1=confusion_matrix(Y_test,pred)\n",
        "p = sns.heatmap(pd.DataFrame(cm1), annot=True, cmap=\"YlGnBu\" ,fmt='g')\n",
        "plt.title('Confusion matrix')\n",
        "plt.ylabel('Actual label')\n",
        "plt.xlabel('Predicted label')"
      ],
      "execution_count": 0,
      "outputs": [
        {
          "output_type": "execute_result",
          "data": {
            "text/plain": [
              "Text(0.5, 15.0, 'Predicted label')"
            ]
          },
          "metadata": {
            "tags": []
          },
          "execution_count": 20
        },
        {
          "output_type": "display_data",
          "data": {
            "image/png": "[encoded data removed]",
            "text/plain": [
              "<Figure size 432x288 with 2 Axes>"
            ]
          },
          "metadata": {
            "tags": []
          }
        }
      ]
    },
    {
      "cell_type": "code",
      "metadata": {
        "id": "VPjq5QCKYxzO",
        "colab_type": "code",
        "outputId": "4c9ce822-109c-44ce-f7e4-2594ed0e20ee",
        "colab": {
          "base_uri": "https://localhost:8080/",
          "height": 170
        }
      },
      "source": [
        "print(classification_report(Y_test,pred))"
      ],
      "execution_count": 0,
      "outputs": [
        {
          "output_type": "stream",
          "text": [
            "              precision    recall  f1-score   support\n",
            "\n",
            "           0       0.85      0.93      0.89       107\n",
            "           1       0.79      0.64      0.71        47\n",
            "\n",
            "    accuracy                           0.84       154\n",
            "   macro avg       0.82      0.78      0.80       154\n",
            "weighted avg       0.83      0.84      0.83       154\n",
            "\n"
          ],
          "name": "stdout"
        }
      ]
    },
    {
      "cell_type": "code",
      "metadata": {
        "id": "_IMC1NSfyG6j",
        "colab_type": "code",
        "colab": {}
      },
      "source": [
        "# logistic regression matrix"
      ],
      "execution_count": 0,
      "outputs": []
    },
    {
      "cell_type": "code",
      "metadata": {
        "id": "l-cz0uUgyKru",
        "colab_type": "code",
        "outputId": "265d9520-9faa-4d12-f991-9823e2ec9ce0",
        "colab": {
          "base_uri": "https://localhost:8080/",
          "height": 312
        }
      },
      "source": [
        "pred = model1.predict(X_test)\n",
        "cm=confusion_matrix(Y_test,pred)\n",
        "p = sns.heatmap(pd.DataFrame(cm), annot=True, cmap=\"YlGnBu\" ,fmt='g')\n",
        "plt.title('Confusion matrix')\n",
        "plt.ylabel('Actual label')\n",
        "plt.xlabel('Predicted label')"
      ],
      "execution_count": 0,
      "outputs": [
        {
          "output_type": "execute_result",
          "data": {
            "text/plain": [
              "Text(0.5, 15.0, 'Predicted label')"
            ]
          },
          "metadata": {
            "tags": []
          },
          "execution_count": 36
        },
        {
          "output_type": "display_data",
          "data": {
            "image/png": "[encoded data removed]",
            "text/plain": [
              "<Figure size 432x288 with 2 Axes>"
            ]
          },
          "metadata": {
            "tags": []
          }
        }
      ]
    },
    {
      "cell_type": "code",
      "metadata": {
        "id": "NqEF0L98ywiO",
        "colab_type": "code",
        "outputId": "77cd46e1-f7b7-455f-e7dd-8adb6f4c1c0b",
        "colab": {
          "base_uri": "https://localhost:8080/",
          "height": 170
        }
      },
      "source": [
        "print(classification_report(Y_test,pred))"
      ],
      "execution_count": 0,
      "outputs": [
        {
          "output_type": "stream",
          "text": [
            "              precision    recall  f1-score   support\n",
            "\n",
            "           0       0.86      0.90      0.88       105\n",
            "           1       0.77      0.67      0.72        49\n",
            "\n",
            "    accuracy                           0.83       154\n",
            "   macro avg       0.81      0.79      0.80       154\n",
            "weighted avg       0.83      0.83      0.83       154\n",
            "\n"
          ],
          "name": "stdout"
        }
      ]
    },
    {
      "cell_type": "code",
      "metadata": {
        "id": "DFFifK03Hagi",
        "colab_type": "code",
        "colab": {}
      },
      "source": [
        "We have increased the classification performance in the dataset using the \n",
        "SVM (83.76%), Logistic Regression Method (83.11%) Random Forest (77.92%),and Decision Tree(66.23%) using machine learning methods. "
      ],
      "execution_count": 0,
      "outputs": []
    }
  ]
}