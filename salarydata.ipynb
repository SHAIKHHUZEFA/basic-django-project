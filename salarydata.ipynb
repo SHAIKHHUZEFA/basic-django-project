{
  "nbformat": 4,
  "nbformat_minor": 0,
  "metadata": {
    "colab": {
      "name": "salarydata.ipynb",
      "provenance": [],
      "collapsed_sections": [],
      "authorship_tag": "ABX9TyOrgeJax16oyLvveyfnZaI2",
      "include_colab_link": true
    },
    "kernelspec": {
      "name": "python3",
      "display_name": "Python 3"
    }
  },
  "cells": [
    {
      "cell_type": "markdown",
      "metadata": {
        "id": "view-in-github",
        "colab_type": "text"
      },
      "source": [
        "<a href=\"https://colab.research.google.com/github/SHAIKHHUZEFA/basic-django-project/blob/master/salarydata.ipynb\" target=\"_parent\"><img src=\"https://colab.research.google.com/assets/colab-badge.svg\" alt=\"Open In Colab\"/></a>"
      ]
    },
    {
      "cell_type": "code",
      "metadata": {
        "id": "upWi66cldibI",
        "colab_type": "code",
        "outputId": "0e28824e-9ba9-47ee-9f34-b32e7ff8362b",
        "colab": {
          "base_uri": "https://localhost:8080/",
          "height": 122
        }
      },
      "source": [
        "from google.colab import drive\n",
        "drive.mount('/gdrive')"
      ],
      "execution_count": 0,
      "outputs": [
        {
          "output_type": "stream",
          "text": [
            "Go to this URL in a browser: https://accounts.google.com/o/oauth2/auth?client_id=947318989803-6bn6qk8qdgf4n4g3pfee6491hc0brc4i.apps.googleusercontent.com&redirect_uri=urn%3aietf%3awg%3aoauth%3a2.0%3aoob&response_type=code&scope=email%20https%3a%2f%2fwww.googleapis.com%2fauth%2fdocs.test%20https%3a%2f%2fwww.googleapis.com%2fauth%2fdrive%20https%3a%2f%2fwww.googleapis.com%2fauth%2fdrive.photos.readonly%20https%3a%2f%2fwww.googleapis.com%2fauth%2fpeopleapi.readonly\n",
            "\n",
            "Enter your authorization code:\n",
            "··········\n",
            "Mounted at /gdrive\n"
          ],
          "name": "stdout"
        }
      ]
    },
    {
      "cell_type": "code",
      "metadata": {
        "id": "tJaxZys3gGAh",
        "colab_type": "code",
        "colab": {}
      },
      "source": [
        "import pandas as pd\n",
        "import numpy as np\n"
      ],
      "execution_count": 0,
      "outputs": []
    },
    {
      "cell_type": "code",
      "metadata": {
        "id": "UryXmAcmoJmq",
        "colab_type": "code",
        "colab": {}
      },
      "source": [
        "import statsmodels.api as sm"
      ],
      "execution_count": 0,
      "outputs": []
    },
    {
      "cell_type": "code",
      "metadata": {
        "id": "-6Vc2QoFlKzL",
        "colab_type": "code",
        "colab": {}
      },
      "source": [
        "import warnings\n",
        "warnings.filterwarnings('ignore')"
      ],
      "execution_count": 0,
      "outputs": []
    },
    {
      "cell_type": "code",
      "metadata": {
        "id": "eih54A9hgCro",
        "colab_type": "code",
        "colab": {}
      },
      "source": [
        "df=pd.read_csv('/gdrive/My Drive/salary.csv')"
      ],
      "execution_count": 0,
      "outputs": []
    },
    {
      "cell_type": "code",
      "metadata": {
        "id": "uCru_Y7rgClB",
        "colab_type": "code",
        "outputId": "78a58613-d672-4470-ae54-13f5ea3be74d",
        "colab": {
          "base_uri": "https://localhost:8080/",
          "height": 204
        }
      },
      "source": [
        "df.head()"
      ],
      "execution_count": 0,
      "outputs": [
        {
          "output_type": "execute_result",
          "data": {
            "text/html": [
              "<div>\n",
              "<style scoped>\n",
              "    .dataframe tbody tr th:only-of-type {\n",
              "        vertical-align: middle;\n",
              "    }\n",
              "\n",
              "    .dataframe tbody tr th {\n",
              "        vertical-align: top;\n",
              "    }\n",
              "\n",
              "    .dataframe thead th {\n",
              "        text-align: right;\n",
              "    }\n",
              "</style>\n",
              "<table border=\"1\" class=\"dataframe\">\n",
              "  <thead>\n",
              "    <tr style=\"text-align: right;\">\n",
              "      <th></th>\n",
              "      <th>YearsExperience</th>\n",
              "      <th>Salary</th>\n",
              "    </tr>\n",
              "  </thead>\n",
              "  <tbody>\n",
              "    <tr>\n",
              "      <th>0</th>\n",
              "      <td>1.1</td>\n",
              "      <td>39343.0</td>\n",
              "    </tr>\n",
              "    <tr>\n",
              "      <th>1</th>\n",
              "      <td>1.3</td>\n",
              "      <td>46205.0</td>\n",
              "    </tr>\n",
              "    <tr>\n",
              "      <th>2</th>\n",
              "      <td>1.5</td>\n",
              "      <td>37731.0</td>\n",
              "    </tr>\n",
              "    <tr>\n",
              "      <th>3</th>\n",
              "      <td>2.0</td>\n",
              "      <td>43525.0</td>\n",
              "    </tr>\n",
              "    <tr>\n",
              "      <th>4</th>\n",
              "      <td>2.2</td>\n",
              "      <td>39891.0</td>\n",
              "    </tr>\n",
              "  </tbody>\n",
              "</table>\n",
              "</div>"
            ],
            "text/plain": [
              "   YearsExperience   Salary\n",
              "0              1.1  39343.0\n",
              "1              1.3  46205.0\n",
              "2              1.5  37731.0\n",
              "3              2.0  43525.0\n",
              "4              2.2  39891.0"
            ]
          },
          "metadata": {
            "tags": []
          },
          "execution_count": 4
        }
      ]
    },
    {
      "cell_type": "code",
      "metadata": {
        "id": "5X2zvMc5gCiS",
        "colab_type": "code",
        "colab": {}
      },
      "source": [
        "from sklearn.model_selection import train_test_split\n",
        "from sklearn.preprocessing import LabelEncoder\n",
        "from sklearn.linear_model import LinearRegression"
      ],
      "execution_count": 0,
      "outputs": []
    },
    {
      "cell_type": "code",
      "metadata": {
        "id": "J_cYszZkgCeB",
        "colab_type": "code",
        "outputId": "89932155-0b07-4d58-8972-9c75d2b55862",
        "colab": {
          "base_uri": "https://localhost:8080/",
          "height": 34
        }
      },
      "source": [
        "df.size"
      ],
      "execution_count": 0,
      "outputs": [
        {
          "output_type": "execute_result",
          "data": {
            "text/plain": [
              "60"
            ]
          },
          "metadata": {
            "tags": []
          },
          "execution_count": 6
        }
      ]
    },
    {
      "cell_type": "code",
      "metadata": {
        "id": "hCQRefAQgCb0",
        "colab_type": "code",
        "outputId": "c625656d-bcc6-4cdd-b941-416c42d5a309",
        "colab": {
          "base_uri": "https://localhost:8080/",
          "height": 34
        }
      },
      "source": [
        "df.shape"
      ],
      "execution_count": 0,
      "outputs": [
        {
          "output_type": "execute_result",
          "data": {
            "text/plain": [
              "(30, 2)"
            ]
          },
          "metadata": {
            "tags": []
          },
          "execution_count": 7
        }
      ]
    },
    {
      "cell_type": "code",
      "metadata": {
        "id": "wreUtUcugp5X",
        "colab_type": "code",
        "outputId": "eab78f18-c3ba-46a9-b3c0-8025b5f92afb",
        "colab": {
          "base_uri": "https://localhost:8080/",
          "height": 68
        }
      },
      "source": [
        "df.dtypes"
      ],
      "execution_count": 0,
      "outputs": [
        {
          "output_type": "execute_result",
          "data": {
            "text/plain": [
              "YearsExperience    float64\n",
              "Salary             float64\n",
              "dtype: object"
            ]
          },
          "metadata": {
            "tags": []
          },
          "execution_count": 8
        }
      ]
    },
    {
      "cell_type": "code",
      "metadata": {
        "id": "LtsyZ7OMguKs",
        "colab_type": "code",
        "colab": {}
      },
      "source": [
        "import matplotlib.pyplot as plt "
      ],
      "execution_count": 0,
      "outputs": []
    },
    {
      "cell_type": "code",
      "metadata": {
        "id": "CPBtv4Zkh6er",
        "colab_type": "code",
        "outputId": "96c43b7a-0220-4848-a01c-a4d1515f0c54",
        "colab": {
          "base_uri": "https://localhost:8080/",
          "height": 282
        }
      },
      "source": [
        "plt.plot(df.YearsExperience,df.Salary)"
      ],
      "execution_count": 0,
      "outputs": [
        {
          "output_type": "execute_result",
          "data": {
            "text/plain": [
              "[<matplotlib.lines.Line2D at 0x7f9681987c50>]"
            ]
          },
          "metadata": {
            "tags": []
          },
          "execution_count": 11
        },
        {
          "output_type": "display_data",
          "data": {
            "image/png": "[encoded data removed]",
            "text/plain": [
              "<Figure size 432x288 with 1 Axes>"
            ]
          },
          "metadata": {
            "tags": []
          }
        }
      ]
    },
    {
      "cell_type": "code",
      "metadata": {
        "id": "G0Jh_C0PguAs",
        "colab_type": "code",
        "outputId": "f17ed366-b1d2-435d-e469-b2978b074724",
        "colab": {
          "base_uri": "https://localhost:8080/",
          "height": 282
        }
      },
      "source": [
        "plt.scatter(df.YearsExperience,df.Salary)"
      ],
      "execution_count": 0,
      "outputs": [
        {
          "output_type": "execute_result",
          "data": {
            "text/plain": [
              "<matplotlib.collections.PathCollection at 0x7f9681250f60>"
            ]
          },
          "metadata": {
            "tags": []
          },
          "execution_count": 10
        },
        {
          "output_type": "display_data",
          "data": {
            "image/png": "[encoded data removed]",
            "text/plain": [
              "<Figure size 432x288 with 1 Axes>"
            ]
          },
          "metadata": {
            "tags": []
          }
        }
      ]
    },
    {
      "cell_type": "code",
      "metadata": {
        "id": "xZU-6S7bgt1p",
        "colab_type": "code",
        "colab": {}
      },
      "source": [
        "#from graph we can see if experience is increasing then salary also increasing"
      ],
      "execution_count": 0,
      "outputs": []
    },
    {
      "cell_type": "code",
      "metadata": {
        "id": "6oEIXmkplbgQ",
        "colab_type": "code",
        "outputId": "ac345309-29d7-4c49-9962-27d654c2dd44",
        "colab": {
          "base_uri": "https://localhost:8080/",
          "height": 697
        }
      },
      "source": [
        "#Use brute-force Technique\n",
        "for i in range(1,101):\n",
        "    X_train,X_test,Y_train,Y_test=train_test_split(df.drop(labels=['Salary'],axis=1),df[['Salary']],\n",
        "                                                  test_size=0.2,\n",
        "                                                  random_state=i)\n",
        "    model2 = LinearRegression()\n",
        "    model2.fit(X_train,Y_train)\n",
        "    \n",
        "    test_score = model2.score(X_test,Y_test)\n",
        "    train_score = model2.score(X_train,Y_train)\n",
        "    \n",
        "    if test_score > train_score:\n",
        "        print(\"Test Score {} Train Score {} Random {}\".format(test_score,train_score,i))"
      ],
      "execution_count": 0,
      "outputs": [
        {
          "output_type": "stream",
          "text": [
            "ERROR! Session/line number was not unique in database. History logging moved to new session 62\n",
            "Test Score 0.9695039421049821 Train Score 0.9545249190394052 Random 3\n",
            "Test Score 0.9631182154839475 Train Score 0.9528197369259258 Random 8\n",
            "Test Score 0.9816423482070255 Train Score 0.9494673013344646 Random 10\n",
            "Test Score 0.9606215790278543 Train Score 0.9527636176933665 Random 14\n",
            "Test Score 0.9835849730044817 Train Score 0.9460054870434312 Random 26\n",
            "Test Score 0.9636425773684423 Train Score 0.9527636606684406 Random 27\n",
            "Test Score 0.9944092048209744 Train Score 0.9400496694274888 Random 30\n",
            "Test Score 0.9778242092591889 Train Score 0.9486350116716654 Random 37\n",
            "Test Score 0.9724794487377619 Train Score 0.9473317052697812 Random 38\n",
            "Test Score 0.9928344802911048 Train Score 0.9492886917497556 Random 39\n",
            "Test Score 0.9802519469633169 Train Score 0.9491742100347064 Random 41\n",
            "Test Score 0.9789129767378081 Train Score 0.948821675263085 Random 46\n",
            "Test Score 0.98399193890564 Train Score 0.9486450781125914 Random 47\n",
            "Test Score 0.980277279178695 Train Score 0.9500780390200971 Random 48\n",
            "Test Score 0.9608624689052039 Train Score 0.9541375225175409 Random 51\n",
            "Test Score 0.9743646706957548 Train Score 0.952756273050018 Random 52\n",
            "Test Score 0.9804067424885895 Train Score 0.9504872715098402 Random 56\n",
            "Test Score 0.9719509793938971 Train Score 0.9473987125707488 Random 62\n",
            "Test Score 0.95820089851047 Train Score 0.9505483928196958 Random 63\n",
            "Test Score 0.9588832495320915 Train Score 0.9562672856609079 Random 67\n",
            "Test Score 0.9791787060652751 Train Score 0.9379320689503841 Random 68\n",
            "Test Score 0.9694792167947474 Train Score 0.9504137960985712 Random 71\n",
            "Test Score 0.9562771755752736 Train Score 0.9562030951258303 Random 72\n",
            "Test Score 0.981214310330871 Train Score 0.9453900863447221 Random 73\n",
            "Test Score 0.9618591691900452 Train Score 0.9553251075019685 Random 74\n",
            "Test Score 0.9652242905568412 Train Score 0.9533893439783429 Random 75\n",
            "Test Score 0.9782012346646264 Train Score 0.9504675637559191 Random 77\n",
            "Test Score 0.9861836585536035 Train Score 0.9464278082328255 Random 78\n",
            "Test Score 0.9806625667591384 Train Score 0.9490941521623282 Random 79\n",
            "Test Score 0.9760426364249574 Train Score 0.9500955424260096 Random 81\n",
            "Test Score 0.9771739926822539 Train Score 0.9466573106897649 Random 85\n",
            "Test Score 0.9743110017459555 Train Score 0.9473439749203112 Random 86\n",
            "Test Score 0.9770761663991681 Train Score 0.9423648233451756 Random 88\n",
            "Test Score 0.9744265816506664 Train Score 0.946728531416641 Random 89\n",
            "Test Score 0.9676701872390631 Train Score 0.9529778812782739 Random 90\n",
            "Test Score 0.9793995823406391 Train Score 0.9469346629378338 Random 92\n",
            "Test Score 0.9682219576297961 Train Score 0.9534166513146051 Random 93\n",
            "Test Score 0.9676991009836634 Train Score 0.9514417860805683 Random 94\n",
            "Test Score 0.9720725422361338 Train Score 0.9514027940440705 Random 100\n"
          ],
          "name": "stdout"
        }
      ]
    },
    {
      "cell_type": "code",
      "metadata": {
        "id": "MO14uEHshOVt",
        "colab_type": "code",
        "colab": {}
      },
      "source": [
        "X_train,X_test,Y_train,Y_test=train_test_split(df.drop(labels=['Salary'],axis=1),df[['Salary']],test_size=0.2,random_state=3)"
      ],
      "execution_count": 0,
      "outputs": []
    },
    {
      "cell_type": "code",
      "metadata": {
        "id": "lz9joKPEhOBH",
        "colab_type": "code",
        "colab": {}
      },
      "source": [
        "reg=LinearRegression()"
      ],
      "execution_count": 0,
      "outputs": []
    },
    {
      "cell_type": "code",
      "metadata": {
        "id": "TKTGYL4jhN2b",
        "colab_type": "code",
        "outputId": "8e832644-34d6-4cff-de10-4f11bc00d1f8",
        "colab": {
          "base_uri": "https://localhost:8080/",
          "height": 34
        }
      },
      "source": [
        "reg.fit(X_train,Y_train)"
      ],
      "execution_count": 0,
      "outputs": [
        {
          "output_type": "execute_result",
          "data": {
            "text/plain": [
              "LinearRegression(copy_X=True, fit_intercept=True, n_jobs=None, normalize=False)"
            ]
          },
          "metadata": {
            "tags": []
          },
          "execution_count": 107
        }
      ]
    },
    {
      "cell_type": "code",
      "metadata": {
        "id": "BMkVJLm_i304",
        "colab_type": "code",
        "colab": {}
      },
      "source": [
        "pred=reg.predict(X_test)"
      ],
      "execution_count": 0,
      "outputs": []
    },
    {
      "cell_type": "code",
      "metadata": {
        "id": "WbzdQxusi3qE",
        "colab_type": "code",
        "outputId": "9d1cf60b-50ee-4b19-9f2c-01980d9b36ef",
        "colab": {
          "base_uri": "https://localhost:8080/",
          "height": 119
        }
      },
      "source": [
        "pred"
      ],
      "execution_count": 0,
      "outputs": [
        {
          "output_type": "execute_result",
          "data": {
            "text/plain": [
              "array([[ 72348.74519846],\n",
              "       [ 53511.61125108],\n",
              "       [100604.44611953],\n",
              "       [115674.15327744],\n",
              "       [ 81767.31217215],\n",
              "       [ 68581.31840899]])"
            ]
          },
          "metadata": {
            "tags": []
          },
          "execution_count": 109
        }
      ]
    },
    {
      "cell_type": "code",
      "metadata": {
        "id": "skDS74-XjHFg",
        "colab_type": "code",
        "outputId": "a515601c-3367-40ed-e775-addcb8c18a64",
        "colab": {
          "base_uri": "https://localhost:8080/",
          "height": 34
        }
      },
      "source": [
        "print(reg.score(X_train,Y_train))"
      ],
      "execution_count": 0,
      "outputs": [
        {
          "output_type": "stream",
          "text": [
            "0.9545249190394052\n"
          ],
          "name": "stdout"
        }
      ]
    },
    {
      "cell_type": "code",
      "metadata": {
        "id": "nvn4qlj4jM9l",
        "colab_type": "code",
        "outputId": "5bf3229b-4679-42e4-e8de-edd4cac370d0",
        "colab": {
          "base_uri": "https://localhost:8080/",
          "height": 34
        }
      },
      "source": [
        "print(reg.score(X_test,Y_test))"
      ],
      "execution_count": 0,
      "outputs": [
        {
          "output_type": "stream",
          "text": [
            "0.9695039421049821\n"
          ],
          "name": "stdout"
        }
      ]
    },
    {
      "cell_type": "code",
      "metadata": {
        "id": "Rra3RRgUoSja",
        "colab_type": "code",
        "colab": {}
      },
      "source": [
        "# as we can see test score is greater than train score,so model is good"
      ],
      "execution_count": 0,
      "outputs": []
    },
    {
      "cell_type": "code",
      "metadata": {
        "id": "Drl74nWvjmvv",
        "colab_type": "code",
        "outputId": "edd7629d-3822-4569-dc53-7c27ee3fe58d",
        "colab": {
          "base_uri": "https://localhost:8080/",
          "height": 204
        }
      },
      "source": [
        "X_test.head()"
      ],
      "execution_count": 0,
      "outputs": [
        {
          "output_type": "execute_result",
          "data": {
            "text/html": [
              "<div>\n",
              "<style scoped>\n",
              "    .dataframe tbody tr th:only-of-type {\n",
              "        vertical-align: middle;\n",
              "    }\n",
              "\n",
              "    .dataframe tbody tr th {\n",
              "        vertical-align: top;\n",
              "    }\n",
              "\n",
              "    .dataframe thead th {\n",
              "        text-align: right;\n",
              "    }\n",
              "</style>\n",
              "<table border=\"1\" class=\"dataframe\">\n",
              "  <thead>\n",
              "    <tr style=\"text-align: right;\">\n",
              "      <th></th>\n",
              "      <th>YearsExperience</th>\n",
              "    </tr>\n",
              "  </thead>\n",
              "  <tbody>\n",
              "    <tr>\n",
              "      <th>15</th>\n",
              "      <td>4.9</td>\n",
              "    </tr>\n",
              "    <tr>\n",
              "      <th>5</th>\n",
              "      <td>2.9</td>\n",
              "    </tr>\n",
              "    <tr>\n",
              "      <th>22</th>\n",
              "      <td>7.9</td>\n",
              "    </tr>\n",
              "    <tr>\n",
              "      <th>26</th>\n",
              "      <td>9.5</td>\n",
              "    </tr>\n",
              "    <tr>\n",
              "      <th>18</th>\n",
              "      <td>5.9</td>\n",
              "    </tr>\n",
              "  </tbody>\n",
              "</table>\n",
              "</div>"
            ],
            "text/plain": [
              "    YearsExperience\n",
              "15              4.9\n",
              "5               2.9\n",
              "22              7.9\n",
              "26              9.5\n",
              "18              5.9"
            ]
          },
          "metadata": {
            "tags": []
          },
          "execution_count": 112
        }
      ]
    },
    {
      "cell_type": "code",
      "metadata": {
        "id": "KOJfBz3gnm-I",
        "colab_type": "code",
        "outputId": "bf6f69e0-6c29-4b9d-bb4e-e27b7ec9d99f",
        "colab": {
          "base_uri": "https://localhost:8080/",
          "height": 119
        }
      },
      "source": [
        "pred"
      ],
      "execution_count": 0,
      "outputs": [
        {
          "output_type": "execute_result",
          "data": {
            "text/plain": [
              "array([[ 72348.74519846],\n",
              "       [ 53511.61125108],\n",
              "       [100604.44611953],\n",
              "       [115674.15327744],\n",
              "       [ 81767.31217215],\n",
              "       [ 68581.31840899]])"
            ]
          },
          "metadata": {
            "tags": []
          },
          "execution_count": 114
        }
      ]
    },
    {
      "cell_type": "code",
      "metadata": {
        "id": "EG2XThaSjvV6",
        "colab_type": "code",
        "outputId": "6d116c49-9452-4d23-91bf-ecf8bd3c0e5b",
        "colab": {
          "base_uri": "https://localhost:8080/",
          "height": 34
        }
      },
      "source": [
        "reg.predict([[4.9]])"
      ],
      "execution_count": 0,
      "outputs": [
        {
          "output_type": "execute_result",
          "data": {
            "text/plain": [
              "array([[72348.74519846]])"
            ]
          },
          "metadata": {
            "tags": []
          },
          "execution_count": 113
        }
      ]
    },
    {
      "cell_type": "code",
      "metadata": {
        "id": "DesEB5gqnSRt",
        "colab_type": "code",
        "colab": {}
      },
      "source": [
        "# we are getting the same prediction value..when i took exp 4.9 year.it gave me the salary 72348 which same as above salary"
      ],
      "execution_count": 0,
      "outputs": []
    },
    {
      "cell_type": "code",
      "metadata": {
        "id": "02KK9WgTk9PN",
        "colab_type": "code",
        "outputId": "79f0b56b-7f95-41c7-c970-d238774b23c9",
        "colab": {
          "base_uri": "https://localhost:8080/",
          "height": 34
        }
      },
      "source": [
        "reg.predict([[2.9]])"
      ],
      "execution_count": 0,
      "outputs": [
        {
          "output_type": "execute_result",
          "data": {
            "text/plain": [
              "array([[53511.61125108]])"
            ]
          },
          "metadata": {
            "tags": []
          },
          "execution_count": 115
        }
      ]
    },
    {
      "cell_type": "code",
      "metadata": {
        "id": "6bCSoRc4nv2f",
        "colab_type": "code",
        "outputId": "c1c78d9c-7320-4217-cb0d-cc68b0a25b8f",
        "colab": {
          "base_uri": "https://localhost:8080/",
          "height": 34
        }
      },
      "source": [
        "reg.predict([[7.9]])"
      ],
      "execution_count": 0,
      "outputs": [
        {
          "output_type": "execute_result",
          "data": {
            "text/plain": [
              "array([[100604.44611953]])"
            ]
          },
          "metadata": {
            "tags": []
          },
          "execution_count": 116
        }
      ]
    },
    {
      "cell_type": "code",
      "metadata": {
        "id": "IXPreOOVsVzj",
        "colab_type": "code",
        "colab": {}
      },
      "source": [
        "# now we will enter the experience manually"
      ],
      "execution_count": 0,
      "outputs": []
    },
    {
      "cell_type": "code",
      "metadata": {
        "id": "mZ7gGdx2tUgq",
        "colab_type": "code",
        "outputId": "83e6e5e1-c35c-43d0-fe4b-13c75b179182",
        "colab": {
          "base_uri": "https://localhost:8080/",
          "height": 34
        }
      },
      "source": [
        "reg.predict([[0]])"
      ],
      "execution_count": 0,
      "outputs": [
        {
          "output_type": "execute_result",
          "data": {
            "text/plain": [
              "array([[26197.76702738]])"
            ]
          },
          "metadata": {
            "tags": []
          },
          "execution_count": 128
        }
      ]
    },
    {
      "cell_type": "code",
      "metadata": {
        "id": "OChGpD3JtY_s",
        "colab_type": "code",
        "colab": {}
      },
      "source": [
        "# people will get the 26k salary on 0 year exp"
      ],
      "execution_count": 0,
      "outputs": []
    },
    {
      "cell_type": "code",
      "metadata": {
        "id": "tj3CiLo2tKBz",
        "colab_type": "code",
        "outputId": "810dcd52-216d-4a08-c1b1-a0db6a5b4aa5",
        "colab": {
          "base_uri": "https://localhost:8080/",
          "height": 34
        }
      },
      "source": [
        "reg.predict([[1]])"
      ],
      "execution_count": 0,
      "outputs": [
        {
          "output_type": "execute_result",
          "data": {
            "text/plain": [
              "array([[35616.33400107]])"
            ]
          },
          "metadata": {
            "tags": []
          },
          "execution_count": 127
        }
      ]
    },
    {
      "cell_type": "code",
      "metadata": {
        "colab_type": "code",
        "id": "Ci8UHYkKtOny",
        "colab": {}
      },
      "source": [
        "# people will get the 35k salary on 1 year exp"
      ],
      "execution_count": 0,
      "outputs": []
    },
    {
      "cell_type": "code",
      "metadata": {
        "id": "FkXg7BL_seXV",
        "colab_type": "code",
        "outputId": "f24a0fb3-064f-4b23-9a9f-2faa09c6cfdd",
        "colab": {
          "base_uri": "https://localhost:8080/",
          "height": 34
        }
      },
      "source": [
        "reg.predict([[2]])"
      ],
      "execution_count": 0,
      "outputs": [
        {
          "output_type": "execute_result",
          "data": {
            "text/plain": [
              "array([[45034.90097476]])"
            ]
          },
          "metadata": {
            "tags": []
          },
          "execution_count": 124
        }
      ]
    },
    {
      "cell_type": "code",
      "metadata": {
        "id": "DMssTnAAssNA",
        "colab_type": "code",
        "colab": {}
      },
      "source": [
        "# people will get the 45k salary on 2 year exp"
      ],
      "execution_count": 0,
      "outputs": []
    },
    {
      "cell_type": "code",
      "metadata": {
        "id": "xlqtuoLRsi2f",
        "colab_type": "code",
        "outputId": "63d6867c-44cf-42c3-8b2b-f7c1aff0690d",
        "colab": {
          "base_uri": "https://localhost:8080/",
          "height": 34
        }
      },
      "source": [
        "reg.predict([[3]])"
      ],
      "execution_count": 0,
      "outputs": [
        {
          "output_type": "execute_result",
          "data": {
            "text/plain": [
              "array([[54453.46794845]])"
            ]
          },
          "metadata": {
            "tags": []
          },
          "execution_count": 125
        }
      ]
    },
    {
      "cell_type": "code",
      "metadata": {
        "id": "IrBuRfTzs2Bv",
        "colab_type": "code",
        "colab": {}
      },
      "source": [
        "# people will get the 54k salary on 3 year exp"
      ],
      "execution_count": 0,
      "outputs": []
    },
    {
      "cell_type": "code",
      "metadata": {
        "id": "7EnS2FjVs8R9",
        "colab_type": "code",
        "outputId": "e3331029-14ce-4678-c9fc-1caef511759c",
        "colab": {
          "base_uri": "https://localhost:8080/",
          "height": 34
        }
      },
      "source": [
        "reg.predict([[4]])"
      ],
      "execution_count": 0,
      "outputs": [
        {
          "output_type": "execute_result",
          "data": {
            "text/plain": [
              "array([[63872.03492214]])"
            ]
          },
          "metadata": {
            "tags": []
          },
          "execution_count": 126
        }
      ]
    },
    {
      "cell_type": "code",
      "metadata": {
        "id": "jirnYsr1tCnm",
        "colab_type": "code",
        "colab": {}
      },
      "source": [
        "# people will get the 63k salary on 1 year exp"
      ],
      "execution_count": 0,
      "outputs": []
    },
    {
      "cell_type": "code",
      "metadata": {
        "id": "--tILFdItefe",
        "colab_type": "code",
        "colab": {}
      },
      "source": [
        "# so starting salary is 26k for fresher,and salary increasing 10k for per year exp"
      ],
      "execution_count": 0,
      "outputs": []
    },
    {
      "cell_type": "code",
      "metadata": {
        "id": "9jtbGDMtn3Ue",
        "colab_type": "code",
        "outputId": "b637ec61-3746-439d-e047-9bf77d1fb169",
        "colab": {
          "base_uri": "https://localhost:8080/",
          "height": 34
        }
      },
      "source": [
        "reg.coef_"
      ],
      "execution_count": 0,
      "outputs": [
        {
          "output_type": "execute_result",
          "data": {
            "text/plain": [
              "array([[9418.56697369]])"
            ]
          },
          "metadata": {
            "tags": []
          },
          "execution_count": 117
        }
      ]
    },
    {
      "cell_type": "code",
      "metadata": {
        "id": "K54mBk0Vn-me",
        "colab_type": "code",
        "outputId": "fb89bcf6-4e85-47d1-cb66-7c5e92980d45",
        "colab": {
          "base_uri": "https://localhost:8080/",
          "height": 34
        }
      },
      "source": [
        "reg.intercept_"
      ],
      "execution_count": 0,
      "outputs": [
        {
          "output_type": "execute_result",
          "data": {
            "text/plain": [
              "array([26197.76702738])"
            ]
          },
          "metadata": {
            "tags": []
          },
          "execution_count": 118
        }
      ]
    },
    {
      "cell_type": "code",
      "metadata": {
        "id": "iDh0pzE_odOK",
        "colab_type": "code",
        "colab": {}
      },
      "source": [
        "model1=sm.OLS(Y_train,X_train)"
      ],
      "execution_count": 0,
      "outputs": []
    },
    {
      "cell_type": "code",
      "metadata": {
        "id": "zJx9sGWMofIK",
        "colab_type": "code",
        "colab": {}
      },
      "source": [
        "result=model1.fit()"
      ],
      "execution_count": 0,
      "outputs": []
    },
    {
      "cell_type": "code",
      "metadata": {
        "id": "YXA5GK4BpCI5",
        "colab_type": "code",
        "outputId": "5dbe1489-7d6a-4a74-ff95-25c5fbf9ebcf",
        "colab": {
          "base_uri": "https://localhost:8080/",
          "height": 423
        }
      },
      "source": [
        "result.summary()"
      ],
      "execution_count": 0,
      "outputs": [
        {
          "output_type": "execute_result",
          "data": {
            "text/html": [
              "<table class=\"simpletable\">\n",
              "<caption>OLS Regression Results</caption>\n",
              "<tr>\n",
              "  <th>Dep. Variable:</th>         <td>Salary</td>      <th>  R-squared (uncentered):</th>      <td>   0.969</td>\n",
              "</tr>\n",
              "<tr>\n",
              "  <th>Model:</th>                   <td>OLS</td>       <th>  Adj. R-squared (uncentered):</th> <td>   0.967</td>\n",
              "</tr>\n",
              "<tr>\n",
              "  <th>Method:</th>             <td>Least Squares</td>  <th>  F-statistic:       </th>          <td>   708.8</td>\n",
              "</tr>\n",
              "<tr>\n",
              "  <th>Date:</th>             <td>Fri, 27 Mar 2020</td> <th>  Prob (F-statistic):</th>          <td>8.74e-19</td>\n",
              "</tr>\n",
              "<tr>\n",
              "  <th>Time:</th>                 <td>11:02:04</td>     <th>  Log-Likelihood:    </th>          <td> -263.44</td>\n",
              "</tr>\n",
              "<tr>\n",
              "  <th>No. Observations:</th>      <td>    24</td>      <th>  AIC:               </th>          <td>   528.9</td>\n",
              "</tr>\n",
              "<tr>\n",
              "  <th>Df Residuals:</th>          <td>    23</td>      <th>  BIC:               </th>          <td>   530.1</td>\n",
              "</tr>\n",
              "<tr>\n",
              "  <th>Df Model:</th>              <td>     1</td>      <th>                     </th>              <td> </td>   \n",
              "</tr>\n",
              "<tr>\n",
              "  <th>Covariance Type:</th>      <td>nonrobust</td>    <th>                     </th>              <td> </td>   \n",
              "</tr>\n",
              "</table>\n",
              "<table class=\"simpletable\">\n",
              "<tr>\n",
              "         <td></td>            <th>coef</th>     <th>std err</th>      <th>t</th>      <th>P>|t|</th>  <th>[0.025</th>    <th>0.975]</th>  \n",
              "</tr>\n",
              "<tr>\n",
              "  <th>YearsExperience</th> <td> 1.328e+04</td> <td>  498.717</td> <td>   26.624</td> <td> 0.000</td> <td> 1.22e+04</td> <td> 1.43e+04</td>\n",
              "</tr>\n",
              "</table>\n",
              "<table class=\"simpletable\">\n",
              "<tr>\n",
              "  <th>Omnibus:</th>       <td> 0.854</td> <th>  Durbin-Watson:     </th> <td>   2.015</td>\n",
              "</tr>\n",
              "<tr>\n",
              "  <th>Prob(Omnibus):</th> <td> 0.653</td> <th>  Jarque-Bera (JB):  </th> <td>   0.853</td>\n",
              "</tr>\n",
              "<tr>\n",
              "  <th>Skew:</th>          <td>-0.291</td> <th>  Prob(JB):          </th> <td>   0.653</td>\n",
              "</tr>\n",
              "<tr>\n",
              "  <th>Kurtosis:</th>      <td> 2.284</td> <th>  Cond. No.          </th> <td>    1.00</td>\n",
              "</tr>\n",
              "</table><br/><br/>Warnings:<br/>[1] Standard Errors assume that the covariance matrix of the errors is correctly specified."
            ],
            "text/plain": [
              "<class 'statsmodels.iolib.summary.Summary'>\n",
              "\"\"\"\n",
              "                                 OLS Regression Results                                \n",
              "=======================================================================================\n",
              "Dep. Variable:                 Salary   R-squared (uncentered):                   0.969\n",
              "Model:                            OLS   Adj. R-squared (uncentered):              0.967\n",
              "Method:                 Least Squares   F-statistic:                              708.8\n",
              "Date:                Fri, 27 Mar 2020   Prob (F-statistic):                    8.74e-19\n",
              "Time:                        11:02:04   Log-Likelihood:                         -263.44\n",
              "No. Observations:                  24   AIC:                                      528.9\n",
              "Df Residuals:                      23   BIC:                                      530.1\n",
              "Df Model:                           1                                                  \n",
              "Covariance Type:            nonrobust                                                  \n",
              "===================================================================================\n",
              "                      coef    std err          t      P>|t|      [0.025      0.975]\n",
              "-----------------------------------------------------------------------------------\n",
              "YearsExperience  1.328e+04    498.717     26.624      0.000    1.22e+04    1.43e+04\n",
              "==============================================================================\n",
              "Omnibus:                        0.854   Durbin-Watson:                   2.015\n",
              "Prob(Omnibus):                  0.653   Jarque-Bera (JB):                0.853\n",
              "Skew:                          -0.291   Prob(JB):                        0.653\n",
              "Kurtosis:                       2.284   Cond. No.                         1.00\n",
              "==============================================================================\n",
              "\n",
              "Warnings:\n",
              "[1] Standard Errors assume that the covariance matrix of the errors is correctly specified.\n",
              "\"\"\""
            ]
          },
          "metadata": {
            "tags": []
          },
          "execution_count": 123
        }
      ]
    },
    {
      "cell_type": "code",
      "metadata": {
        "id": "Orq148LQqJ1E",
        "colab_type": "code",
        "colab": {}
      },
      "source": [
        "#also we can see p value is zero,so model is good"
      ],
      "execution_count": 0,
      "outputs": []
    }
  ]
}