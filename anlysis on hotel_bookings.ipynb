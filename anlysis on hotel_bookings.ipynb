{
  "nbformat": 4,
  "nbformat_minor": 0,
  "metadata": {
    "colab": {
      "name": "hotel prediction.ipynb",
      "provenance": [],
      "authorship_tag": "ABX9TyPxxFHkU5HeEJb+y05abSL1",
      "include_colab_link": true
    },
    "kernelspec": {
      "name": "python3",
      "display_name": "Python 3"
    }
  },
  "cells": [
    {
      "cell_type": "markdown",
      "metadata": {
        "id": "view-in-github",
        "colab_type": "text"
      },
      "source": [
        "<a href=\"https://colab.research.google.com/github/SHAIKHHUZEFA/basic-django-project/blob/master/anlysis%20on%20hotel_bookings.ipynb\" target=\"_parent\"><img src=\"https://colab.research.google.com/assets/colab-badge.svg\" alt=\"Open In Colab\"/></a>"
      ]
    },
    {
      "cell_type": "code",
      "metadata": {
        "id": "YKULEXizsJIS",
        "colab_type": "code",
        "outputId": "f1f78aab-548f-4915-d69f-5667276edad3",
        "colab": {
          "base_uri": "https://localhost:8080/",
          "height": 122
        }
      },
      "source": [
        "from google.colab import drive\n",
        "drive.mount('/gdrive')\n"
      ],
      "execution_count": 0,
      "outputs": [
        {
          "output_type": "stream",
          "text": [
            "Go to this URL in a browser: https://accounts.google.com/o/oauth2/auth?client_id=947318989803-6bn6qk8qdgf4n4g3pfee6491hc0brc4i.apps.googleusercontent.com&redirect_uri=urn%3aietf%3awg%3aoauth%3a2.0%3aoob&response_type=code&scope=email%20https%3a%2f%2fwww.googleapis.com%2fauth%2fdocs.test%20https%3a%2f%2fwww.googleapis.com%2fauth%2fdrive%20https%3a%2f%2fwww.googleapis.com%2fauth%2fdrive.photos.readonly%20https%3a%2f%2fwww.googleapis.com%2fauth%2fpeopleapi.readonly\n",
            "\n",
            "Enter your authorization code:\n",
            "··········\n",
            "Mounted at /gdrive\n"
          ],
          "name": "stdout"
        }
      ]
    },
    {
      "cell_type": "code",
      "metadata": {
        "id": "--sRb1jJtp-u",
        "colab_type": "code",
        "colab": {}
      },
      "source": [
        "import pandas as pd\n",
        "import numpy as np"
      ],
      "execution_count": 0,
      "outputs": []
    },
    {
      "cell_type": "code",
      "metadata": {
        "id": "I8o5v2DotpxJ",
        "colab_type": "code",
        "colab": {}
      },
      "source": [
        "df=pd.read_csv('/gdrive/My Drive/hotel_bookings.csv')"
      ],
      "execution_count": 0,
      "outputs": []
    },
    {
      "cell_type": "code",
      "metadata": {
        "id": "vDe0Ea1LuJAl",
        "colab_type": "code",
        "outputId": "8c73db79-6ddf-4e3a-fd87-82cc10d7d6f2",
        "colab": {
          "base_uri": "https://localhost:8080/",
          "height": 309
        }
      },
      "source": [
        "df.head()"
      ],
      "execution_count": 0,
      "outputs": [
        {
          "output_type": "execute_result",
          "data": {
            "text/html": [
              "<div>\n",
              "<style scoped>\n",
              "    .dataframe tbody tr th:only-of-type {\n",
              "        vertical-align: middle;\n",
              "    }\n",
              "\n",
              "    .dataframe tbody tr th {\n",
              "        vertical-align: top;\n",
              "    }\n",
              "\n",
              "    .dataframe thead th {\n",
              "        text-align: right;\n",
              "    }\n",
              "</style>\n",
              "<table border=\"1\" class=\"dataframe\">\n",
              "  <thead>\n",
              "    <tr style=\"text-align: right;\">\n",
              "      <th></th>\n",
              "      <th>hotel</th>\n",
              "      <th>is_canceled</th>\n",
              "      <th>lead_time</th>\n",
              "      <th>arrival_date_year</th>\n",
              "      <th>arrival_date_month</th>\n",
              "      <th>arrival_date_week_number</th>\n",
              "      <th>arrival_date_day_of_month</th>\n",
              "      <th>stays_in_weekend_nights</th>\n",
              "      <th>stays_in_week_nights</th>\n",
              "      <th>adults</th>\n",
              "      <th>children</th>\n",
              "      <th>babies</th>\n",
              "      <th>meal</th>\n",
              "      <th>country</th>\n",
              "      <th>market_segment</th>\n",
              "      <th>distribution_channel</th>\n",
              "      <th>is_repeated_guest</th>\n",
              "      <th>previous_cancellations</th>\n",
              "      <th>previous_bookings_not_canceled</th>\n",
              "      <th>reserved_room_type</th>\n",
              "      <th>assigned_room_type</th>\n",
              "      <th>booking_changes</th>\n",
              "      <th>deposit_type</th>\n",
              "      <th>agent</th>\n",
              "      <th>company</th>\n",
              "      <th>days_in_waiting_list</th>\n",
              "      <th>customer_type</th>\n",
              "      <th>adr</th>\n",
              "      <th>required_car_parking_spaces</th>\n",
              "      <th>total_of_special_requests</th>\n",
              "      <th>reservation_status</th>\n",
              "      <th>reservation_status_date</th>\n",
              "    </tr>\n",
              "  </thead>\n",
              "  <tbody>\n",
              "    <tr>\n",
              "      <th>0</th>\n",
              "      <td>Resort Hotel</td>\n",
              "      <td>0</td>\n",
              "      <td>342</td>\n",
              "      <td>2015</td>\n",
              "      <td>July</td>\n",
              "      <td>27</td>\n",
              "      <td>1</td>\n",
              "      <td>0</td>\n",
              "      <td>0</td>\n",
              "      <td>2</td>\n",
              "      <td>0.0</td>\n",
              "      <td>0</td>\n",
              "      <td>BB</td>\n",
              "      <td>PRT</td>\n",
              "      <td>Direct</td>\n",
              "      <td>Direct</td>\n",
              "      <td>0</td>\n",
              "      <td>0</td>\n",
              "      <td>0</td>\n",
              "      <td>C</td>\n",
              "      <td>C</td>\n",
              "      <td>3</td>\n",
              "      <td>No Deposit</td>\n",
              "      <td>NaN</td>\n",
              "      <td>NaN</td>\n",
              "      <td>0</td>\n",
              "      <td>Transient</td>\n",
              "      <td>0.0</td>\n",
              "      <td>0</td>\n",
              "      <td>0</td>\n",
              "      <td>Check-Out</td>\n",
              "      <td>2015-07-01</td>\n",
              "    </tr>\n",
              "    <tr>\n",
              "      <th>1</th>\n",
              "      <td>Resort Hotel</td>\n",
              "      <td>0</td>\n",
              "      <td>737</td>\n",
              "      <td>2015</td>\n",
              "      <td>July</td>\n",
              "      <td>27</td>\n",
              "      <td>1</td>\n",
              "      <td>0</td>\n",
              "      <td>0</td>\n",
              "      <td>2</td>\n",
              "      <td>0.0</td>\n",
              "      <td>0</td>\n",
              "      <td>BB</td>\n",
              "      <td>PRT</td>\n",
              "      <td>Direct</td>\n",
              "      <td>Direct</td>\n",
              "      <td>0</td>\n",
              "      <td>0</td>\n",
              "      <td>0</td>\n",
              "      <td>C</td>\n",
              "      <td>C</td>\n",
              "      <td>4</td>\n",
              "      <td>No Deposit</td>\n",
              "      <td>NaN</td>\n",
              "      <td>NaN</td>\n",
              "      <td>0</td>\n",
              "      <td>Transient</td>\n",
              "      <td>0.0</td>\n",
              "      <td>0</td>\n",
              "      <td>0</td>\n",
              "      <td>Check-Out</td>\n",
              "      <td>2015-07-01</td>\n",
              "    </tr>\n",
              "    <tr>\n",
              "      <th>2</th>\n",
              "      <td>Resort Hotel</td>\n",
              "      <td>0</td>\n",
              "      <td>7</td>\n",
              "      <td>2015</td>\n",
              "      <td>July</td>\n",
              "      <td>27</td>\n",
              "      <td>1</td>\n",
              "      <td>0</td>\n",
              "      <td>1</td>\n",
              "      <td>1</td>\n",
              "      <td>0.0</td>\n",
              "      <td>0</td>\n",
              "      <td>BB</td>\n",
              "      <td>GBR</td>\n",
              "      <td>Direct</td>\n",
              "      <td>Direct</td>\n",
              "      <td>0</td>\n",
              "      <td>0</td>\n",
              "      <td>0</td>\n",
              "      <td>A</td>\n",
              "      <td>C</td>\n",
              "      <td>0</td>\n",
              "      <td>No Deposit</td>\n",
              "      <td>NaN</td>\n",
              "      <td>NaN</td>\n",
              "      <td>0</td>\n",
              "      <td>Transient</td>\n",
              "      <td>75.0</td>\n",
              "      <td>0</td>\n",
              "      <td>0</td>\n",
              "      <td>Check-Out</td>\n",
              "      <td>2015-07-02</td>\n",
              "    </tr>\n",
              "    <tr>\n",
              "      <th>3</th>\n",
              "      <td>Resort Hotel</td>\n",
              "      <td>0</td>\n",
              "      <td>13</td>\n",
              "      <td>2015</td>\n",
              "      <td>July</td>\n",
              "      <td>27</td>\n",
              "      <td>1</td>\n",
              "      <td>0</td>\n",
              "      <td>1</td>\n",
              "      <td>1</td>\n",
              "      <td>0.0</td>\n",
              "      <td>0</td>\n",
              "      <td>BB</td>\n",
              "      <td>GBR</td>\n",
              "      <td>Corporate</td>\n",
              "      <td>Corporate</td>\n",
              "      <td>0</td>\n",
              "      <td>0</td>\n",
              "      <td>0</td>\n",
              "      <td>A</td>\n",
              "      <td>A</td>\n",
              "      <td>0</td>\n",
              "      <td>No Deposit</td>\n",
              "      <td>304.0</td>\n",
              "      <td>NaN</td>\n",
              "      <td>0</td>\n",
              "      <td>Transient</td>\n",
              "      <td>75.0</td>\n",
              "      <td>0</td>\n",
              "      <td>0</td>\n",
              "      <td>Check-Out</td>\n",
              "      <td>2015-07-02</td>\n",
              "    </tr>\n",
              "    <tr>\n",
              "      <th>4</th>\n",
              "      <td>Resort Hotel</td>\n",
              "      <td>0</td>\n",
              "      <td>14</td>\n",
              "      <td>2015</td>\n",
              "      <td>July</td>\n",
              "      <td>27</td>\n",
              "      <td>1</td>\n",
              "      <td>0</td>\n",
              "      <td>2</td>\n",
              "      <td>2</td>\n",
              "      <td>0.0</td>\n",
              "      <td>0</td>\n",
              "      <td>BB</td>\n",
              "      <td>GBR</td>\n",
              "      <td>Online TA</td>\n",
              "      <td>TA/TO</td>\n",
              "      <td>0</td>\n",
              "      <td>0</td>\n",
              "      <td>0</td>\n",
              "      <td>A</td>\n",
              "      <td>A</td>\n",
              "      <td>0</td>\n",
              "      <td>No Deposit</td>\n",
              "      <td>240.0</td>\n",
              "      <td>NaN</td>\n",
              "      <td>0</td>\n",
              "      <td>Transient</td>\n",
              "      <td>98.0</td>\n",
              "      <td>0</td>\n",
              "      <td>1</td>\n",
              "      <td>Check-Out</td>\n",
              "      <td>2015-07-03</td>\n",
              "    </tr>\n",
              "  </tbody>\n",
              "</table>\n",
              "</div>"
            ],
            "text/plain": [
              "          hotel  is_canceled  ...  reservation_status  reservation_status_date\n",
              "0  Resort Hotel            0  ...           Check-Out               2015-07-01\n",
              "1  Resort Hotel            0  ...           Check-Out               2015-07-01\n",
              "2  Resort Hotel            0  ...           Check-Out               2015-07-02\n",
              "3  Resort Hotel            0  ...           Check-Out               2015-07-02\n",
              "4  Resort Hotel            0  ...           Check-Out               2015-07-03\n",
              "\n",
              "[5 rows x 32 columns]"
            ]
          },
          "metadata": {
            "tags": []
          },
          "execution_count": 5
        }
      ]
    },
    {
      "cell_type": "code",
      "metadata": {
        "id": "SyQywTmJucM8",
        "colab_type": "code",
        "outputId": "4445dca1-2368-4b12-dcc0-b7ba4976d5fd",
        "colab": {
          "base_uri": "https://localhost:8080/",
          "height": 34
        }
      },
      "source": [
        "df.size"
      ],
      "execution_count": 0,
      "outputs": [
        {
          "output_type": "execute_result",
          "data": {
            "text/plain": [
              "3820480"
            ]
          },
          "metadata": {
            "tags": []
          },
          "execution_count": 6
        }
      ]
    },
    {
      "cell_type": "code",
      "metadata": {
        "id": "GRXbtdYSugVX",
        "colab_type": "code",
        "outputId": "c277a60b-823d-4fb1-c3c3-732ea97b2c09",
        "colab": {
          "base_uri": "https://localhost:8080/",
          "height": 34
        }
      },
      "source": [
        "df.shape"
      ],
      "execution_count": 0,
      "outputs": [
        {
          "output_type": "execute_result",
          "data": {
            "text/plain": [
              "(119390, 32)"
            ]
          },
          "metadata": {
            "tags": []
          },
          "execution_count": 7
        }
      ]
    },
    {
      "cell_type": "code",
      "metadata": {
        "id": "weyEMdzIukNy",
        "colab_type": "code",
        "outputId": "4c3f30c8-500a-453b-de9d-b4b5409d16f3",
        "colab": {
          "base_uri": "https://localhost:8080/",
          "height": 68
        }
      },
      "source": [
        "df.hotel.value_counts()"
      ],
      "execution_count": 0,
      "outputs": [
        {
          "output_type": "execute_result",
          "data": {
            "text/plain": [
              "City Hotel      79330\n",
              "Resort Hotel    40060\n",
              "Name: hotel, dtype: int64"
            ]
          },
          "metadata": {
            "tags": []
          },
          "execution_count": 28
        }
      ]
    },
    {
      "cell_type": "code",
      "metadata": {
        "id": "dzna3LGfv2i1",
        "colab_type": "code",
        "outputId": "00e67091-81cc-4acf-e293-7e5e9714b377",
        "colab": {
          "base_uri": "https://localhost:8080/",
          "height": 646
        }
      },
      "source": [
        "df.info()"
      ],
      "execution_count": 0,
      "outputs": [
        {
          "output_type": "stream",
          "text": [
            "<class 'pandas.core.frame.DataFrame'>\n",
            "RangeIndex: 119390 entries, 0 to 119389\n",
            "Data columns (total 32 columns):\n",
            "hotel                             119390 non-null object\n",
            "is_canceled                       119390 non-null int64\n",
            "lead_time                         119390 non-null int64\n",
            "arrival_date_year                 119390 non-null int64\n",
            "arrival_date_month                119390 non-null object\n",
            "arrival_date_week_number          119390 non-null int64\n",
            "arrival_date_day_of_month         119390 non-null int64\n",
            "stays_in_weekend_nights           119390 non-null int64\n",
            "stays_in_week_nights              119390 non-null int64\n",
            "adults                            119390 non-null int64\n",
            "children                          119386 non-null float64\n",
            "babies                            119390 non-null int64\n",
            "meal                              119390 non-null object\n",
            "country                           118902 non-null object\n",
            "market_segment                    119390 non-null object\n",
            "distribution_channel              119390 non-null object\n",
            "is_repeated_guest                 119390 non-null int64\n",
            "previous_cancellations            119390 non-null int64\n",
            "previous_bookings_not_canceled    119390 non-null int64\n",
            "reserved_room_type                119390 non-null object\n",
            "assigned_room_type                119390 non-null object\n",
            "booking_changes                   119390 non-null int64\n",
            "deposit_type                      119390 non-null object\n",
            "agent                             103050 non-null float64\n",
            "company                           6797 non-null float64\n",
            "days_in_waiting_list              119390 non-null int64\n",
            "customer_type                     119390 non-null object\n",
            "adr                               119390 non-null float64\n",
            "required_car_parking_spaces       119390 non-null int64\n",
            "total_of_special_requests         119390 non-null int64\n",
            "reservation_status                119390 non-null object\n",
            "reservation_status_date           119390 non-null object\n",
            "dtypes: float64(4), int64(16), object(12)\n",
            "memory usage: 29.1+ MB\n"
          ],
          "name": "stdout"
        }
      ]
    },
    {
      "cell_type": "code",
      "metadata": {
        "id": "tvhjVgO5v-Rh",
        "colab_type": "code",
        "outputId": "4e5ef5d9-8d8a-4d52-a135-96887b2991bd",
        "colab": {
          "base_uri": "https://localhost:8080/",
          "height": 578
        }
      },
      "source": [
        "df.isna().sum()"
      ],
      "execution_count": 0,
      "outputs": [
        {
          "output_type": "execute_result",
          "data": {
            "text/plain": [
              "hotel                                  0\n",
              "is_canceled                            0\n",
              "lead_time                              0\n",
              "arrival_date_year                      0\n",
              "arrival_date_month                     0\n",
              "arrival_date_week_number               0\n",
              "arrival_date_day_of_month              0\n",
              "stays_in_weekend_nights                0\n",
              "stays_in_week_nights                   0\n",
              "adults                                 0\n",
              "children                               4\n",
              "babies                                 0\n",
              "meal                                   0\n",
              "country                              488\n",
              "market_segment                         0\n",
              "distribution_channel                   0\n",
              "is_repeated_guest                      0\n",
              "previous_cancellations                 0\n",
              "previous_bookings_not_canceled         0\n",
              "reserved_room_type                     0\n",
              "assigned_room_type                     0\n",
              "booking_changes                        0\n",
              "deposit_type                           0\n",
              "agent                              16340\n",
              "company                           112593\n",
              "days_in_waiting_list                   0\n",
              "customer_type                          0\n",
              "adr                                    0\n",
              "required_car_parking_spaces            0\n",
              "total_of_special_requests              0\n",
              "reservation_status                     0\n",
              "reservation_status_date                0\n",
              "dtype: int64"
            ]
          },
          "metadata": {
            "tags": []
          },
          "execution_count": 32
        }
      ]
    },
    {
      "cell_type": "code",
      "metadata": {
        "id": "i56WElcwwTuf",
        "colab_type": "code",
        "colab": {}
      },
      "source": [
        "df=df.drop(labels=['company'],axis=1)"
      ],
      "execution_count": 0,
      "outputs": []
    },
    {
      "cell_type": "code",
      "metadata": {
        "id": "IoDLiDbSwa0b",
        "colab_type": "code",
        "outputId": "cb59a399-9bc8-43a2-9e27-e16601107798",
        "colab": {
          "base_uri": "https://localhost:8080/",
          "height": 34
        }
      },
      "source": [
        "df.shape"
      ],
      "execution_count": 0,
      "outputs": [
        {
          "output_type": "execute_result",
          "data": {
            "text/plain": [
              "(119390, 31)"
            ]
          },
          "metadata": {
            "tags": []
          },
          "execution_count": 35
        }
      ]
    },
    {
      "cell_type": "code",
      "metadata": {
        "id": "odqmWPmxwm3p",
        "colab_type": "code",
        "outputId": "217f3e31-0099-4b12-feeb-2f7ef3ba0267",
        "colab": {
          "base_uri": "https://localhost:8080/",
          "height": 221
        }
      },
      "source": [
        "df.country.value_counts()"
      ],
      "execution_count": 0,
      "outputs": [
        {
          "output_type": "execute_result",
          "data": {
            "text/plain": [
              "PRT    48590\n",
              "GBR    12129\n",
              "FRA    10415\n",
              "ESP     8568\n",
              "DEU     7287\n",
              "       ...  \n",
              "MLI        1\n",
              "LCA        1\n",
              "DJI        1\n",
              "SDN        1\n",
              "BHS        1\n",
              "Name: country, Length: 177, dtype: int64"
            ]
          },
          "metadata": {
            "tags": []
          },
          "execution_count": 36
        }
      ]
    },
    {
      "cell_type": "code",
      "metadata": {
        "id": "SQCmKCaQxqVA",
        "colab_type": "code",
        "outputId": "ee4b82e7-e4ae-4d5f-91ed-821a7d72a4d3",
        "colab": {
          "base_uri": "https://localhost:8080/",
          "height": 221
        }
      },
      "source": [
        "df.agent.value_counts()"
      ],
      "execution_count": 0,
      "outputs": [
        {
          "output_type": "execute_result",
          "data": {
            "text/plain": [
              "9.0      31961\n",
              "240.0    13922\n",
              "1.0       7191\n",
              "14.0      3640\n",
              "7.0       3539\n",
              "         ...  \n",
              "213.0        1\n",
              "433.0        1\n",
              "197.0        1\n",
              "367.0        1\n",
              "337.0        1\n",
              "Name: agent, Length: 333, dtype: int64"
            ]
          },
          "metadata": {
            "tags": []
          },
          "execution_count": 37
        }
      ]
    },
    {
      "cell_type": "code",
      "metadata": {
        "id": "_OYlf9Nox3Lr",
        "colab_type": "code",
        "colab": {}
      },
      "source": [
        "df1=df.fillna(method='ffill')"
      ],
      "execution_count": 0,
      "outputs": []
    },
    {
      "cell_type": "code",
      "metadata": {
        "id": "v_c_gWDByBhv",
        "colab_type": "code",
        "outputId": "75cdc5f7-db7b-496f-e46b-d88947baae99",
        "colab": {
          "base_uri": "https://localhost:8080/",
          "height": 309
        }
      },
      "source": [
        "df1.head()"
      ],
      "execution_count": 0,
      "outputs": [
        {
          "output_type": "execute_result",
          "data": {
            "text/html": [
              "<div>\n",
              "<style scoped>\n",
              "    .dataframe tbody tr th:only-of-type {\n",
              "        vertical-align: middle;\n",
              "    }\n",
              "\n",
              "    .dataframe tbody tr th {\n",
              "        vertical-align: top;\n",
              "    }\n",
              "\n",
              "    .dataframe thead th {\n",
              "        text-align: right;\n",
              "    }\n",
              "</style>\n",
              "<table border=\"1\" class=\"dataframe\">\n",
              "  <thead>\n",
              "    <tr style=\"text-align: right;\">\n",
              "      <th></th>\n",
              "      <th>hotel</th>\n",
              "      <th>is_canceled</th>\n",
              "      <th>lead_time</th>\n",
              "      <th>arrival_date_year</th>\n",
              "      <th>arrival_date_month</th>\n",
              "      <th>arrival_date_week_number</th>\n",
              "      <th>arrival_date_day_of_month</th>\n",
              "      <th>stays_in_weekend_nights</th>\n",
              "      <th>stays_in_week_nights</th>\n",
              "      <th>adults</th>\n",
              "      <th>children</th>\n",
              "      <th>babies</th>\n",
              "      <th>meal</th>\n",
              "      <th>country</th>\n",
              "      <th>market_segment</th>\n",
              "      <th>distribution_channel</th>\n",
              "      <th>is_repeated_guest</th>\n",
              "      <th>previous_cancellations</th>\n",
              "      <th>previous_bookings_not_canceled</th>\n",
              "      <th>reserved_room_type</th>\n",
              "      <th>assigned_room_type</th>\n",
              "      <th>booking_changes</th>\n",
              "      <th>deposit_type</th>\n",
              "      <th>agent</th>\n",
              "      <th>days_in_waiting_list</th>\n",
              "      <th>customer_type</th>\n",
              "      <th>adr</th>\n",
              "      <th>required_car_parking_spaces</th>\n",
              "      <th>total_of_special_requests</th>\n",
              "      <th>reservation_status</th>\n",
              "      <th>reservation_status_date</th>\n",
              "    </tr>\n",
              "  </thead>\n",
              "  <tbody>\n",
              "    <tr>\n",
              "      <th>0</th>\n",
              "      <td>Resort Hotel</td>\n",
              "      <td>0</td>\n",
              "      <td>342</td>\n",
              "      <td>2015</td>\n",
              "      <td>July</td>\n",
              "      <td>27</td>\n",
              "      <td>1</td>\n",
              "      <td>0</td>\n",
              "      <td>0</td>\n",
              "      <td>2</td>\n",
              "      <td>0.0</td>\n",
              "      <td>0</td>\n",
              "      <td>BB</td>\n",
              "      <td>PRT</td>\n",
              "      <td>Direct</td>\n",
              "      <td>Direct</td>\n",
              "      <td>0</td>\n",
              "      <td>0</td>\n",
              "      <td>0</td>\n",
              "      <td>C</td>\n",
              "      <td>C</td>\n",
              "      <td>3</td>\n",
              "      <td>No Deposit</td>\n",
              "      <td>NaN</td>\n",
              "      <td>0</td>\n",
              "      <td>Transient</td>\n",
              "      <td>0.0</td>\n",
              "      <td>0</td>\n",
              "      <td>0</td>\n",
              "      <td>Check-Out</td>\n",
              "      <td>2015-07-01</td>\n",
              "    </tr>\n",
              "    <tr>\n",
              "      <th>1</th>\n",
              "      <td>Resort Hotel</td>\n",
              "      <td>0</td>\n",
              "      <td>737</td>\n",
              "      <td>2015</td>\n",
              "      <td>July</td>\n",
              "      <td>27</td>\n",
              "      <td>1</td>\n",
              "      <td>0</td>\n",
              "      <td>0</td>\n",
              "      <td>2</td>\n",
              "      <td>0.0</td>\n",
              "      <td>0</td>\n",
              "      <td>BB</td>\n",
              "      <td>PRT</td>\n",
              "      <td>Direct</td>\n",
              "      <td>Direct</td>\n",
              "      <td>0</td>\n",
              "      <td>0</td>\n",
              "      <td>0</td>\n",
              "      <td>C</td>\n",
              "      <td>C</td>\n",
              "      <td>4</td>\n",
              "      <td>No Deposit</td>\n",
              "      <td>NaN</td>\n",
              "      <td>0</td>\n",
              "      <td>Transient</td>\n",
              "      <td>0.0</td>\n",
              "      <td>0</td>\n",
              "      <td>0</td>\n",
              "      <td>Check-Out</td>\n",
              "      <td>2015-07-01</td>\n",
              "    </tr>\n",
              "    <tr>\n",
              "      <th>2</th>\n",
              "      <td>Resort Hotel</td>\n",
              "      <td>0</td>\n",
              "      <td>7</td>\n",
              "      <td>2015</td>\n",
              "      <td>July</td>\n",
              "      <td>27</td>\n",
              "      <td>1</td>\n",
              "      <td>0</td>\n",
              "      <td>1</td>\n",
              "      <td>1</td>\n",
              "      <td>0.0</td>\n",
              "      <td>0</td>\n",
              "      <td>BB</td>\n",
              "      <td>GBR</td>\n",
              "      <td>Direct</td>\n",
              "      <td>Direct</td>\n",
              "      <td>0</td>\n",
              "      <td>0</td>\n",
              "      <td>0</td>\n",
              "      <td>A</td>\n",
              "      <td>C</td>\n",
              "      <td>0</td>\n",
              "      <td>No Deposit</td>\n",
              "      <td>NaN</td>\n",
              "      <td>0</td>\n",
              "      <td>Transient</td>\n",
              "      <td>75.0</td>\n",
              "      <td>0</td>\n",
              "      <td>0</td>\n",
              "      <td>Check-Out</td>\n",
              "      <td>2015-07-02</td>\n",
              "    </tr>\n",
              "    <tr>\n",
              "      <th>3</th>\n",
              "      <td>Resort Hotel</td>\n",
              "      <td>0</td>\n",
              "      <td>13</td>\n",
              "      <td>2015</td>\n",
              "      <td>July</td>\n",
              "      <td>27</td>\n",
              "      <td>1</td>\n",
              "      <td>0</td>\n",
              "      <td>1</td>\n",
              "      <td>1</td>\n",
              "      <td>0.0</td>\n",
              "      <td>0</td>\n",
              "      <td>BB</td>\n",
              "      <td>GBR</td>\n",
              "      <td>Corporate</td>\n",
              "      <td>Corporate</td>\n",
              "      <td>0</td>\n",
              "      <td>0</td>\n",
              "      <td>0</td>\n",
              "      <td>A</td>\n",
              "      <td>A</td>\n",
              "      <td>0</td>\n",
              "      <td>No Deposit</td>\n",
              "      <td>304.0</td>\n",
              "      <td>0</td>\n",
              "      <td>Transient</td>\n",
              "      <td>75.0</td>\n",
              "      <td>0</td>\n",
              "      <td>0</td>\n",
              "      <td>Check-Out</td>\n",
              "      <td>2015-07-02</td>\n",
              "    </tr>\n",
              "    <tr>\n",
              "      <th>4</th>\n",
              "      <td>Resort Hotel</td>\n",
              "      <td>0</td>\n",
              "      <td>14</td>\n",
              "      <td>2015</td>\n",
              "      <td>July</td>\n",
              "      <td>27</td>\n",
              "      <td>1</td>\n",
              "      <td>0</td>\n",
              "      <td>2</td>\n",
              "      <td>2</td>\n",
              "      <td>0.0</td>\n",
              "      <td>0</td>\n",
              "      <td>BB</td>\n",
              "      <td>GBR</td>\n",
              "      <td>Online TA</td>\n",
              "      <td>TA/TO</td>\n",
              "      <td>0</td>\n",
              "      <td>0</td>\n",
              "      <td>0</td>\n",
              "      <td>A</td>\n",
              "      <td>A</td>\n",
              "      <td>0</td>\n",
              "      <td>No Deposit</td>\n",
              "      <td>240.0</td>\n",
              "      <td>0</td>\n",
              "      <td>Transient</td>\n",
              "      <td>98.0</td>\n",
              "      <td>0</td>\n",
              "      <td>1</td>\n",
              "      <td>Check-Out</td>\n",
              "      <td>2015-07-03</td>\n",
              "    </tr>\n",
              "  </tbody>\n",
              "</table>\n",
              "</div>"
            ],
            "text/plain": [
              "          hotel  is_canceled  ...  reservation_status  reservation_status_date\n",
              "0  Resort Hotel            0  ...           Check-Out               2015-07-01\n",
              "1  Resort Hotel            0  ...           Check-Out               2015-07-01\n",
              "2  Resort Hotel            0  ...           Check-Out               2015-07-02\n",
              "3  Resort Hotel            0  ...           Check-Out               2015-07-02\n",
              "4  Resort Hotel            0  ...           Check-Out               2015-07-03\n",
              "\n",
              "[5 rows x 31 columns]"
            ]
          },
          "metadata": {
            "tags": []
          },
          "execution_count": 40
        }
      ]
    },
    {
      "cell_type": "code",
      "metadata": {
        "id": "6ITrMbB35V2J",
        "colab_type": "code",
        "outputId": "638863f7-d6d9-4353-fd7b-ef784aaaaef7",
        "colab": {
          "base_uri": "https://localhost:8080/",
          "height": 119
        }
      },
      "source": [
        "df1.meal.value_counts()"
      ],
      "execution_count": 0,
      "outputs": [
        {
          "output_type": "execute_result",
          "data": {
            "text/plain": [
              "BB           92310\n",
              "HB           14463\n",
              "SC           10650\n",
              "Undefined     1169\n",
              "FB             798\n",
              "Name: meal, dtype: int64"
            ]
          },
          "metadata": {
            "tags": []
          },
          "execution_count": 63
        }
      ]
    },
    {
      "cell_type": "code",
      "metadata": {
        "id": "4yxRyktByGSz",
        "colab_type": "code",
        "outputId": "362fc11d-3f9b-4e77-ab3a-aa42f77d8e34",
        "colab": {
          "base_uri": "https://localhost:8080/",
          "height": 34
        }
      },
      "source": [
        "df1.size"
      ],
      "execution_count": 0,
      "outputs": [
        {
          "output_type": "execute_result",
          "data": {
            "text/plain": [
              "3701090"
            ]
          },
          "metadata": {
            "tags": []
          },
          "execution_count": 41
        }
      ]
    },
    {
      "cell_type": "code",
      "metadata": {
        "id": "_hDUcnG_yJp6",
        "colab_type": "code",
        "outputId": "ca8cc00c-ce64-459d-d4a6-e6127966ad16",
        "colab": {
          "base_uri": "https://localhost:8080/",
          "height": 34
        }
      },
      "source": [
        "df1.shape"
      ],
      "execution_count": 0,
      "outputs": [
        {
          "output_type": "execute_result",
          "data": {
            "text/plain": [
              "(119390, 31)"
            ]
          },
          "metadata": {
            "tags": []
          },
          "execution_count": 42
        }
      ]
    },
    {
      "cell_type": "code",
      "metadata": {
        "id": "CoJKlfOm0_8T",
        "colab_type": "code",
        "outputId": "9425b5a1-9f20-4b2a-9056-353fd894fc25",
        "colab": {
          "base_uri": "https://localhost:8080/",
          "height": 238
        }
      },
      "source": [
        "df.arrival_date_month.value_counts()"
      ],
      "execution_count": 0,
      "outputs": [
        {
          "output_type": "execute_result",
          "data": {
            "text/plain": [
              "August       13877\n",
              "July         12661\n",
              "May          11791\n",
              "October      11160\n",
              "April        11089\n",
              "June         10939\n",
              "September    10508\n",
              "March         9794\n",
              "February      8068\n",
              "November      6794\n",
              "December      6780\n",
              "January       5929\n",
              "Name: arrival_date_month, dtype: int64"
            ]
          },
          "metadata": {
            "tags": []
          },
          "execution_count": 53
        }
      ]
    },
    {
      "cell_type": "code",
      "metadata": {
        "id": "3dG-3eltyNgn",
        "colab_type": "code",
        "outputId": "0dfb57b1-a165-42a0-803f-9445a6adadb7",
        "colab": {
          "base_uri": "https://localhost:8080/",
          "height": 629
        }
      },
      "source": [
        "df1.info()"
      ],
      "execution_count": 0,
      "outputs": [
        {
          "output_type": "stream",
          "text": [
            "<class 'pandas.core.frame.DataFrame'>\n",
            "RangeIndex: 119390 entries, 0 to 119389\n",
            "Data columns (total 31 columns):\n",
            "hotel                             119390 non-null object\n",
            "is_canceled                       119390 non-null int64\n",
            "lead_time                         119390 non-null int64\n",
            "arrival_date_year                 119390 non-null int64\n",
            "arrival_date_month                119390 non-null object\n",
            "arrival_date_week_number          119390 non-null int64\n",
            "arrival_date_day_of_month         119390 non-null int64\n",
            "stays_in_weekend_nights           119390 non-null int64\n",
            "stays_in_week_nights              119390 non-null int64\n",
            "adults                            119390 non-null int64\n",
            "children                          119390 non-null float64\n",
            "babies                            119390 non-null int64\n",
            "meal                              119390 non-null object\n",
            "country                           119390 non-null object\n",
            "market_segment                    119390 non-null object\n",
            "distribution_channel              119390 non-null object\n",
            "is_repeated_guest                 119390 non-null int64\n",
            "previous_cancellations            119390 non-null int64\n",
            "previous_bookings_not_canceled    119390 non-null int64\n",
            "reserved_room_type                119390 non-null object\n",
            "assigned_room_type                119390 non-null object\n",
            "booking_changes                   119390 non-null int64\n",
            "deposit_type                      119390 non-null object\n",
            "agent                             119387 non-null float64\n",
            "days_in_waiting_list              119390 non-null int64\n",
            "customer_type                     119390 non-null object\n",
            "adr                               119390 non-null float64\n",
            "required_car_parking_spaces       119390 non-null int64\n",
            "total_of_special_requests         119390 non-null int64\n",
            "reservation_status                119390 non-null object\n",
            "reservation_status_date           119390 non-null object\n",
            "dtypes: float64(3), int64(16), object(12)\n",
            "memory usage: 28.2+ MB\n"
          ],
          "name": "stdout"
        }
      ]
    },
    {
      "cell_type": "code",
      "metadata": {
        "id": "uMSO92FyyNch",
        "colab_type": "code",
        "colab": {}
      },
      "source": [
        "import matplotlib.pyplot as plt\n",
        "import seaborn as sns"
      ],
      "execution_count": 0,
      "outputs": []
    },
    {
      "cell_type": "code",
      "metadata": {
        "id": "88Gb-DhCyNae",
        "colab_type": "code",
        "outputId": "4483143b-588f-4546-8af4-bca6a9539371",
        "colab": {
          "base_uri": "https://localhost:8080/",
          "height": 312
        }
      },
      "source": [
        "sns.countplot(data=df1,x='hotel',hue='is_canceled',palette=('orange','green'))\n",
        "plt.title('hotel booking cancel')\n",
        "plt.show"
      ],
      "execution_count": 0,
      "outputs": [
        {
          "output_type": "execute_result",
          "data": {
            "text/plain": [
              "<function matplotlib.pyplot.show>"
            ]
          },
          "metadata": {
            "tags": []
          },
          "execution_count": 48
        },
        {
          "output_type": "display_data",
          "data": {
            "image/png": "[encoded data removed]",
            "text/plain": [
              "<Figure size 432x288 with 1 Axes>"
            ]
          },
          "metadata": {
            "tags": []
          }
        }
      ]
    },
    {
      "cell_type": "code",
      "metadata": {
        "id": "2h2RhZkzyNXq",
        "colab_type": "code",
        "outputId": "1d745a8b-328b-4e46-bd5e-c0b5a95fb8db",
        "colab": {
          "base_uri": "https://localhost:8080/",
          "height": 313
        }
      },
      "source": [
        "sns.countplot(data=df1,x='stays_in_weekend_nights',hue='hotel',palette=('orange','green'))\n",
        "plt.title('hotel booking cancel')\n",
        "plt.show"
      ],
      "execution_count": 0,
      "outputs": [
        {
          "output_type": "execute_result",
          "data": {
            "text/plain": [
              "<function matplotlib.pyplot.show>"
            ]
          },
          "metadata": {
            "tags": []
          },
          "execution_count": 51
        },
        {
          "output_type": "display_data",
          "data": {
            "image/png": "[encoded data removed]",
            "text/plain": [
              "<Figure size 432x288 with 1 Axes>"
            ]
          },
          "metadata": {
            "tags": []
          }
        }
      ]
    },
    {
      "cell_type": "code",
      "metadata": {
        "id": "i0PrYKnkyNVL",
        "colab_type": "code",
        "outputId": "3344e16a-adf7-46a5-b208-3b826504a708",
        "colab": {
          "base_uri": "https://localhost:8080/",
          "height": 639
        }
      },
      "source": [
        "plt.figure(1,figsize=(15,10))\n",
        "plt.title(\"frequency\")\n",
        "sns.countplot(x=\"arrival_date_month\",order=df1['arrival_date_month'].value_counts().index[0:10],data=df1,palette='Accent')"
      ],
      "execution_count": 0,
      "outputs": [
        {
          "output_type": "execute_result",
          "data": {
            "text/plain": [
              "<matplotlib.axes._subplots.AxesSubplot at 0x7fe9f5ee8da0>"
            ]
          },
          "metadata": {
            "tags": []
          },
          "execution_count": 54
        },
        {
          "output_type": "display_data",
          "data": {
            "image/png": "[encoded data removed]",
            "text/plain": [
              "<Figure size 1080x720 with 1 Axes>"
            ]
          },
          "metadata": {
            "tags": []
          }
        }
      ]
    },
    {
      "cell_type": "code",
      "metadata": {
        "id": "NBiDusp_yNMB",
        "colab_type": "code",
        "outputId": "92d65fdc-38e4-4ae0-8816-5dbb03e3b3db",
        "colab": {
          "base_uri": "https://localhost:8080/",
          "height": 639
        }
      },
      "source": [
        "plt.figure(1,figsize=(15,10))\n",
        "plt.title('frequency')\n",
        "sns.countplot(x='arrival_date_year',order=df1['arrival_date_year'].value_counts().index[0:5],data=df1,palette='Accent')"
      ],
      "execution_count": 0,
      "outputs": [
        {
          "output_type": "execute_result",
          "data": {
            "text/plain": [
              "<matplotlib.axes._subplots.AxesSubplot at 0x7fe9f5978f28>"
            ]
          },
          "metadata": {
            "tags": []
          },
          "execution_count": 59
        },
        {
          "output_type": "display_data",
          "data": {
            "image/png": "[encoded data removed]",
            "text/plain": [
              "<Figure size 1080x720 with 1 Axes>"
            ]
          },
          "metadata": {
            "tags": []
          }
        }
      ]
    },
    {
      "cell_type": "code",
      "metadata": {
        "id": "VCOyBsRk3oue",
        "colab_type": "code",
        "outputId": "b5822aaf-064f-4370-f76c-ee4ee59feb82",
        "colab": {
          "base_uri": "https://localhost:8080/",
          "height": 639
        }
      },
      "source": [
        "plt.figure(1,figsize=(15,10))\n",
        "plt.title('frequency')\n",
        "sns.countplot(x='arrival_date_week_number',order=df1['arrival_date_week_number'].value_counts().index[0:10],data=df1,palette='Accent')"
      ],
      "execution_count": 0,
      "outputs": [
        {
          "output_type": "execute_result",
          "data": {
            "text/plain": [
              "<matplotlib.axes._subplots.AxesSubplot at 0x7fe9f5a6c128>"
            ]
          },
          "metadata": {
            "tags": []
          },
          "execution_count": 60
        },
        {
          "output_type": "display_data",
          "data": {
            "image/png": "[encoded data removed]",
            "text/plain": [
              "<Figure size 1080x720 with 1 Axes>"
            ]
          },
          "metadata": {
            "tags": []
          }
        }
      ]
    },
    {
      "cell_type": "code",
      "metadata": {
        "id": "72suZN074bl6",
        "colab_type": "code",
        "outputId": "4285feca-0f5c-44aa-b3a5-2828dde59e8a",
        "colab": {
          "base_uri": "https://localhost:8080/",
          "height": 350
        }
      },
      "source": [
        "sns.countplot(data=df1,x='stays_in_week_nights',hue='hotel',palette=('orange','green'))\n",
        "plt.title('hotel booking cancel')\n",
        "plt.show\n",
        "plt.xticks(rotation=90)"
      ],
      "execution_count": 0,
      "outputs": [
        {
          "output_type": "execute_result",
          "data": {
            "text/plain": [
              "(array([ 0,  1,  2,  3,  4,  5,  6,  7,  8,  9, 10, 11, 12, 13, 14, 15, 16,\n",
              "        17, 18, 19, 20, 21, 22, 23, 24, 25, 26, 27, 28, 29, 30, 31, 32, 33,\n",
              "        34]), <a list of 35 Text xticklabel objects>)"
            ]
          },
          "metadata": {
            "tags": []
          },
          "execution_count": 62
        },
        {
          "output_type": "display_data",
          "data": {
            "image/png": "[encoded data removed]",
            "text/plain": [
              "<Figure size 432x288 with 1 Axes>"
            ]
          },
          "metadata": {
            "tags": []
          }
        }
      ]
    },
    {
      "cell_type": "code",
      "metadata": {
        "id": "Pkj1BdBb5h1E",
        "colab_type": "code",
        "outputId": "cec8aa69-7143-4509-9998-f0cdfc028430",
        "colab": {
          "base_uri": "https://localhost:8080/",
          "height": 295
        }
      },
      "source": [
        "data1=df1[df1.hotel=='Resort Hotel']\n",
        "sns.countplot(x='meal',data=data1)\n",
        "plt.title('meal distribution')\n",
        "plt.show()"
      ],
      "execution_count": 0,
      "outputs": [
        {
          "output_type": "display_data",
          "data": {
            "image/png": "[encoded data removed]",
            "text/plain": [
              "<Figure size 432x288 with 1 Axes>"
            ]
          },
          "metadata": {
            "tags": []
          }
        }
      ]
    },
    {
      "cell_type": "code",
      "metadata": {
        "id": "pxouiE3C6Nt6",
        "colab_type": "code",
        "outputId": "1cebd840-264d-4d8e-8a64-e1e8aeeab2b0",
        "colab": {
          "base_uri": "https://localhost:8080/",
          "height": 295
        }
      },
      "source": [
        "data1=df1[df1.hotel=='City Hotel']\n",
        "sns.countplot(x='meal',data=data1)\n",
        "plt.title('meal distribution')\n",
        "plt.show()"
      ],
      "execution_count": 0,
      "outputs": [
        {
          "output_type": "display_data",
          "data": {
            "image/png": "[encoded data removed]",
            "text/plain": [
              "<Figure size 432x288 with 1 Axes>"
            ]
          },
          "metadata": {
            "tags": []
          }
        }
      ]
    },
    {
      "cell_type": "code",
      "metadata": {
        "id": "fPsYTUo868Dq",
        "colab_type": "code",
        "outputId": "62452b9c-893d-4635-8cbf-40b12c4dfc1d",
        "colab": {
          "base_uri": "https://localhost:8080/",
          "height": 383
        }
      },
      "source": [
        "data1=df1[df1.hotel=='City Hotel']\n",
        "sns.countplot(x='market_segment',data=data1)\n",
        "plt.title('hotel segment')\n",
        "plt.show\n",
        "plt.xticks(rotation=90)"
      ],
      "execution_count": 0,
      "outputs": [
        {
          "output_type": "execute_result",
          "data": {
            "text/plain": [
              "(array([0, 1, 2, 3, 4, 5, 6, 7]), <a list of 8 Text xticklabel objects>)"
            ]
          },
          "metadata": {
            "tags": []
          },
          "execution_count": 68
        },
        {
          "output_type": "display_data",
          "data": {
            "image/png": "[encoded data removed]",
            "text/plain": [
              "<Figure size 432x288 with 1 Axes>"
            ]
          },
          "metadata": {
            "tags": []
          }
        }
      ]
    },
    {
      "cell_type": "code",
      "metadata": {
        "id": "Hx6Lhk8i7p1w",
        "colab_type": "code",
        "outputId": "6da7cb96-0e01-4ddc-faae-02311e415f8a",
        "colab": {
          "base_uri": "https://localhost:8080/",
          "height": 383
        }
      },
      "source": [
        "data1=df1[df1.hotel=='Resort Hotel']\n",
        "sns.countplot(x='market_segment',data=data1)\n",
        "plt.title('hotel segment')\n",
        "plt.show\n",
        "plt.xticks(rotation=90)"
      ],
      "execution_count": 0,
      "outputs": [
        {
          "output_type": "execute_result",
          "data": {
            "text/plain": [
              "(array([0, 1, 2, 3, 4, 5]), <a list of 6 Text xticklabel objects>)"
            ]
          },
          "metadata": {
            "tags": []
          },
          "execution_count": 69
        },
        {
          "output_type": "display_data",
          "data": {
            "image/png": "[encoded data removed]",
            "text/plain": [
              "<Figure size 432x288 with 1 Axes>"
            ]
          },
          "metadata": {
            "tags": []
          }
        }
      ]
    },
    {
      "cell_type": "code",
      "metadata": {
        "id": "gfPHWc2w8DpY",
        "colab_type": "code",
        "outputId": "9c9e880f-5048-4e2f-e36e-1510b6b042ba",
        "colab": {
          "base_uri": "https://localhost:8080/",
          "height": 355
        }
      },
      "source": [
        "data1=df1[df1.hotel=='Resort Hotel']\n",
        "sns.countplot(x='distribution_channel',data=data1)\n",
        "plt.title('hotel channel')\n",
        "plt.show\n",
        "plt.xticks(rotation=90)"
      ],
      "execution_count": 0,
      "outputs": [
        {
          "output_type": "execute_result",
          "data": {
            "text/plain": [
              "(array([0, 1, 2, 3]), <a list of 4 Text xticklabel objects>)"
            ]
          },
          "metadata": {
            "tags": []
          },
          "execution_count": 70
        },
        {
          "output_type": "display_data",
          "data": {
            "image/png": "[encoded data removed]",
            "text/plain": [
              "<Figure size 432x288 with 1 Axes>"
            ]
          },
          "metadata": {
            "tags": []
          }
        }
      ]
    },
    {
      "cell_type": "code",
      "metadata": {
        "id": "ZtgdWOY78BQU",
        "colab_type": "code",
        "outputId": "7cd390f0-bea3-4a97-c6fb-99813852831d",
        "colab": {
          "base_uri": "https://localhost:8080/",
          "height": 355
        }
      },
      "source": [
        "data1=df1[df1.hotel=='City Hotel']\n",
        "sns.countplot(x='distribution_channel',data=data1)\n",
        "plt.title('hotel channel')\n",
        "plt.show\n",
        "plt.xticks(rotation=90)"
      ],
      "execution_count": 0,
      "outputs": [
        {
          "output_type": "execute_result",
          "data": {
            "text/plain": [
              "(array([0, 1, 2, 3, 4]), <a list of 5 Text xticklabel objects>)"
            ]
          },
          "metadata": {
            "tags": []
          },
          "execution_count": 71
        },
        {
          "output_type": "display_data",
          "data": {
            "image/png": "[encoded data removed]",
            "text/plain": [
              "<Figure size 432x288 with 1 Axes>"
            ]
          },
          "metadata": {
            "tags": []
          }
        }
      ]
    },
    {
      "cell_type": "code",
      "metadata": {
        "id": "puTiJAys8jCb",
        "colab_type": "code",
        "outputId": "dae61251-053f-45fb-8118-5add0ac489c0",
        "colab": {
          "base_uri": "https://localhost:8080/",
          "height": 310
        }
      },
      "source": [
        "data1=df1[df1.hotel=='City Hotel']\n",
        "sns.countplot(x='is_repeated_guest',data=data1)\n",
        "plt.title('hotel channel')\n",
        "plt.show\n",
        "plt.xticks(rotation=90)"
      ],
      "execution_count": 0,
      "outputs": [
        {
          "output_type": "execute_result",
          "data": {
            "text/plain": [
              "(array([0, 1]), <a list of 2 Text xticklabel objects>)"
            ]
          },
          "metadata": {
            "tags": []
          },
          "execution_count": 72
        },
        {
          "output_type": "display_data",
          "data": {
            "image/png": "[encoded data removed]",
            "text/plain": [
              "<Figure size 432x288 with 1 Axes>"
            ]
          },
          "metadata": {
            "tags": []
          }
        }
      ]
    },
    {
      "cell_type": "code",
      "metadata": {
        "id": "kzea6j2t9Mtl",
        "colab_type": "code",
        "outputId": "c3eff253-e635-4f1d-d1c0-e9d7dbada4f7",
        "colab": {
          "base_uri": "https://localhost:8080/",
          "height": 310
        }
      },
      "source": [
        "data1=df1[df1.hotel=='Resort Hotel']\n",
        "sns.countplot(x='is_repeated_guest',data=data1)\n",
        "plt.title('hotel channel')\n",
        "plt.show\n",
        "plt.xticks(rotation=90)"
      ],
      "execution_count": 0,
      "outputs": [
        {
          "output_type": "execute_result",
          "data": {
            "text/plain": [
              "(array([0, 1]), <a list of 2 Text xticklabel objects>)"
            ]
          },
          "metadata": {
            "tags": []
          },
          "execution_count": 73
        },
        {
          "output_type": "display_data",
          "data": {
            "image/png": "[encoded data removed]",
            "text/plain": [
              "<Figure size 432x288 with 1 Axes>"
            ]
          },
          "metadata": {
            "tags": []
          }
        }
      ]
    },
    {
      "cell_type": "code",
      "metadata": {
        "id": "Xaf-7WuD-zY0",
        "colab_type": "code",
        "colab": {}
      },
      "source": [
        "required_car_parking_spaces"
      ],
      "execution_count": 0,
      "outputs": []
    },
    {
      "cell_type": "code",
      "metadata": {
        "id": "EMjxNodT-1VZ",
        "colab_type": "code",
        "outputId": "5d2ff844-86f6-46ad-e354-26842ecaaa6f",
        "colab": {
          "base_uri": "https://localhost:8080/",
          "height": 310
        }
      },
      "source": [
        "data1=df1[df1.hotel=='Resort Hotel']\n",
        "sns.countplot(x='required_car_parking_spaces',data=data1)\n",
        "plt.title('hotel channel')\n",
        "plt.show\n",
        "plt.xticks(rotation=90)"
      ],
      "execution_count": 0,
      "outputs": [
        {
          "output_type": "execute_result",
          "data": {
            "text/plain": [
              "(array([0, 1, 2, 3, 4]), <a list of 5 Text xticklabel objects>)"
            ]
          },
          "metadata": {
            "tags": []
          },
          "execution_count": 74
        },
        {
          "output_type": "display_data",
          "data": {
            "image/png": "[encoded data removed]",
            "text/plain": [
              "<Figure size 432x288 with 1 Axes>"
            ]
          },
          "metadata": {
            "tags": []
          }
        }
      ]
    },
    {
      "cell_type": "code",
      "metadata": {
        "id": "fKPgGH2A-_Ao",
        "colab_type": "code",
        "outputId": "596d9df4-7c41-4282-83f0-7e3e5a2d9166",
        "colab": {
          "base_uri": "https://localhost:8080/",
          "height": 310
        }
      },
      "source": [
        "data1=df1[df1.hotel=='City Hotel']\n",
        "sns.countplot(x='required_car_parking_spaces',data=data1)\n",
        "plt.title('hotel channel')\n",
        "plt.show\n",
        "plt.xticks(rotation=90)"
      ],
      "execution_count": 0,
      "outputs": [
        {
          "output_type": "execute_result",
          "data": {
            "text/plain": [
              "(array([0, 1, 2, 3]), <a list of 4 Text xticklabel objects>)"
            ]
          },
          "metadata": {
            "tags": []
          },
          "execution_count": 75
        },
        {
          "output_type": "display_data",
          "data": {
            "image/png": "[encoded data removed]",
            "text/plain": [
              "<Figure size 432x288 with 1 Axes>"
            ]
          },
          "metadata": {
            "tags": []
          }
        }
      ]
    },
    {
      "cell_type": "code",
      "metadata": {
        "id": "ZkAiNlBd_eIG",
        "colab_type": "code",
        "colab": {}
      },
      "source": [
        "from sklearn.preprocessing import LabelEncoder"
      ],
      "execution_count": 0,
      "outputs": []
    },
    {
      "cell_type": "code",
      "metadata": {
        "id": "_TkvUWM__mOc",
        "colab_type": "code",
        "colab": {}
      },
      "source": [
        "df_new=df1.select_dtypes(exclude=['int64','float64'])\n",
        "df_new1=df1.select_dtypes(include=['int64','float64'])"
      ],
      "execution_count": 0,
      "outputs": []
    },
    {
      "cell_type": "code",
      "metadata": {
        "id": "ZoWs-o5kALfc",
        "colab_type": "code",
        "colab": {}
      },
      "source": [
        "df_encode=df_new.apply(LabelEncoder().fit_transform)"
      ],
      "execution_count": 0,
      "outputs": []
    },
    {
      "cell_type": "code",
      "metadata": {
        "id": "picArzA_Ai2I",
        "colab_type": "code",
        "colab": {}
      },
      "source": [
        "df1=df_new1.join(df_encode)"
      ],
      "execution_count": 0,
      "outputs": []
    },
    {
      "cell_type": "code",
      "metadata": {
        "id": "axBHYrvPArSv",
        "colab_type": "code",
        "outputId": "0e7d3a3a-cd2f-4a9a-e55c-c9516564a2b4",
        "colab": {
          "base_uri": "https://localhost:8080/",
          "height": 224
        }
      },
      "source": [
        "df1.head()"
      ],
      "execution_count": 0,
      "outputs": [
        {
          "output_type": "execute_result",
          "data": {
            "text/html": [
              "<div>\n",
              "<style scoped>\n",
              "    .dataframe tbody tr th:only-of-type {\n",
              "        vertical-align: middle;\n",
              "    }\n",
              "\n",
              "    .dataframe tbody tr th {\n",
              "        vertical-align: top;\n",
              "    }\n",
              "\n",
              "    .dataframe thead th {\n",
              "        text-align: right;\n",
              "    }\n",
              "</style>\n",
              "<table border=\"1\" class=\"dataframe\">\n",
              "  <thead>\n",
              "    <tr style=\"text-align: right;\">\n",
              "      <th></th>\n",
              "      <th>is_canceled</th>\n",
              "      <th>lead_time</th>\n",
              "      <th>arrival_date_year</th>\n",
              "      <th>arrival_date_week_number</th>\n",
              "      <th>arrival_date_day_of_month</th>\n",
              "      <th>stays_in_weekend_nights</th>\n",
              "      <th>stays_in_week_nights</th>\n",
              "      <th>adults</th>\n",
              "      <th>children</th>\n",
              "      <th>babies</th>\n",
              "      <th>is_repeated_guest</th>\n",
              "      <th>previous_cancellations</th>\n",
              "      <th>previous_bookings_not_canceled</th>\n",
              "      <th>booking_changes</th>\n",
              "      <th>agent</th>\n",
              "      <th>days_in_waiting_list</th>\n",
              "      <th>adr</th>\n",
              "      <th>required_car_parking_spaces</th>\n",
              "      <th>total_of_special_requests</th>\n",
              "      <th>hotel</th>\n",
              "      <th>arrival_date_month</th>\n",
              "      <th>meal</th>\n",
              "      <th>country</th>\n",
              "      <th>market_segment</th>\n",
              "      <th>distribution_channel</th>\n",
              "      <th>reserved_room_type</th>\n",
              "      <th>assigned_room_type</th>\n",
              "      <th>deposit_type</th>\n",
              "      <th>customer_type</th>\n",
              "      <th>reservation_status</th>\n",
              "      <th>reservation_status_date</th>\n",
              "    </tr>\n",
              "  </thead>\n",
              "  <tbody>\n",
              "    <tr>\n",
              "      <th>0</th>\n",
              "      <td>0</td>\n",
              "      <td>342</td>\n",
              "      <td>2015</td>\n",
              "      <td>27</td>\n",
              "      <td>1</td>\n",
              "      <td>0</td>\n",
              "      <td>0</td>\n",
              "      <td>2</td>\n",
              "      <td>0.0</td>\n",
              "      <td>0</td>\n",
              "      <td>0</td>\n",
              "      <td>0</td>\n",
              "      <td>0</td>\n",
              "      <td>3</td>\n",
              "      <td>NaN</td>\n",
              "      <td>0</td>\n",
              "      <td>0.0</td>\n",
              "      <td>0</td>\n",
              "      <td>0</td>\n",
              "      <td>1</td>\n",
              "      <td>5</td>\n",
              "      <td>0</td>\n",
              "      <td>135</td>\n",
              "      <td>3</td>\n",
              "      <td>1</td>\n",
              "      <td>2</td>\n",
              "      <td>2</td>\n",
              "      <td>0</td>\n",
              "      <td>2</td>\n",
              "      <td>1</td>\n",
              "      <td>121</td>\n",
              "    </tr>\n",
              "    <tr>\n",
              "      <th>1</th>\n",
              "      <td>0</td>\n",
              "      <td>737</td>\n",
              "      <td>2015</td>\n",
              "      <td>27</td>\n",
              "      <td>1</td>\n",
              "      <td>0</td>\n",
              "      <td>0</td>\n",
              "      <td>2</td>\n",
              "      <td>0.0</td>\n",
              "      <td>0</td>\n",
              "      <td>0</td>\n",
              "      <td>0</td>\n",
              "      <td>0</td>\n",
              "      <td>4</td>\n",
              "      <td>NaN</td>\n",
              "      <td>0</td>\n",
              "      <td>0.0</td>\n",
              "      <td>0</td>\n",
              "      <td>0</td>\n",
              "      <td>1</td>\n",
              "      <td>5</td>\n",
              "      <td>0</td>\n",
              "      <td>135</td>\n",
              "      <td>3</td>\n",
              "      <td>1</td>\n",
              "      <td>2</td>\n",
              "      <td>2</td>\n",
              "      <td>0</td>\n",
              "      <td>2</td>\n",
              "      <td>1</td>\n",
              "      <td>121</td>\n",
              "    </tr>\n",
              "    <tr>\n",
              "      <th>2</th>\n",
              "      <td>0</td>\n",
              "      <td>7</td>\n",
              "      <td>2015</td>\n",
              "      <td>27</td>\n",
              "      <td>1</td>\n",
              "      <td>0</td>\n",
              "      <td>1</td>\n",
              "      <td>1</td>\n",
              "      <td>0.0</td>\n",
              "      <td>0</td>\n",
              "      <td>0</td>\n",
              "      <td>0</td>\n",
              "      <td>0</td>\n",
              "      <td>0</td>\n",
              "      <td>NaN</td>\n",
              "      <td>0</td>\n",
              "      <td>75.0</td>\n",
              "      <td>0</td>\n",
              "      <td>0</td>\n",
              "      <td>1</td>\n",
              "      <td>5</td>\n",
              "      <td>0</td>\n",
              "      <td>59</td>\n",
              "      <td>3</td>\n",
              "      <td>1</td>\n",
              "      <td>0</td>\n",
              "      <td>2</td>\n",
              "      <td>0</td>\n",
              "      <td>2</td>\n",
              "      <td>1</td>\n",
              "      <td>122</td>\n",
              "    </tr>\n",
              "    <tr>\n",
              "      <th>3</th>\n",
              "      <td>0</td>\n",
              "      <td>13</td>\n",
              "      <td>2015</td>\n",
              "      <td>27</td>\n",
              "      <td>1</td>\n",
              "      <td>0</td>\n",
              "      <td>1</td>\n",
              "      <td>1</td>\n",
              "      <td>0.0</td>\n",
              "      <td>0</td>\n",
              "      <td>0</td>\n",
              "      <td>0</td>\n",
              "      <td>0</td>\n",
              "      <td>0</td>\n",
              "      <td>304.0</td>\n",
              "      <td>0</td>\n",
              "      <td>75.0</td>\n",
              "      <td>0</td>\n",
              "      <td>0</td>\n",
              "      <td>1</td>\n",
              "      <td>5</td>\n",
              "      <td>0</td>\n",
              "      <td>59</td>\n",
              "      <td>2</td>\n",
              "      <td>0</td>\n",
              "      <td>0</td>\n",
              "      <td>0</td>\n",
              "      <td>0</td>\n",
              "      <td>2</td>\n",
              "      <td>1</td>\n",
              "      <td>122</td>\n",
              "    </tr>\n",
              "    <tr>\n",
              "      <th>4</th>\n",
              "      <td>0</td>\n",
              "      <td>14</td>\n",
              "      <td>2015</td>\n",
              "      <td>27</td>\n",
              "      <td>1</td>\n",
              "      <td>0</td>\n",
              "      <td>2</td>\n",
              "      <td>2</td>\n",
              "      <td>0.0</td>\n",
              "      <td>0</td>\n",
              "      <td>0</td>\n",
              "      <td>0</td>\n",
              "      <td>0</td>\n",
              "      <td>0</td>\n",
              "      <td>240.0</td>\n",
              "      <td>0</td>\n",
              "      <td>98.0</td>\n",
              "      <td>0</td>\n",
              "      <td>1</td>\n",
              "      <td>1</td>\n",
              "      <td>5</td>\n",
              "      <td>0</td>\n",
              "      <td>59</td>\n",
              "      <td>6</td>\n",
              "      <td>3</td>\n",
              "      <td>0</td>\n",
              "      <td>0</td>\n",
              "      <td>0</td>\n",
              "      <td>2</td>\n",
              "      <td>1</td>\n",
              "      <td>123</td>\n",
              "    </tr>\n",
              "  </tbody>\n",
              "</table>\n",
              "</div>"
            ],
            "text/plain": [
              "   is_canceled  lead_time  ...  reservation_status  reservation_status_date\n",
              "0            0        342  ...                   1                      121\n",
              "1            0        737  ...                   1                      121\n",
              "2            0          7  ...                   1                      122\n",
              "3            0         13  ...                   1                      122\n",
              "4            0         14  ...                   1                      123\n",
              "\n",
              "[5 rows x 31 columns]"
            ]
          },
          "metadata": {
            "tags": []
          },
          "execution_count": 87
        }
      ]
    },
    {
      "cell_type": "code",
      "metadata": {
        "id": "r8eoZHvwA0jp",
        "colab_type": "code",
        "outputId": "4c8abc25-9b92-4bad-caad-264292666a8a",
        "colab": {
          "base_uri": "https://localhost:8080/",
          "height": 68
        }
      },
      "source": [
        "df1.hotel.value_counts()"
      ],
      "execution_count": 0,
      "outputs": [
        {
          "output_type": "execute_result",
          "data": {
            "text/plain": [
              "0    79330\n",
              "1    40060\n",
              "Name: hotel, dtype: int64"
            ]
          },
          "metadata": {
            "tags": []
          },
          "execution_count": 88
        }
      ]
    },
    {
      "cell_type": "code",
      "metadata": {
        "id": "zGEiBxGM--6y",
        "colab_type": "code",
        "colab": {}
      },
      "source": [
        "corr=df1.corr()"
      ],
      "execution_count": 0,
      "outputs": []
    },
    {
      "cell_type": "code",
      "metadata": {
        "id": "C8SltN0W--5R",
        "colab_type": "code",
        "outputId": "ed871386-cc11-421a-a373-909c1fb22e36",
        "colab": {
          "base_uri": "https://localhost:8080/",
          "height": 1000
        }
      },
      "source": [
        "corr"
      ],
      "execution_count": 0,
      "outputs": [
        {
          "output_type": "execute_result",
          "data": {
            "text/html": [
              "<div>\n",
              "<style scoped>\n",
              "    .dataframe tbody tr th:only-of-type {\n",
              "        vertical-align: middle;\n",
              "    }\n",
              "\n",
              "    .dataframe tbody tr th {\n",
              "        vertical-align: top;\n",
              "    }\n",
              "\n",
              "    .dataframe thead th {\n",
              "        text-align: right;\n",
              "    }\n",
              "</style>\n",
              "<table border=\"1\" class=\"dataframe\">\n",
              "  <thead>\n",
              "    <tr style=\"text-align: right;\">\n",
              "      <th></th>\n",
              "      <th>is_canceled</th>\n",
              "      <th>lead_time</th>\n",
              "      <th>arrival_date_year</th>\n",
              "      <th>arrival_date_week_number</th>\n",
              "      <th>arrival_date_day_of_month</th>\n",
              "      <th>stays_in_weekend_nights</th>\n",
              "      <th>stays_in_week_nights</th>\n",
              "      <th>adults</th>\n",
              "      <th>children</th>\n",
              "      <th>babies</th>\n",
              "      <th>is_repeated_guest</th>\n",
              "      <th>previous_cancellations</th>\n",
              "      <th>previous_bookings_not_canceled</th>\n",
              "      <th>booking_changes</th>\n",
              "      <th>agent</th>\n",
              "      <th>days_in_waiting_list</th>\n",
              "      <th>adr</th>\n",
              "      <th>required_car_parking_spaces</th>\n",
              "      <th>total_of_special_requests</th>\n",
              "      <th>hotel</th>\n",
              "      <th>arrival_date_month</th>\n",
              "      <th>meal</th>\n",
              "      <th>country</th>\n",
              "      <th>market_segment</th>\n",
              "      <th>distribution_channel</th>\n",
              "      <th>reserved_room_type</th>\n",
              "      <th>assigned_room_type</th>\n",
              "      <th>deposit_type</th>\n",
              "      <th>customer_type</th>\n",
              "      <th>reservation_status</th>\n",
              "      <th>reservation_status_date</th>\n",
              "    </tr>\n",
              "  </thead>\n",
              "  <tbody>\n",
              "    <tr>\n",
              "      <th>is_canceled</th>\n",
              "      <td>1.000000</td>\n",
              "      <td>0.293123</td>\n",
              "      <td>0.016660</td>\n",
              "      <td>0.008148</td>\n",
              "      <td>-0.006130</td>\n",
              "      <td>-0.001791</td>\n",
              "      <td>0.024765</td>\n",
              "      <td>0.060017</td>\n",
              "      <td>0.005036</td>\n",
              "      <td>-0.032491</td>\n",
              "      <td>-0.084793</td>\n",
              "      <td>0.110133</td>\n",
              "      <td>-0.057358</td>\n",
              "      <td>-0.144381</td>\n",
              "      <td>-0.097730</td>\n",
              "      <td>0.054186</td>\n",
              "      <td>0.047557</td>\n",
              "      <td>-0.195498</td>\n",
              "      <td>-0.234658</td>\n",
              "      <td>-0.136531</td>\n",
              "      <td>-0.001491</td>\n",
              "      <td>-0.017678</td>\n",
              "      <td>0.267742</td>\n",
              "      <td>0.059338</td>\n",
              "      <td>0.167600</td>\n",
              "      <td>-0.061282</td>\n",
              "      <td>-0.176028</td>\n",
              "      <td>0.468634</td>\n",
              "      <td>-0.068140</td>\n",
              "      <td>-0.917196</td>\n",
              "      <td>-0.162135</td>\n",
              "    </tr>\n",
              "    <tr>\n",
              "      <th>lead_time</th>\n",
              "      <td>0.293123</td>\n",
              "      <td>1.000000</td>\n",
              "      <td>0.040142</td>\n",
              "      <td>0.126871</td>\n",
              "      <td>0.002268</td>\n",
              "      <td>0.085671</td>\n",
              "      <td>0.165799</td>\n",
              "      <td>0.119519</td>\n",
              "      <td>-0.037613</td>\n",
              "      <td>-0.020915</td>\n",
              "      <td>-0.124410</td>\n",
              "      <td>0.086042</td>\n",
              "      <td>-0.073548</td>\n",
              "      <td>0.000149</td>\n",
              "      <td>-0.069817</td>\n",
              "      <td>0.170084</td>\n",
              "      <td>-0.063077</td>\n",
              "      <td>-0.116451</td>\n",
              "      <td>-0.095712</td>\n",
              "      <td>-0.075381</td>\n",
              "      <td>0.086228</td>\n",
              "      <td>0.000349</td>\n",
              "      <td>0.052241</td>\n",
              "      <td>0.013797</td>\n",
              "      <td>0.220414</td>\n",
              "      <td>-0.106089</td>\n",
              "      <td>-0.172219</td>\n",
              "      <td>0.375667</td>\n",
              "      <td>0.073403</td>\n",
              "      <td>-0.302175</td>\n",
              "      <td>-0.067107</td>\n",
              "    </tr>\n",
              "    <tr>\n",
              "      <th>arrival_date_year</th>\n",
              "      <td>0.016660</td>\n",
              "      <td>0.040142</td>\n",
              "      <td>1.000000</td>\n",
              "      <td>-0.540561</td>\n",
              "      <td>-0.000221</td>\n",
              "      <td>0.021497</td>\n",
              "      <td>0.030883</td>\n",
              "      <td>0.029635</td>\n",
              "      <td>0.054636</td>\n",
              "      <td>-0.013192</td>\n",
              "      <td>0.010341</td>\n",
              "      <td>-0.119822</td>\n",
              "      <td>0.029218</td>\n",
              "      <td>0.030872</td>\n",
              "      <td>0.050265</td>\n",
              "      <td>-0.056497</td>\n",
              "      <td>0.197580</td>\n",
              "      <td>-0.013684</td>\n",
              "      <td>0.108531</td>\n",
              "      <td>-0.035267</td>\n",
              "      <td>-0.251837</td>\n",
              "      <td>0.065840</td>\n",
              "      <td>-0.153825</td>\n",
              "      <td>0.107697</td>\n",
              "      <td>0.022644</td>\n",
              "      <td>0.092809</td>\n",
              "      <td>0.036141</td>\n",
              "      <td>-0.064714</td>\n",
              "      <td>-0.006149</td>\n",
              "      <td>-0.017683</td>\n",
              "      <td>0.897770</td>\n",
              "    </tr>\n",
              "    <tr>\n",
              "      <th>arrival_date_week_number</th>\n",
              "      <td>0.008148</td>\n",
              "      <td>0.126871</td>\n",
              "      <td>-0.540561</td>\n",
              "      <td>1.000000</td>\n",
              "      <td>0.066809</td>\n",
              "      <td>0.018208</td>\n",
              "      <td>0.015558</td>\n",
              "      <td>0.025909</td>\n",
              "      <td>0.005515</td>\n",
              "      <td>0.010395</td>\n",
              "      <td>-0.030131</td>\n",
              "      <td>0.035501</td>\n",
              "      <td>-0.020904</td>\n",
              "      <td>0.005508</td>\n",
              "      <td>-0.031403</td>\n",
              "      <td>0.022933</td>\n",
              "      <td>0.075791</td>\n",
              "      <td>0.001920</td>\n",
              "      <td>0.026149</td>\n",
              "      <td>-0.001270</td>\n",
              "      <td>0.302228</td>\n",
              "      <td>-0.017381</td>\n",
              "      <td>0.025653</td>\n",
              "      <td>-0.000510</td>\n",
              "      <td>0.005699</td>\n",
              "      <td>-0.007997</td>\n",
              "      <td>-0.005684</td>\n",
              "      <td>0.003891</td>\n",
              "      <td>-0.028432</td>\n",
              "      <td>-0.017387</td>\n",
              "      <td>-0.212113</td>\n",
              "    </tr>\n",
              "    <tr>\n",
              "      <th>arrival_date_day_of_month</th>\n",
              "      <td>-0.006130</td>\n",
              "      <td>0.002268</td>\n",
              "      <td>-0.000221</td>\n",
              "      <td>0.066809</td>\n",
              "      <td>1.000000</td>\n",
              "      <td>-0.016354</td>\n",
              "      <td>-0.028174</td>\n",
              "      <td>-0.001566</td>\n",
              "      <td>0.014553</td>\n",
              "      <td>-0.000230</td>\n",
              "      <td>-0.006145</td>\n",
              "      <td>-0.027011</td>\n",
              "      <td>-0.000300</td>\n",
              "      <td>0.010613</td>\n",
              "      <td>0.007462</td>\n",
              "      <td>0.022728</td>\n",
              "      <td>0.030245</td>\n",
              "      <td>0.008683</td>\n",
              "      <td>0.003062</td>\n",
              "      <td>0.001862</td>\n",
              "      <td>-0.017938</td>\n",
              "      <td>-0.007086</td>\n",
              "      <td>-0.000752</td>\n",
              "      <td>-0.004088</td>\n",
              "      <td>0.001578</td>\n",
              "      <td>0.016929</td>\n",
              "      <td>0.011646</td>\n",
              "      <td>-0.001358</td>\n",
              "      <td>0.012188</td>\n",
              "      <td>0.011460</td>\n",
              "      <td>0.032455</td>\n",
              "    </tr>\n",
              "    <tr>\n",
              "      <th>stays_in_weekend_nights</th>\n",
              "      <td>-0.001791</td>\n",
              "      <td>0.085671</td>\n",
              "      <td>0.021497</td>\n",
              "      <td>0.018208</td>\n",
              "      <td>-0.016354</td>\n",
              "      <td>1.000000</td>\n",
              "      <td>0.498969</td>\n",
              "      <td>0.091871</td>\n",
              "      <td>0.045794</td>\n",
              "      <td>0.018483</td>\n",
              "      <td>-0.087239</td>\n",
              "      <td>-0.012775</td>\n",
              "      <td>-0.042715</td>\n",
              "      <td>0.063281</td>\n",
              "      <td>0.114511</td>\n",
              "      <td>-0.054151</td>\n",
              "      <td>0.049342</td>\n",
              "      <td>-0.018554</td>\n",
              "      <td>0.072671</td>\n",
              "      <td>0.186596</td>\n",
              "      <td>-0.031869</td>\n",
              "      <td>0.045744</td>\n",
              "      <td>-0.128087</td>\n",
              "      <td>0.115350</td>\n",
              "      <td>0.093097</td>\n",
              "      <td>0.142083</td>\n",
              "      <td>0.086643</td>\n",
              "      <td>-0.111435</td>\n",
              "      <td>-0.109220</td>\n",
              "      <td>0.008558</td>\n",
              "      <td>0.045396</td>\n",
              "    </tr>\n",
              "    <tr>\n",
              "      <th>stays_in_week_nights</th>\n",
              "      <td>0.024765</td>\n",
              "      <td>0.165799</td>\n",
              "      <td>0.030883</td>\n",
              "      <td>0.015558</td>\n",
              "      <td>-0.028174</td>\n",
              "      <td>0.498969</td>\n",
              "      <td>1.000000</td>\n",
              "      <td>0.092976</td>\n",
              "      <td>0.044203</td>\n",
              "      <td>0.020191</td>\n",
              "      <td>-0.097245</td>\n",
              "      <td>-0.013992</td>\n",
              "      <td>-0.048743</td>\n",
              "      <td>0.096209</td>\n",
              "      <td>0.155114</td>\n",
              "      <td>-0.002020</td>\n",
              "      <td>0.065237</td>\n",
              "      <td>-0.024859</td>\n",
              "      <td>0.068192</td>\n",
              "      <td>0.234020</td>\n",
              "      <td>-0.025746</td>\n",
              "      <td>0.036742</td>\n",
              "      <td>-0.120745</td>\n",
              "      <td>0.108569</td>\n",
              "      <td>0.087185</td>\n",
              "      <td>0.168616</td>\n",
              "      <td>0.100795</td>\n",
              "      <td>-0.076788</td>\n",
              "      <td>-0.127223</td>\n",
              "      <td>-0.021607</td>\n",
              "      <td>0.035957</td>\n",
              "    </tr>\n",
              "    <tr>\n",
              "      <th>adults</th>\n",
              "      <td>0.060017</td>\n",
              "      <td>0.119519</td>\n",
              "      <td>0.029635</td>\n",
              "      <td>0.025909</td>\n",
              "      <td>-0.001566</td>\n",
              "      <td>0.091871</td>\n",
              "      <td>0.092976</td>\n",
              "      <td>1.000000</td>\n",
              "      <td>0.030440</td>\n",
              "      <td>0.018146</td>\n",
              "      <td>-0.146426</td>\n",
              "      <td>-0.006738</td>\n",
              "      <td>-0.107983</td>\n",
              "      <td>-0.051673</td>\n",
              "      <td>-0.025957</td>\n",
              "      <td>-0.008283</td>\n",
              "      <td>0.230641</td>\n",
              "      <td>0.014785</td>\n",
              "      <td>0.122884</td>\n",
              "      <td>0.013183</td>\n",
              "      <td>-0.058284</td>\n",
              "      <td>0.026327</td>\n",
              "      <td>-0.109455</td>\n",
              "      <td>0.208409</td>\n",
              "      <td>0.178978</td>\n",
              "      <td>0.211434</td>\n",
              "      <td>0.144779</td>\n",
              "      <td>-0.027644</td>\n",
              "      <td>-0.101756</td>\n",
              "      <td>-0.071802</td>\n",
              "      <td>0.026009</td>\n",
              "    </tr>\n",
              "    <tr>\n",
              "      <th>children</th>\n",
              "      <td>0.005036</td>\n",
              "      <td>-0.037613</td>\n",
              "      <td>0.054636</td>\n",
              "      <td>0.005515</td>\n",
              "      <td>0.014553</td>\n",
              "      <td>0.045794</td>\n",
              "      <td>0.044203</td>\n",
              "      <td>0.030440</td>\n",
              "      <td>1.000000</td>\n",
              "      <td>0.024030</td>\n",
              "      <td>-0.032858</td>\n",
              "      <td>-0.024729</td>\n",
              "      <td>-0.021072</td>\n",
              "      <td>0.048952</td>\n",
              "      <td>0.030511</td>\n",
              "      <td>-0.033271</td>\n",
              "      <td>0.324853</td>\n",
              "      <td>0.056255</td>\n",
              "      <td>0.081736</td>\n",
              "      <td>0.044210</td>\n",
              "      <td>-0.082862</td>\n",
              "      <td>-0.049794</td>\n",
              "      <td>-0.039332</td>\n",
              "      <td>0.087346</td>\n",
              "      <td>0.008320</td>\n",
              "      <td>0.378064</td>\n",
              "      <td>0.327644</td>\n",
              "      <td>-0.096078</td>\n",
              "      <td>-0.053400</td>\n",
              "      <td>-0.003399</td>\n",
              "      <td>0.069636</td>\n",
              "    </tr>\n",
              "    <tr>\n",
              "      <th>babies</th>\n",
              "      <td>-0.032491</td>\n",
              "      <td>-0.020915</td>\n",
              "      <td>-0.013192</td>\n",
              "      <td>0.010395</td>\n",
              "      <td>-0.000230</td>\n",
              "      <td>0.018483</td>\n",
              "      <td>0.020191</td>\n",
              "      <td>0.018146</td>\n",
              "      <td>0.024030</td>\n",
              "      <td>1.000000</td>\n",
              "      <td>-0.008943</td>\n",
              "      <td>-0.007501</td>\n",
              "      <td>-0.006550</td>\n",
              "      <td>0.083440</td>\n",
              "      <td>0.032069</td>\n",
              "      <td>-0.010621</td>\n",
              "      <td>0.029186</td>\n",
              "      <td>0.037383</td>\n",
              "      <td>0.097889</td>\n",
              "      <td>0.043434</td>\n",
              "      <td>-0.012196</td>\n",
              "      <td>0.002864</td>\n",
              "      <td>0.005207</td>\n",
              "      <td>-0.015457</td>\n",
              "      <td>-0.027796</td>\n",
              "      <td>0.038794</td>\n",
              "      <td>0.041244</td>\n",
              "      <td>-0.030443</td>\n",
              "      <td>-0.016137</td>\n",
              "      <td>0.030971</td>\n",
              "      <td>-0.002882</td>\n",
              "    </tr>\n",
              "    <tr>\n",
              "      <th>is_repeated_guest</th>\n",
              "      <td>-0.084793</td>\n",
              "      <td>-0.124410</td>\n",
              "      <td>0.010341</td>\n",
              "      <td>-0.030131</td>\n",
              "      <td>-0.006145</td>\n",
              "      <td>-0.087239</td>\n",
              "      <td>-0.097245</td>\n",
              "      <td>-0.146426</td>\n",
              "      <td>-0.032858</td>\n",
              "      <td>-0.008943</td>\n",
              "      <td>1.000000</td>\n",
              "      <td>0.082293</td>\n",
              "      <td>0.418056</td>\n",
              "      <td>0.012092</td>\n",
              "      <td>0.030303</td>\n",
              "      <td>-0.022235</td>\n",
              "      <td>-0.134314</td>\n",
              "      <td>0.077090</td>\n",
              "      <td>0.013050</td>\n",
              "      <td>0.050421</td>\n",
              "      <td>-0.002183</td>\n",
              "      <td>-0.057009</td>\n",
              "      <td>0.129612</td>\n",
              "      <td>-0.250286</td>\n",
              "      <td>-0.263219</td>\n",
              "      <td>-0.029537</td>\n",
              "      <td>0.032441</td>\n",
              "      <td>-0.057502</td>\n",
              "      <td>-0.017111</td>\n",
              "      <td>0.083504</td>\n",
              "      <td>0.014747</td>\n",
              "    </tr>\n",
              "    <tr>\n",
              "      <th>previous_cancellations</th>\n",
              "      <td>0.110133</td>\n",
              "      <td>0.086042</td>\n",
              "      <td>-0.119822</td>\n",
              "      <td>0.035501</td>\n",
              "      <td>-0.027011</td>\n",
              "      <td>-0.012775</td>\n",
              "      <td>-0.013992</td>\n",
              "      <td>-0.006738</td>\n",
              "      <td>-0.024729</td>\n",
              "      <td>-0.007501</td>\n",
              "      <td>0.082293</td>\n",
              "      <td>1.000000</td>\n",
              "      <td>0.152728</td>\n",
              "      <td>-0.026993</td>\n",
              "      <td>-0.000622</td>\n",
              "      <td>0.005929</td>\n",
              "      <td>-0.065646</td>\n",
              "      <td>-0.018492</td>\n",
              "      <td>-0.048384</td>\n",
              "      <td>0.012292</td>\n",
              "      <td>0.040395</td>\n",
              "      <td>-0.003772</td>\n",
              "      <td>0.077345</td>\n",
              "      <td>-0.059645</td>\n",
              "      <td>-0.022483</td>\n",
              "      <td>-0.048809</td>\n",
              "      <td>-0.058457</td>\n",
              "      <td>0.139401</td>\n",
              "      <td>-0.008188</td>\n",
              "      <td>-0.110758</td>\n",
              "      <td>-0.151006</td>\n",
              "    </tr>\n",
              "    <tr>\n",
              "      <th>previous_bookings_not_canceled</th>\n",
              "      <td>-0.057358</td>\n",
              "      <td>-0.073548</td>\n",
              "      <td>0.029218</td>\n",
              "      <td>-0.020904</td>\n",
              "      <td>-0.000300</td>\n",
              "      <td>-0.042715</td>\n",
              "      <td>-0.048743</td>\n",
              "      <td>-0.107983</td>\n",
              "      <td>-0.021072</td>\n",
              "      <td>-0.006550</td>\n",
              "      <td>0.418056</td>\n",
              "      <td>0.152728</td>\n",
              "      <td>1.000000</td>\n",
              "      <td>0.011608</td>\n",
              "      <td>-0.001425</td>\n",
              "      <td>-0.009397</td>\n",
              "      <td>-0.072144</td>\n",
              "      <td>0.047653</td>\n",
              "      <td>0.037824</td>\n",
              "      <td>0.004441</td>\n",
              "      <td>-0.003950</td>\n",
              "      <td>-0.040417</td>\n",
              "      <td>0.076385</td>\n",
              "      <td>-0.179589</td>\n",
              "      <td>-0.204731</td>\n",
              "      <td>-0.021771</td>\n",
              "      <td>0.003133</td>\n",
              "      <td>-0.031475</td>\n",
              "      <td>-0.012259</td>\n",
              "      <td>0.055051</td>\n",
              "      <td>0.035730</td>\n",
              "    </tr>\n",
              "    <tr>\n",
              "      <th>booking_changes</th>\n",
              "      <td>-0.144381</td>\n",
              "      <td>0.000149</td>\n",
              "      <td>0.030872</td>\n",
              "      <td>0.005508</td>\n",
              "      <td>0.010613</td>\n",
              "      <td>0.063281</td>\n",
              "      <td>0.096209</td>\n",
              "      <td>-0.051673</td>\n",
              "      <td>0.048952</td>\n",
              "      <td>0.083440</td>\n",
              "      <td>0.012092</td>\n",
              "      <td>-0.026993</td>\n",
              "      <td>0.011608</td>\n",
              "      <td>1.000000</td>\n",
              "      <td>0.075734</td>\n",
              "      <td>-0.011634</td>\n",
              "      <td>0.019618</td>\n",
              "      <td>0.065620</td>\n",
              "      <td>0.052833</td>\n",
              "      <td>0.072820</td>\n",
              "      <td>-0.017854</td>\n",
              "      <td>0.024650</td>\n",
              "      <td>-0.040540</td>\n",
              "      <td>-0.071818</td>\n",
              "      <td>-0.113601</td>\n",
              "      <td>0.045060</td>\n",
              "      <td>0.096162</td>\n",
              "      <td>-0.112153</td>\n",
              "      <td>0.092029</td>\n",
              "      <td>0.140799</td>\n",
              "      <td>0.071282</td>\n",
              "    </tr>\n",
              "    <tr>\n",
              "      <th>agent</th>\n",
              "      <td>-0.097730</td>\n",
              "      <td>-0.069817</td>\n",
              "      <td>0.050265</td>\n",
              "      <td>-0.031403</td>\n",
              "      <td>0.007462</td>\n",
              "      <td>0.114511</td>\n",
              "      <td>0.155114</td>\n",
              "      <td>-0.025957</td>\n",
              "      <td>0.030511</td>\n",
              "      <td>0.032069</td>\n",
              "      <td>0.030303</td>\n",
              "      <td>-0.000622</td>\n",
              "      <td>-0.001425</td>\n",
              "      <td>0.075734</td>\n",
              "      <td>1.000000</td>\n",
              "      <td>-0.054751</td>\n",
              "      <td>-0.055093</td>\n",
              "      <td>0.177869</td>\n",
              "      <td>0.015631</td>\n",
              "      <td>0.792295</td>\n",
              "      <td>-0.032411</td>\n",
              "      <td>-0.040577</td>\n",
              "      <td>0.071486</td>\n",
              "      <td>-0.089412</td>\n",
              "      <td>-0.169420</td>\n",
              "      <td>0.191326</td>\n",
              "      <td>0.235419</td>\n",
              "      <td>-0.096146</td>\n",
              "      <td>0.060467</td>\n",
              "      <td>0.089591</td>\n",
              "      <td>0.071721</td>\n",
              "    </tr>\n",
              "    <tr>\n",
              "      <th>days_in_waiting_list</th>\n",
              "      <td>0.054186</td>\n",
              "      <td>0.170084</td>\n",
              "      <td>-0.056497</td>\n",
              "      <td>0.022933</td>\n",
              "      <td>0.022728</td>\n",
              "      <td>-0.054151</td>\n",
              "      <td>-0.002020</td>\n",
              "      <td>-0.008283</td>\n",
              "      <td>-0.033271</td>\n",
              "      <td>-0.010621</td>\n",
              "      <td>-0.022235</td>\n",
              "      <td>0.005929</td>\n",
              "      <td>-0.009397</td>\n",
              "      <td>-0.011634</td>\n",
              "      <td>-0.054751</td>\n",
              "      <td>1.000000</td>\n",
              "      <td>-0.040756</td>\n",
              "      <td>-0.030600</td>\n",
              "      <td>-0.082730</td>\n",
              "      <td>-0.072432</td>\n",
              "      <td>0.048357</td>\n",
              "      <td>-0.007132</td>\n",
              "      <td>0.060486</td>\n",
              "      <td>-0.041503</td>\n",
              "      <td>0.048642</td>\n",
              "      <td>-0.068821</td>\n",
              "      <td>-0.068676</td>\n",
              "      <td>0.121017</td>\n",
              "      <td>0.099121</td>\n",
              "      <td>-0.057927</td>\n",
              "      <td>-0.068045</td>\n",
              "    </tr>\n",
              "    <tr>\n",
              "      <th>adr</th>\n",
              "      <td>0.047557</td>\n",
              "      <td>-0.063077</td>\n",
              "      <td>0.197580</td>\n",
              "      <td>0.075791</td>\n",
              "      <td>0.030245</td>\n",
              "      <td>0.049342</td>\n",
              "      <td>0.065237</td>\n",
              "      <td>0.230641</td>\n",
              "      <td>0.324853</td>\n",
              "      <td>0.029186</td>\n",
              "      <td>-0.134314</td>\n",
              "      <td>-0.065646</td>\n",
              "      <td>-0.072144</td>\n",
              "      <td>0.019618</td>\n",
              "      <td>-0.055093</td>\n",
              "      <td>-0.040756</td>\n",
              "      <td>1.000000</td>\n",
              "      <td>0.056628</td>\n",
              "      <td>0.172185</td>\n",
              "      <td>-0.096719</td>\n",
              "      <td>-0.109004</td>\n",
              "      <td>0.059098</td>\n",
              "      <td>-0.115745</td>\n",
              "      <td>0.232763</td>\n",
              "      <td>0.092396</td>\n",
              "      <td>0.392060</td>\n",
              "      <td>0.258134</td>\n",
              "      <td>-0.089838</td>\n",
              "      <td>-0.077155</td>\n",
              "      <td>-0.050520</td>\n",
              "      <td>0.262723</td>\n",
              "    </tr>\n",
              "    <tr>\n",
              "      <th>required_car_parking_spaces</th>\n",
              "      <td>-0.195498</td>\n",
              "      <td>-0.116451</td>\n",
              "      <td>-0.013684</td>\n",
              "      <td>0.001920</td>\n",
              "      <td>0.008683</td>\n",
              "      <td>-0.018554</td>\n",
              "      <td>-0.024859</td>\n",
              "      <td>0.014785</td>\n",
              "      <td>0.056255</td>\n",
              "      <td>0.037383</td>\n",
              "      <td>0.077090</td>\n",
              "      <td>-0.018492</td>\n",
              "      <td>0.047653</td>\n",
              "      <td>0.065620</td>\n",
              "      <td>0.177869</td>\n",
              "      <td>-0.030600</td>\n",
              "      <td>0.056628</td>\n",
              "      <td>1.000000</td>\n",
              "      <td>0.082626</td>\n",
              "      <td>0.218873</td>\n",
              "      <td>-0.018589</td>\n",
              "      <td>-0.038923</td>\n",
              "      <td>0.002706</td>\n",
              "      <td>-0.062226</td>\n",
              "      <td>-0.132280</td>\n",
              "      <td>0.131583</td>\n",
              "      <td>0.160131</td>\n",
              "      <td>-0.090929</td>\n",
              "      <td>-0.030060</td>\n",
              "      <td>0.179310</td>\n",
              "      <td>0.020904</td>\n",
              "    </tr>\n",
              "    <tr>\n",
              "      <th>total_of_special_requests</th>\n",
              "      <td>-0.234658</td>\n",
              "      <td>-0.095712</td>\n",
              "      <td>0.108531</td>\n",
              "      <td>0.026149</td>\n",
              "      <td>0.003062</td>\n",
              "      <td>0.072671</td>\n",
              "      <td>0.068192</td>\n",
              "      <td>0.122884</td>\n",
              "      <td>0.081736</td>\n",
              "      <td>0.097889</td>\n",
              "      <td>0.013050</td>\n",
              "      <td>-0.048384</td>\n",
              "      <td>0.037824</td>\n",
              "      <td>0.052833</td>\n",
              "      <td>0.015631</td>\n",
              "      <td>-0.082730</td>\n",
              "      <td>0.172185</td>\n",
              "      <td>0.082626</td>\n",
              "      <td>1.000000</td>\n",
              "      <td>0.043390</td>\n",
              "      <td>-0.053047</td>\n",
              "      <td>0.023136</td>\n",
              "      <td>-0.164900</td>\n",
              "      <td>0.274373</td>\n",
              "      <td>0.098815</td>\n",
              "      <td>0.137466</td>\n",
              "      <td>0.124683</td>\n",
              "      <td>-0.266672</td>\n",
              "      <td>-0.135624</td>\n",
              "      <td>0.225674</td>\n",
              "      <td>0.195225</td>\n",
              "    </tr>\n",
              "    <tr>\n",
              "      <th>hotel</th>\n",
              "      <td>-0.136531</td>\n",
              "      <td>-0.075381</td>\n",
              "      <td>-0.035267</td>\n",
              "      <td>-0.001270</td>\n",
              "      <td>0.001862</td>\n",
              "      <td>0.186596</td>\n",
              "      <td>0.234020</td>\n",
              "      <td>0.013183</td>\n",
              "      <td>0.044210</td>\n",
              "      <td>0.043434</td>\n",
              "      <td>0.050421</td>\n",
              "      <td>0.012292</td>\n",
              "      <td>0.004441</td>\n",
              "      <td>0.072820</td>\n",
              "      <td>0.792295</td>\n",
              "      <td>-0.072432</td>\n",
              "      <td>-0.096719</td>\n",
              "      <td>0.218873</td>\n",
              "      <td>0.043390</td>\n",
              "      <td>1.000000</td>\n",
              "      <td>-0.035378</td>\n",
              "      <td>-0.008018</td>\n",
              "      <td>0.044741</td>\n",
              "      <td>-0.083795</td>\n",
              "      <td>-0.174419</td>\n",
              "      <td>0.249677</td>\n",
              "      <td>0.307834</td>\n",
              "      <td>-0.159021</td>\n",
              "      <td>-0.047531</td>\n",
              "      <td>0.124331</td>\n",
              "      <td>-0.005842</td>\n",
              "    </tr>\n",
              "    <tr>\n",
              "      <th>arrival_date_month</th>\n",
              "      <td>-0.001491</td>\n",
              "      <td>0.086228</td>\n",
              "      <td>-0.251837</td>\n",
              "      <td>0.302228</td>\n",
              "      <td>-0.017938</td>\n",
              "      <td>-0.031869</td>\n",
              "      <td>-0.025746</td>\n",
              "      <td>-0.058284</td>\n",
              "      <td>-0.082862</td>\n",
              "      <td>-0.012196</td>\n",
              "      <td>-0.002183</td>\n",
              "      <td>0.040395</td>\n",
              "      <td>-0.003950</td>\n",
              "      <td>-0.017854</td>\n",
              "      <td>-0.032411</td>\n",
              "      <td>0.048357</td>\n",
              "      <td>-0.109004</td>\n",
              "      <td>-0.018589</td>\n",
              "      <td>-0.053047</td>\n",
              "      <td>-0.035378</td>\n",
              "      <td>1.000000</td>\n",
              "      <td>-0.062711</td>\n",
              "      <td>0.026309</td>\n",
              "      <td>-0.051119</td>\n",
              "      <td>-0.020639</td>\n",
              "      <td>-0.062791</td>\n",
              "      <td>-0.038134</td>\n",
              "      <td>0.068173</td>\n",
              "      <td>0.012029</td>\n",
              "      <td>-0.001611</td>\n",
              "      <td>-0.171977</td>\n",
              "    </tr>\n",
              "    <tr>\n",
              "      <th>meal</th>\n",
              "      <td>-0.017678</td>\n",
              "      <td>0.000349</td>\n",
              "      <td>0.065840</td>\n",
              "      <td>-0.017381</td>\n",
              "      <td>-0.007086</td>\n",
              "      <td>0.045744</td>\n",
              "      <td>0.036742</td>\n",
              "      <td>0.026327</td>\n",
              "      <td>-0.049794</td>\n",
              "      <td>0.002864</td>\n",
              "      <td>-0.057009</td>\n",
              "      <td>-0.003772</td>\n",
              "      <td>-0.040417</td>\n",
              "      <td>0.024650</td>\n",
              "      <td>-0.040577</td>\n",
              "      <td>-0.007132</td>\n",
              "      <td>0.059098</td>\n",
              "      <td>-0.038923</td>\n",
              "      <td>0.023136</td>\n",
              "      <td>-0.008018</td>\n",
              "      <td>-0.062711</td>\n",
              "      <td>1.000000</td>\n",
              "      <td>-0.089263</td>\n",
              "      <td>0.145132</td>\n",
              "      <td>0.116957</td>\n",
              "      <td>-0.120749</td>\n",
              "      <td>-0.120792</td>\n",
              "      <td>-0.092151</td>\n",
              "      <td>0.044658</td>\n",
              "      <td>0.015393</td>\n",
              "      <td>0.084063</td>\n",
              "    </tr>\n",
              "    <tr>\n",
              "      <th>country</th>\n",
              "      <td>0.267742</td>\n",
              "      <td>0.052241</td>\n",
              "      <td>-0.153825</td>\n",
              "      <td>0.025653</td>\n",
              "      <td>-0.000752</td>\n",
              "      <td>-0.128087</td>\n",
              "      <td>-0.120745</td>\n",
              "      <td>-0.109455</td>\n",
              "      <td>-0.039332</td>\n",
              "      <td>0.005207</td>\n",
              "      <td>0.129612</td>\n",
              "      <td>0.077345</td>\n",
              "      <td>0.076385</td>\n",
              "      <td>-0.040540</td>\n",
              "      <td>0.071486</td>\n",
              "      <td>0.060486</td>\n",
              "      <td>-0.115745</td>\n",
              "      <td>0.002706</td>\n",
              "      <td>-0.164900</td>\n",
              "      <td>0.044741</td>\n",
              "      <td>0.026309</td>\n",
              "      <td>-0.089263</td>\n",
              "      <td>1.000000</td>\n",
              "      <td>-0.268400</td>\n",
              "      <td>-0.128605</td>\n",
              "      <td>-0.101142</td>\n",
              "      <td>-0.077897</td>\n",
              "      <td>0.323898</td>\n",
              "      <td>0.026521</td>\n",
              "      <td>-0.243888</td>\n",
              "      <td>-0.229049</td>\n",
              "    </tr>\n",
              "    <tr>\n",
              "      <th>market_segment</th>\n",
              "      <td>0.059338</td>\n",
              "      <td>0.013797</td>\n",
              "      <td>0.107697</td>\n",
              "      <td>-0.000510</td>\n",
              "      <td>-0.004088</td>\n",
              "      <td>0.115350</td>\n",
              "      <td>0.108569</td>\n",
              "      <td>0.208409</td>\n",
              "      <td>0.087346</td>\n",
              "      <td>-0.015457</td>\n",
              "      <td>-0.250286</td>\n",
              "      <td>-0.059645</td>\n",
              "      <td>-0.179589</td>\n",
              "      <td>-0.071818</td>\n",
              "      <td>-0.089412</td>\n",
              "      <td>-0.041503</td>\n",
              "      <td>0.232763</td>\n",
              "      <td>-0.062226</td>\n",
              "      <td>0.274373</td>\n",
              "      <td>-0.083795</td>\n",
              "      <td>-0.051119</td>\n",
              "      <td>0.145132</td>\n",
              "      <td>-0.268400</td>\n",
              "      <td>1.000000</td>\n",
              "      <td>0.767751</td>\n",
              "      <td>0.094540</td>\n",
              "      <td>0.026377</td>\n",
              "      <td>-0.184847</td>\n",
              "      <td>-0.165814</td>\n",
              "      <td>-0.061584</td>\n",
              "      <td>0.122392</td>\n",
              "    </tr>\n",
              "    <tr>\n",
              "      <th>distribution_channel</th>\n",
              "      <td>0.167600</td>\n",
              "      <td>0.220414</td>\n",
              "      <td>0.022644</td>\n",
              "      <td>0.005699</td>\n",
              "      <td>0.001578</td>\n",
              "      <td>0.093097</td>\n",
              "      <td>0.087185</td>\n",
              "      <td>0.178978</td>\n",
              "      <td>0.008320</td>\n",
              "      <td>-0.027796</td>\n",
              "      <td>-0.263219</td>\n",
              "      <td>-0.022483</td>\n",
              "      <td>-0.204731</td>\n",
              "      <td>-0.113601</td>\n",
              "      <td>-0.169420</td>\n",
              "      <td>0.048642</td>\n",
              "      <td>0.092396</td>\n",
              "      <td>-0.132280</td>\n",
              "      <td>0.098815</td>\n",
              "      <td>-0.174419</td>\n",
              "      <td>-0.020639</td>\n",
              "      <td>0.116957</td>\n",
              "      <td>-0.128605</td>\n",
              "      <td>0.767751</td>\n",
              "      <td>1.000000</td>\n",
              "      <td>-0.041720</td>\n",
              "      <td>-0.104502</td>\n",
              "      <td>0.092580</td>\n",
              "      <td>-0.069640</td>\n",
              "      <td>-0.171330</td>\n",
              "      <td>-0.018090</td>\n",
              "    </tr>\n",
              "    <tr>\n",
              "      <th>reserved_room_type</th>\n",
              "      <td>-0.061282</td>\n",
              "      <td>-0.106089</td>\n",
              "      <td>0.092809</td>\n",
              "      <td>-0.007997</td>\n",
              "      <td>0.016929</td>\n",
              "      <td>0.142083</td>\n",
              "      <td>0.168616</td>\n",
              "      <td>0.211434</td>\n",
              "      <td>0.378064</td>\n",
              "      <td>0.038794</td>\n",
              "      <td>-0.029537</td>\n",
              "      <td>-0.048809</td>\n",
              "      <td>-0.021771</td>\n",
              "      <td>0.045060</td>\n",
              "      <td>0.191326</td>\n",
              "      <td>-0.068821</td>\n",
              "      <td>0.392060</td>\n",
              "      <td>0.131583</td>\n",
              "      <td>0.137466</td>\n",
              "      <td>0.249677</td>\n",
              "      <td>-0.062791</td>\n",
              "      <td>-0.120749</td>\n",
              "      <td>-0.101142</td>\n",
              "      <td>0.094540</td>\n",
              "      <td>-0.041720</td>\n",
              "      <td>1.000000</td>\n",
              "      <td>0.814005</td>\n",
              "      <td>-0.199689</td>\n",
              "      <td>-0.120978</td>\n",
              "      <td>0.058693</td>\n",
              "      <td>0.129449</td>\n",
              "    </tr>\n",
              "    <tr>\n",
              "      <th>assigned_room_type</th>\n",
              "      <td>-0.176028</td>\n",
              "      <td>-0.172219</td>\n",
              "      <td>0.036141</td>\n",
              "      <td>-0.005684</td>\n",
              "      <td>0.011646</td>\n",
              "      <td>0.086643</td>\n",
              "      <td>0.100795</td>\n",
              "      <td>0.144779</td>\n",
              "      <td>0.327644</td>\n",
              "      <td>0.041244</td>\n",
              "      <td>0.032441</td>\n",
              "      <td>-0.058457</td>\n",
              "      <td>0.003133</td>\n",
              "      <td>0.096162</td>\n",
              "      <td>0.235419</td>\n",
              "      <td>-0.068676</td>\n",
              "      <td>0.258134</td>\n",
              "      <td>0.160131</td>\n",
              "      <td>0.124683</td>\n",
              "      <td>0.307834</td>\n",
              "      <td>-0.038134</td>\n",
              "      <td>-0.120792</td>\n",
              "      <td>-0.077897</td>\n",
              "      <td>0.026377</td>\n",
              "      <td>-0.104502</td>\n",
              "      <td>0.814005</td>\n",
              "      <td>1.000000</td>\n",
              "      <td>-0.242384</td>\n",
              "      <td>-0.084427</td>\n",
              "      <td>0.172537</td>\n",
              "      <td>0.087567</td>\n",
              "    </tr>\n",
              "    <tr>\n",
              "      <th>deposit_type</th>\n",
              "      <td>0.468634</td>\n",
              "      <td>0.375667</td>\n",
              "      <td>-0.064714</td>\n",
              "      <td>0.003891</td>\n",
              "      <td>-0.001358</td>\n",
              "      <td>-0.111435</td>\n",
              "      <td>-0.076788</td>\n",
              "      <td>-0.027644</td>\n",
              "      <td>-0.096078</td>\n",
              "      <td>-0.030443</td>\n",
              "      <td>-0.057502</td>\n",
              "      <td>0.139401</td>\n",
              "      <td>-0.031475</td>\n",
              "      <td>-0.112153</td>\n",
              "      <td>-0.096146</td>\n",
              "      <td>0.121017</td>\n",
              "      <td>-0.089838</td>\n",
              "      <td>-0.090929</td>\n",
              "      <td>-0.266672</td>\n",
              "      <td>-0.159021</td>\n",
              "      <td>0.068173</td>\n",
              "      <td>-0.092151</td>\n",
              "      <td>0.323898</td>\n",
              "      <td>-0.184847</td>\n",
              "      <td>0.092580</td>\n",
              "      <td>-0.199689</td>\n",
              "      <td>-0.242384</td>\n",
              "      <td>1.000000</td>\n",
              "      <td>-0.076404</td>\n",
              "      <td>-0.466185</td>\n",
              "      <td>-0.233171</td>\n",
              "    </tr>\n",
              "    <tr>\n",
              "      <th>customer_type</th>\n",
              "      <td>-0.068140</td>\n",
              "      <td>0.073403</td>\n",
              "      <td>-0.006149</td>\n",
              "      <td>-0.028432</td>\n",
              "      <td>0.012188</td>\n",
              "      <td>-0.109220</td>\n",
              "      <td>-0.127223</td>\n",
              "      <td>-0.101756</td>\n",
              "      <td>-0.053400</td>\n",
              "      <td>-0.016137</td>\n",
              "      <td>-0.017111</td>\n",
              "      <td>-0.008188</td>\n",
              "      <td>-0.012259</td>\n",
              "      <td>0.092029</td>\n",
              "      <td>0.060467</td>\n",
              "      <td>0.099121</td>\n",
              "      <td>-0.077155</td>\n",
              "      <td>-0.030060</td>\n",
              "      <td>-0.135624</td>\n",
              "      <td>-0.047531</td>\n",
              "      <td>0.012029</td>\n",
              "      <td>0.044658</td>\n",
              "      <td>0.026521</td>\n",
              "      <td>-0.165814</td>\n",
              "      <td>-0.069640</td>\n",
              "      <td>-0.120978</td>\n",
              "      <td>-0.084427</td>\n",
              "      <td>-0.076404</td>\n",
              "      <td>1.000000</td>\n",
              "      <td>0.066004</td>\n",
              "      <td>0.013834</td>\n",
              "    </tr>\n",
              "    <tr>\n",
              "      <th>reservation_status</th>\n",
              "      <td>-0.917196</td>\n",
              "      <td>-0.302175</td>\n",
              "      <td>-0.017683</td>\n",
              "      <td>-0.017387</td>\n",
              "      <td>0.011460</td>\n",
              "      <td>0.008558</td>\n",
              "      <td>-0.021607</td>\n",
              "      <td>-0.071802</td>\n",
              "      <td>-0.003399</td>\n",
              "      <td>0.030971</td>\n",
              "      <td>0.083504</td>\n",
              "      <td>-0.110758</td>\n",
              "      <td>0.055051</td>\n",
              "      <td>0.140799</td>\n",
              "      <td>0.089591</td>\n",
              "      <td>-0.057927</td>\n",
              "      <td>-0.050520</td>\n",
              "      <td>0.179310</td>\n",
              "      <td>0.225674</td>\n",
              "      <td>0.124331</td>\n",
              "      <td>-0.001611</td>\n",
              "      <td>0.015393</td>\n",
              "      <td>-0.243888</td>\n",
              "      <td>-0.061584</td>\n",
              "      <td>-0.171330</td>\n",
              "      <td>0.058693</td>\n",
              "      <td>0.172537</td>\n",
              "      <td>-0.466185</td>\n",
              "      <td>0.066004</td>\n",
              "      <td>1.000000</td>\n",
              "      <td>0.156655</td>\n",
              "    </tr>\n",
              "    <tr>\n",
              "      <th>reservation_status_date</th>\n",
              "      <td>-0.162135</td>\n",
              "      <td>-0.067107</td>\n",
              "      <td>0.897770</td>\n",
              "      <td>-0.212113</td>\n",
              "      <td>0.032455</td>\n",
              "      <td>0.045396</td>\n",
              "      <td>0.035957</td>\n",
              "      <td>0.026009</td>\n",
              "      <td>0.069636</td>\n",
              "      <td>-0.002882</td>\n",
              "      <td>0.014747</td>\n",
              "      <td>-0.151006</td>\n",
              "      <td>0.035730</td>\n",
              "      <td>0.071282</td>\n",
              "      <td>0.071721</td>\n",
              "      <td>-0.068045</td>\n",
              "      <td>0.262723</td>\n",
              "      <td>0.020904</td>\n",
              "      <td>0.195225</td>\n",
              "      <td>-0.005842</td>\n",
              "      <td>-0.171977</td>\n",
              "      <td>0.084063</td>\n",
              "      <td>-0.229049</td>\n",
              "      <td>0.122392</td>\n",
              "      <td>-0.018090</td>\n",
              "      <td>0.129449</td>\n",
              "      <td>0.087567</td>\n",
              "      <td>-0.233171</td>\n",
              "      <td>0.013834</td>\n",
              "      <td>0.156655</td>\n",
              "      <td>1.000000</td>\n",
              "    </tr>\n",
              "  </tbody>\n",
              "</table>\n",
              "</div>"
            ],
            "text/plain": [
              "                                is_canceled  ...  reservation_status_date\n",
              "is_canceled                        1.000000  ...                -0.162135\n",
              "lead_time                          0.293123  ...                -0.067107\n",
              "arrival_date_year                  0.016660  ...                 0.897770\n",
              "arrival_date_week_number           0.008148  ...                -0.212113\n",
              "arrival_date_day_of_month         -0.006130  ...                 0.032455\n",
              "stays_in_weekend_nights           -0.001791  ...                 0.045396\n",
              "stays_in_week_nights               0.024765  ...                 0.035957\n",
              "adults                             0.060017  ...                 0.026009\n",
              "children                           0.005036  ...                 0.069636\n",
              "babies                            -0.032491  ...                -0.002882\n",
              "is_repeated_guest                 -0.084793  ...                 0.014747\n",
              "previous_cancellations             0.110133  ...                -0.151006\n",
              "previous_bookings_not_canceled    -0.057358  ...                 0.035730\n",
              "booking_changes                   -0.144381  ...                 0.071282\n",
              "agent                             -0.097730  ...                 0.071721\n",
              "days_in_waiting_list               0.054186  ...                -0.068045\n",
              "adr                                0.047557  ...                 0.262723\n",
              "required_car_parking_spaces       -0.195498  ...                 0.020904\n",
              "total_of_special_requests         -0.234658  ...                 0.195225\n",
              "hotel                             -0.136531  ...                -0.005842\n",
              "arrival_date_month                -0.001491  ...                -0.171977\n",
              "meal                              -0.017678  ...                 0.084063\n",
              "country                            0.267742  ...                -0.229049\n",
              "market_segment                     0.059338  ...                 0.122392\n",
              "distribution_channel               0.167600  ...                -0.018090\n",
              "reserved_room_type                -0.061282  ...                 0.129449\n",
              "assigned_room_type                -0.176028  ...                 0.087567\n",
              "deposit_type                       0.468634  ...                -0.233171\n",
              "customer_type                     -0.068140  ...                 0.013834\n",
              "reservation_status                -0.917196  ...                 0.156655\n",
              "reservation_status_date           -0.162135  ...                 1.000000\n",
              "\n",
              "[31 rows x 31 columns]"
            ]
          },
          "metadata": {
            "tags": []
          },
          "execution_count": 90
        }
      ]
    },
    {
      "cell_type": "code",
      "metadata": {
        "id": "Qun5J_tn--06",
        "colab_type": "code",
        "colab": {}
      },
      "source": [
        ""
      ],
      "execution_count": 0,
      "outputs": []
    }
  ]
}