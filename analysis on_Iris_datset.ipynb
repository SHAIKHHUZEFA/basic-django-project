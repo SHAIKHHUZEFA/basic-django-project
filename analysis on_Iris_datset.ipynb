{
  "nbformat": 4,
  "nbformat_minor": 0,
  "metadata": {
    "kernelspec": {
      "display_name": "Python 3",
      "language": "python",
      "name": "python3"
    },
    "language_info": {
      "codemirror_mode": {
        "name": "ipython",
        "version": 3
      },
      "file_extension": ".py",
      "mimetype": "text/x-python",
      "name": "python",
      "nbconvert_exporter": "python",
      "pygments_lexer": "ipython3",
      "version": "3.7.3"
    },
    "colab": {
      "name": "SVM Demo Iris Usecase.ipynb",
      "provenance": [],
      "collapsed_sections": [],
      "include_colab_link": true
    }
  },
  "cells": [
    {
      "cell_type": "markdown",
      "metadata": {
        "id": "view-in-github",
        "colab_type": "text"
      },
      "source": [
        "<a href=\"https://colab.research.google.com/github/SHAIKHHUZEFA/basic-django-project/blob/master/analysis%20on_Iris_datset.ipynb\" target=\"_parent\"><img src=\"https://colab.research.google.com/assets/colab-badge.svg\" alt=\"Open In Colab\"/></a>"
      ]
    },
    {
      "cell_type": "markdown",
      "metadata": {
        "id": "Bj9qbbwRq0XY",
        "colab_type": "text"
      },
      "source": [
        "\n",
        "\n",
        "\n",
        "\n",
        "\n",
        "\n",
        "\n",
        "\n",
        "\n",
        "\n",
        "\n",
        "\n",
        "\n",
        "\n",
        "\n",
        "### Multi-class Classification"
      ]
    },
    {
      "cell_type": "markdown",
      "metadata": {
        "id": "emz7rShNq0Xb",
        "colab_type": "text"
      },
      "source": [
        "Data with more than 2 unique labels\n",
        "\n",
        "#### Iris Flower Species Prediction\n",
        "\n",
        "Iris Flower Species:\n",
        "1. Setosa\n",
        "2. Versicolor\n",
        "3. Virginica\n",
        "\n"
      ]
    },
    {
      "cell_type": "code",
      "metadata": {
        "id": "Y651YC_2q0Xd",
        "colab_type": "code",
        "colab": {}
      },
      "source": [
        "import warnings\n",
        "warnings.filterwarnings('ignore')"
      ],
      "execution_count": 0,
      "outputs": []
    },
    {
      "cell_type": "code",
      "metadata": {
        "id": "eDofuvaDq0Xk",
        "colab_type": "code",
        "colab": {}
      },
      "source": [
        "import numpy as np\n",
        "import pandas as pd"
      ],
      "execution_count": 0,
      "outputs": []
    },
    {
      "cell_type": "code",
      "metadata": {
        "id": "A58Oqy1Oq0Xq",
        "colab_type": "code",
        "colab": {}
      },
      "source": [
        "data = pd.read_csv('Iris.csv')"
      ],
      "execution_count": 0,
      "outputs": []
    },
    {
      "cell_type": "code",
      "metadata": {
        "id": "2Ac2b4tDq0Xv",
        "colab_type": "code",
        "outputId": "a5568f7d-c379-4ea6-bcf9-e0ffeae43b53",
        "colab": {}
      },
      "source": [
        "data.info()"
      ],
      "execution_count": 0,
      "outputs": [
        {
          "output_type": "stream",
          "text": [
            "<class 'pandas.core.frame.DataFrame'>\n",
            "RangeIndex: 150 entries, 0 to 149\n",
            "Data columns (total 6 columns):\n",
            "Id               150 non-null int64\n",
            "SepalLengthCm    150 non-null float64\n",
            "SepalWidthCm     150 non-null float64\n",
            "PetalLengthCm    150 non-null float64\n",
            "PetalWidthCm     150 non-null float64\n",
            "Species          150 non-null object\n",
            "dtypes: float64(4), int64(1), object(1)\n",
            "memory usage: 7.1+ KB\n"
          ],
          "name": "stdout"
        }
      ]
    },
    {
      "cell_type": "code",
      "metadata": {
        "id": "JILXanpOq0X3",
        "colab_type": "code",
        "outputId": "2afeb159-11a5-497a-de71-6036825ad1ea",
        "colab": {}
      },
      "source": [
        "data.Species.value_counts()"
      ],
      "execution_count": 0,
      "outputs": [
        {
          "output_type": "execute_result",
          "data": {
            "text/plain": [
              "Iris-setosa        50\n",
              "Iris-virginica     50\n",
              "Iris-versicolor    50\n",
              "Name: Species, dtype: int64"
            ]
          },
          "metadata": {
            "tags": []
          },
          "execution_count": 6
        }
      ]
    },
    {
      "cell_type": "code",
      "metadata": {
        "id": "QENgiftoq0X9",
        "colab_type": "code",
        "colab": {}
      },
      "source": [
        "features = data.iloc[:,[1,2,3,4]].values\n",
        "label = data.iloc[:,5].values"
      ],
      "execution_count": 0,
      "outputs": []
    },
    {
      "cell_type": "code",
      "metadata": {
        "id": "sbTKGVZAq0YD",
        "colab_type": "code",
        "colab": {}
      },
      "source": [
        "from sklearn.model_selection import train_test_split\n",
        "X_train,X_test,y_train,y_test = train_test_split(features,\n",
        "                                                label,\n",
        "                                                test_size=0.2,\n",
        "                                                random_state=10)"
      ],
      "execution_count": 0,
      "outputs": []
    },
    {
      "cell_type": "code",
      "metadata": {
        "id": "nXEIn_gXq0YI",
        "colab_type": "code",
        "outputId": "87da2f51-91f5-4867-a20c-95dd93b1922f",
        "colab": {}
      },
      "source": [
        "from sklearn.svm import SVC\n",
        "model = SVC()\n",
        "model.fit(X_train,y_train)"
      ],
      "execution_count": 0,
      "outputs": [
        {
          "output_type": "execute_result",
          "data": {
            "text/plain": [
              "SVC(C=1.0, cache_size=200, class_weight=None, coef0=0.0,\n",
              "  decision_function_shape='ovr', degree=3, gamma='auto_deprecated',\n",
              "  kernel='rbf', max_iter=-1, probability=False, random_state=None,\n",
              "  shrinking=True, tol=0.001, verbose=False)"
            ]
          },
          "metadata": {
            "tags": []
          },
          "execution_count": 14
        }
      ]
    },
    {
      "cell_type": "code",
      "metadata": {
        "id": "O6wQnEsQq0YO",
        "colab_type": "code",
        "outputId": "c49934be-1b02-48fa-e215-f65d11b2f946",
        "colab": {}
      },
      "source": [
        "#Quality\n",
        "#1. Generalization\n",
        "print(model.score(X_train,y_train))\n",
        "print(model.score(X_test,y_test))"
      ],
      "execution_count": 0,
      "outputs": [
        {
          "output_type": "stream",
          "text": [
            "0.975\n",
            "1.0\n"
          ],
          "name": "stdout"
        }
      ]
    },
    {
      "cell_type": "code",
      "metadata": {
        "id": "R9Z65vo0q0YT",
        "colab_type": "code",
        "outputId": "2b051e3c-0026-4f8d-aebe-e6c2cd20acf3",
        "colab": {}
      },
      "source": [
        "from sklearn.metrics import confusion_matrix,classification_report\n",
        "print(confusion_matrix(data.Species,model.predict(features)))\n",
        "print(classification_report(data.Species,model.predict(features)))"
      ],
      "execution_count": 0,
      "outputs": [
        {
          "output_type": "stream",
          "text": [
            "[[50  0  0]\n",
            " [ 0 47  3]\n",
            " [ 0  0 50]]\n",
            "                 precision    recall  f1-score   support\n",
            "\n",
            "    Iris-setosa       1.00      1.00      1.00        50\n",
            "Iris-versicolor       1.00      0.94      0.97        50\n",
            " Iris-virginica       0.94      1.00      0.97        50\n",
            "\n",
            "      micro avg       0.98      0.98      0.98       150\n",
            "      macro avg       0.98      0.98      0.98       150\n",
            "   weighted avg       0.98      0.98      0.98       150\n",
            "\n"
          ],
          "name": "stdout"
        }
      ]
    },
    {
      "cell_type": "code",
      "metadata": {
        "id": "ZybdXKxVq0YZ",
        "colab_type": "code",
        "outputId": "42f5308d-49ba-45cf-b871-56e5e703c703",
        "colab": {}
      },
      "source": [
        " model.score(features,label)"
      ],
      "execution_count": 0,
      "outputs": [
        {
          "output_type": "execute_result",
          "data": {
            "text/plain": [
              "0.98"
            ]
          },
          "metadata": {
            "tags": []
          },
          "execution_count": 19
        }
      ]
    },
    {
      "cell_type": "code",
      "metadata": {
        "id": "9GiwhhZHq0Ye",
        "colab_type": "code",
        "colab": {}
      },
      "source": [
        ""
      ],
      "execution_count": 0,
      "outputs": []
    },
    {
      "cell_type": "code",
      "metadata": {
        "id": "4HlTN7w9q0Yj",
        "colab_type": "code",
        "colab": {}
      },
      "source": [
        "labelNumeric = data.Species.replace(['Iris-setosa','Iris-versicolor','Iris-virginica'],[0,1,2])"
      ],
      "execution_count": 0,
      "outputs": []
    },
    {
      "cell_type": "code",
      "metadata": {
        "id": "mTEdRgdDtUE2",
        "colab_type": "code",
        "colab": {}
      },
      "source": [
        "finalLabel=data.Species.values"
      ],
      "execution_count": 0,
      "outputs": []
    },
    {
      "cell_type": "code",
      "metadata": {
        "id": "_PqX2_m2q0Yo",
        "colab_type": "code",
        "colab": {}
      },
      "source": [
        "finalLabel = labelNumeric.values"
      ],
      "execution_count": 0,
      "outputs": []
    },
    {
      "cell_type": "code",
      "metadata": {
        "id": "rauzkfLLq0Yt",
        "colab_type": "code",
        "outputId": "adee2a55-edf3-40da-addb-111f57b96364",
        "colab": {}
      },
      "source": [
        "#label\n",
        "#from sklearn.svm import SVC\n",
        "#model1 = SVC(kernel='linear')\n",
        "#model1.fit(features[:,0:2],finalLabel)\n",
        "\n",
        "#from sklearn.neighbors import KNeighborsClassifier\n",
        "#model1 = KNeighborsClassifier(n_neighbors=5)\n",
        "#model1.fit(features[:,0:2],finalLabel)\n",
        "\n",
        "from sklearn.linear_model import LogisticRegression\n",
        "model1 = LogisticRegression()\n",
        "model1.fit(features[:,0:2],finalLabel)\n",
        "\n",
        "import matplotlib.pyplot as plt\n",
        "%matplotlib inline\n",
        "\n",
        "from mlxtend.plotting import plot_decision_regions\n",
        "# Plotting decision regions\n",
        "plot_decision_regions(features[:,0:2], labelNumeric.values, clf=model1, legend=2)\n",
        "\n",
        "# Adding axes annotations\n",
        "plt.xlabel('sepal length [cm]')\n",
        "plt.ylabel('petal length [cm]')\n",
        "plt.title('SVM on Iris')\n",
        "plt.show()"
      ],
      "execution_count": 0,
      "outputs": [
        {
          "output_type": "display_data",
          "data": {
            "image/png": "[encoded data removed]",
            "text/plain": [
              "<Figure size 432x288 with 1 Axes>"
            ]
          },
          "metadata": {
            "tags": [],
            "needs_background": "light"
          }
        }
      ]
    },
    {
      "cell_type": "code",
      "metadata": {
        "id": "M351FuzXq0Yz",
        "colab_type": "code",
        "colab": {}
      },
      "source": [
        "#To install mlxtend\n",
        "# In anaconda prompt, type the following command\n",
        "# pip install mlxtend"
      ],
      "execution_count": 0,
      "outputs": []
    }
  ]
}